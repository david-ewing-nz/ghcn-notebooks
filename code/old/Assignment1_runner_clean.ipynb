{
 "cells": [
  {
   "cell_type": "markdown",
   "id": "a047de92",
   "metadata": {},
   "source": [
    "# Assignment 1 — Runner (Option B)\n",
    "\n",
    "This runner imports **assignment.py** (your reusable functions) and calls them.\n",
    "\n",
    "Original notebook remains untouched for grading: `DATA420-25S2 Assignment 1.ipynb`."
   ]
  },
  {
   "cell_type": "code",
   "execution_count": 1,
   "id": "7e2d306e",
   "metadata": {},
   "outputs": [],
   "source": [
    "# Runner for Assignment 1 (Option B)\n",
    "\n",
    "# Import your reusable functions from assignment.py\n",
    "import assignment as a1\n",
    "\n",
    "# If Python still cannot find assignment.py, ensure this notebook \n",
    "# is in the same folder as assignment.py, or uncomment the code below:\n",
    "# import sys, pathlib\n",
    "# sys.path.append(str(pathlib.Path.cwd()))\n"
   ]
  }
 ],
 "metadata": {
  "kernelspec": {
   "display_name": "Python 3 (ipykernel)",
   "language": "python",
   "name": "python3"
  },
  "language_info": {
   "codemirror_mode": {
    "name": "ipython",
    "version": 3
   },
   "file_extension": ".py",
   "mimetype": "text/x-python",
   "name": "python",
   "nbconvert_exporter": "python",
   "pygments_lexer": "ipython3",
   "version": "3.8.10"
  }
 },
 "nbformat": 4,
 "nbformat_minor": 5
}
