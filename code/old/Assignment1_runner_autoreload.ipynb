{
 "cells": [
  {
   "cell_type": "markdown",
   "id": "6a79a2a3",
   "metadata": {},
   "source": [
    "# Assignment 1 — Runner (Option B, autoreload enabled)\n",
    "\n",
    "This runner imports **`assignment.py`** and sets up **autoreload**, so any edits you save to `assignment.py` are picked up on the next execution *without* restarting the kernel.\n"
   ]
  },
  {
   "cell_type": "code",
   "execution_count": 6,
   "id": "59cd620a",
   "metadata": {},
   "outputs": [
    {
     "name": "stdout",
     "output_type": "stream",
     "text": [
      "The autoreload extension is already loaded. To reload it, use:\n",
      "  %reload_ext autoreload\n",
      "BASE_NOTEBOOK = DATA420-25S2 Assignment 1.ipynb\n",
      "USERNAME      = dew59\n",
      "WASBS_DATA    = wasbs://campus-data@madsstorage002.blob.core.windows.net/ghcnd/\n",
      "WASBS_USER    = wasbs://campus-user@madsstorage002.blob.core.windows.net/dew59/\n"
     ]
    }
   ],
   "source": [
    "# --- Autoreload setup --ONCE ---\n",
    "%load_ext autoreload\n",
    "%autoreload 2\n",
    "\n",
    "\n",
    "# import sys, pathlib\n",
    "# sys.path.append(str(pathlib.Path.cwd()))\n",
    "\n",
    "import assignment as a1\n",
    "\n",
    "\n",
    "base, user, wasbs_data, wasbs_user = a1.setup_paths()\n",
    "print(f\"BASE_NOTEBOOK = {base}\")\n",
    "print(f\"USERNAME      = {user}\")\n",
    "print(f\"WASBS_DATA    = {wasbs_data}\")\n",
    "print(f\"WASBS_USER    = {wasbs_user}\")\n"
   ]
  },
  {
   "cell_type": "code",
   "execution_count": 7,
   "id": "243f97f2",
   "metadata": {},
   "outputs": [
    {
     "ename": "ModuleNotFoundError",
     "evalue": "No module named 'pyspark'",
     "output_type": "error",
     "traceback": [
      "\u001b[0;31m---------------------------------------------------------------------------\u001b[0m",
      "\u001b[0;31mModuleNotFoundError\u001b[0m                       Traceback (most recent call last)",
      "Cell \u001b[0;32mIn[7], line 2\u001b[0m\n\u001b[1;32m      1\u001b[0m \u001b[38;5;66;03m# --- End-to-end call (adjust as you implement stubs in assignment.py) ---\u001b[39;00m\n\u001b[0;32m----> 2\u001b[0m result \u001b[38;5;241m=\u001b[39m \u001b[43ma1\u001b[49m\u001b[38;5;241;43m.\u001b[39;49m\u001b[43mrun_all\u001b[49m\u001b[43m(\u001b[49m\u001b[43musername\u001b[49m\u001b[38;5;241;43m=\u001b[39;49m\u001b[43mwasbs_user\u001b[49m\u001b[38;5;241;43m.\u001b[39;49m\u001b[43msplit\u001b[49m\u001b[43m(\u001b[49m\u001b[38;5;124;43m'\u001b[39;49m\u001b[38;5;124;43m/\u001b[39;49m\u001b[38;5;124;43m'\u001b[39;49m\u001b[43m)\u001b[49m\u001b[43m[\u001b[49m\u001b[38;5;241;43m-\u001b[39;49m\u001b[38;5;241;43m2\u001b[39;49m\u001b[43m]\u001b[49m\u001b[43m \u001b[49m\u001b[38;5;28;43;01mif\u001b[39;49;00m\u001b[43m \u001b[49m\u001b[43mwasbs_user\u001b[49m\u001b[38;5;241;43m.\u001b[39;49m\u001b[43mendswith\u001b[49m\u001b[43m(\u001b[49m\u001b[38;5;124;43m'\u001b[39;49m\u001b[38;5;124;43m/\u001b[39;49m\u001b[38;5;124;43m'\u001b[39;49m\u001b[43m)\u001b[49m\u001b[43m \u001b[49m\u001b[38;5;28;43;01melse\u001b[39;49;00m\u001b[43m \u001b[49m\u001b[38;5;28;43;01mNone\u001b[39;49;00m\u001b[43m)\u001b[49m\n\u001b[1;32m      4\u001b[0m \u001b[38;5;28mprint\u001b[39m(\u001b[38;5;124m\"\u001b[39m\u001b[38;5;130;01m\\n\u001b[39;00m\u001b[38;5;124m--- Answers (partial; will fill as you implement) ---\u001b[39m\u001b[38;5;124m\"\u001b[39m)\n\u001b[1;32m      5\u001b[0m \u001b[38;5;28;01mfor\u001b[39;00m k, v \u001b[38;5;129;01min\u001b[39;00m result\u001b[38;5;241m.\u001b[39mget(\u001b[38;5;124m\"\u001b[39m\u001b[38;5;124manswers\u001b[39m\u001b[38;5;124m\"\u001b[39m, {})\u001b[38;5;241m.\u001b[39mitems():\n",
      "File \u001b[0;32m~/ghcn/code/assignment.py:239\u001b[0m, in \u001b[0;36mrun_all\u001b[0;34m(username, save_prefix)\u001b[0m\n\u001b[1;32m    234\u001b[0m \u001b[38;5;250m\u001b[39m\u001b[38;5;124;03m\"\"\"\u001b[39;00m\n\u001b[1;32m    235\u001b[0m \u001b[38;5;124;03mEnd-to-end: start spark → processing → analysis → (optional) visualizations → stop spark.\u001b[39;00m\n\u001b[1;32m    236\u001b[0m \u001b[38;5;124;03mReturns: {'answers': {...}, 'dfs': {...}}\u001b[39;00m\n\u001b[1;32m    237\u001b[0m \u001b[38;5;124;03m\"\"\"\u001b[39;00m\n\u001b[1;32m    238\u001b[0m base, user, data_root, user_root \u001b[38;5;241m=\u001b[39m setup_paths(username)\n\u001b[0;32m--> 239\u001b[0m spark, sc \u001b[38;5;241m=\u001b[39m \u001b[43mstart_spark\u001b[49m\u001b[43m(\u001b[49m\u001b[43mapp_suffix\u001b[49m\u001b[38;5;241;43m=\u001b[39;49m\u001b[38;5;124;43m\"\u001b[39;49m\u001b[38;5;124;43m(runner)\u001b[39;49m\u001b[38;5;124;43m\"\u001b[39;49m\u001b[43m)\u001b[49m\n\u001b[1;32m    240\u001b[0m \u001b[38;5;28;01mtry\u001b[39;00m:\n\u001b[1;32m    241\u001b[0m     dfs     \u001b[38;5;241m=\u001b[39m run_processing(spark, data_root)\n",
      "File \u001b[0;32m~/ghcn/code/assignment.py:31\u001b[0m, in \u001b[0;36mstart_spark\u001b[0;34m(executor_instances, executor_cores, worker_memory_gb, driver_memory_gb, app_suffix)\u001b[0m\n\u001b[1;32m     22\u001b[0m \u001b[38;5;28;01mdef\u001b[39;00m\u001b[38;5;250m \u001b[39m\u001b[38;5;21mstart_spark\u001b[39m(executor_instances: \u001b[38;5;28mint\u001b[39m \u001b[38;5;241m=\u001b[39m \u001b[38;5;241m4\u001b[39m,\n\u001b[1;32m     23\u001b[0m                 executor_cores: \u001b[38;5;28mint\u001b[39m     \u001b[38;5;241m=\u001b[39m \u001b[38;5;241m2\u001b[39m,\n\u001b[1;32m     24\u001b[0m                 worker_memory_gb: \u001b[38;5;28mint\u001b[39m   \u001b[38;5;241m=\u001b[39m \u001b[38;5;241m4\u001b[39m,\n\u001b[1;32m     25\u001b[0m                 driver_memory_gb: \u001b[38;5;28mint\u001b[39m   \u001b[38;5;241m=\u001b[39m \u001b[38;5;241m4\u001b[39m,\n\u001b[1;32m     26\u001b[0m                 app_suffix: \u001b[38;5;28mstr\u001b[39m         \u001b[38;5;241m=\u001b[39m \u001b[38;5;124m\"\u001b[39m\u001b[38;5;124m(runner)\u001b[39m\u001b[38;5;124m\"\u001b[39m):\n\u001b[1;32m     27\u001b[0m \u001b[38;5;250m    \u001b[39m\u001b[38;5;124;03m\"\"\"\u001b[39;00m\n\u001b[1;32m     28\u001b[0m \u001b[38;5;124;03m    Creates and returns (spark, sc).\u001b[39;00m\n\u001b[1;32m     29\u001b[0m \u001b[38;5;124;03m    Fill environment-specific Spark configs if needed.\u001b[39;00m\n\u001b[1;32m     30\u001b[0m \u001b[38;5;124;03m    \"\"\"\u001b[39;00m\n\u001b[0;32m---> 31\u001b[0m     \u001b[38;5;28;01mfrom\u001b[39;00m\u001b[38;5;250m \u001b[39m\u001b[38;5;21;01mpyspark\u001b[39;00m\u001b[38;5;21;01m.\u001b[39;00m\u001b[38;5;21;01msql\u001b[39;00m\u001b[38;5;250m \u001b[39m\u001b[38;5;28;01mimport\u001b[39;00m SparkSession\n\u001b[1;32m     32\u001b[0m     base, user, _, _ \u001b[38;5;241m=\u001b[39m setup_paths()\n\u001b[1;32m     33\u001b[0m     cores_total     \u001b[38;5;241m=\u001b[39m executor_instances \u001b[38;5;241m*\u001b[39m executor_cores\n",
      "\u001b[0;31mModuleNotFoundError\u001b[0m: No module named 'pyspark'"
     ]
    }
   ],
   "source": [
    "# --- End-to-end call (adjust as you implement stubs in assignment.py) ---\n",
    "result = a1.run_all(username=wasbs_user.split('/')[-2] if wasbs_user.endswith('/') else None)\n",
    "\n",
    "print(\"\\n--- Answers (partial; will fill as you implement) ---\")\n",
    "for k, v in result.get(\"answers\", {}).items():\n",
    "    print(f\"{k:24s} = {v}\")"
   ]
  }
 ],
 "metadata": {
  "kernelspec": {
   "display_name": "Python 3 (ipykernel)",
   "language": "python",
   "name": "python3"
  },
  "language_info": {
   "codemirror_mode": {
    "name": "ipython",
    "version": 3
   },
   "file_extension": ".py",
   "mimetype": "text/x-python",
   "name": "python",
   "nbconvert_exporter": "python",
   "pygments_lexer": "ipython3",
   "version": "3.8.10"
  }
 },
 "nbformat": 4,
 "nbformat_minor": 5
}
