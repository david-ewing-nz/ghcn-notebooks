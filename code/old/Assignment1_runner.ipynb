{
 "cells": [
  {
   "cell_type": "markdown",
   "id": "c1c06c81",
   "metadata": {},
   "source": [
    "# Assignment 1 — Runner (Option B)\n",
    "This runner **imports `assignment.py`** (your reusable functions) and calls them.\n",
    "\n",
    "**Original notebook remains untouched** for grading: `DATA420-25S2 Assignment 1.ipynb`.\n"
   ]
  },
  {
   "cell_type": "code",
   "execution_count": 6,
   "id": "ebb11239",
   "metadata": {},
   "outputs": [
    {
     "ename": "ModuleNotFoundError",
     "evalue": "No module named 'assignment'",
     "output_type": "error",
     "traceback": [
      "\u001b[0;31m---------------------------------------------------------------------------\u001b[0m",
      "\u001b[0;31mModuleNotFoundError\u001b[0m                       Traceback (most recent call last)",
      "Cell \u001b[0;32mIn[6], line 1\u001b[0m\n\u001b[0;32m----> 1\u001b[0m \u001b[38;5;28;01mimport\u001b[39;00m\u001b[38;5;250m \u001b[39m\u001b[38;5;21;01massignment\u001b[39;00m\u001b[38;5;250m \u001b[39m\u001b[38;5;28;01mas\u001b[39;00m\u001b[38;5;250m \u001b[39m\u001b[38;5;21;01ma1\u001b[39;00m\n\u001b[1;32m      2\u001b[0m \u001b[38;5;66;03m# If Python cannot find assignment.py, ensure this notebook is in the same folder\u001b[39;00m\n\u001b[1;32m      3\u001b[0m \u001b[38;5;66;03m# or append the path: \u001b[39;00m\n\u001b[1;32m      4\u001b[0m \u001b[38;5;66;03m# import sys, pathlib; sys.path.append(str(pathlib.Path.cwd()))\u001b[39;00m\n",
      "\u001b[0;31mModuleNotFoundError\u001b[0m: No module named 'assignment'"
     ]
    }
   ],
   "source": [
    "import assignment as a1\n",
    "# If Python cannot find assignment.py, ensure this notebook is in the same folder\n",
    "# or append the path: \n",
    "# import sys, pathlib; sys.path.append(str(pathlib.Path.cwd()))"
   ]
  },
  {
   "cell_type": "code",
   "execution_count": null,
   "id": "850b41df",
   "metadata": {},
   "outputs": [],
   "source": [
    "# Show config with aligned equals\n",
    "base, user, wasbs_data, wasbs_user = a1.setup_paths()\n",
    "print(f\"BASE_NOTEBOOK = {base}\")\n",
    "print(f\"USERNAME      = {user}\")\n",
    "print(f\"WASBS_DATA    = {wasbs_data}\")\n",
    "print(f\"WASBS_USER    = {wasbs_user}\")"
   ]
  },
  {
   "cell_type": "code",
   "execution_count": null,
   "id": "6fb219ea",
   "metadata": {},
   "outputs": [],
   "source": [
    "# End-to-end (call stubs now; fill logic in assignment.py as you go)\n",
    "result = a1.run_all(username=user)\n",
    "print(\"\\n--- Answers (partial; fill as you implement) ---\")\n",
    "for k, v in result[\"answers\"].items():\n",
    "    print(f\"{k:24s} = {v}\")"
   ]
  },
  {
   "cell_type": "markdown",
   "id": "e78bd909",
   "metadata": {},
   "source": [
    "## Granular calls (optional)\n",
    "Uncomment the cells below as you implement each function in `assignment.py`."
   ]
  },
  {
   "cell_type": "code",
   "execution_count": null,
   "id": "6ff16fe3",
   "metadata": {},
   "outputs": [],
   "source": [
    "# spark, sc = a1.start_spark(app_suffix='(debug)')\n",
    "# dfs      = a1.run_processing(spark, wasbs_data)\n",
    "# answers  = a1.run_analysis(dfs)\n",
    "# a1.stop_spark(spark)\n",
    "# answers"
   ]
  }
 ],
 "metadata": {
  "kernelspec": {
   "display_name": "Python 3 (ipykernel)",
   "language": "python",
   "name": "python3"
  },
  "language_info": {
   "codemirror_mode": {
    "name": "ipython",
    "version": 3
   },
   "file_extension": ".py",
   "mimetype": "text/x-python",
   "name": "python",
   "nbconvert_exporter": "python",
   "pygments_lexer": "ipython3",
   "version": "3.8.10"
  }
 },
 "nbformat": 4,
 "nbformat_minor": 5
}
