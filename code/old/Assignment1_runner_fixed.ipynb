{
 "cells": [
  {
   "cell_type": "markdown",
   "id": "f4cb9621",
   "metadata": {},
   "source": [
    "# Assignment 1 — Runner (Fixed, start → run → stop)\n",
    "\n",
    "This runner is wired to execute the assignment **end‑to‑end** safely:\n",
    "\n",
    "1. Import `assignment.py` (functions).\n",
    "2. Verify **PySpark** is available (friendly message if not).\n",
    "3. **Re‑use** an active Spark session or **start** one if needed.\n",
    "4. Run **Processing → Analysis**.\n",
    "5. **Always** stop Spark at the end.\n",
    "\n",
    "> If the original notebook ran but this runner shows a PySpark error, switch this notebook to the **same Spark/PySpark kernel** as the original (Kernel → Change Kernel…)."
   ]
  },
  {
   "cell_type": "code",
   "execution_count": 1,
   "id": "c92a3f7e",
   "metadata": {},
   "outputs": [
    {
     "name": "stdout",
     "output_type": "stream",
     "text": [
      "BASE_NOTEBOOK = DATA420-25S2 Assignment 1.ipynb\n",
      "USERNAME      = dew59\n",
      "WASBS_DATA    = wasbs://campus-data@madsstorage002.blob.core.windows.net/ghcnd/\n",
      "WASBS_USER    = wasbs://campus-user@madsstorage002.blob.core.windows.net/dew59/\n"
     ]
    }
   ],
   "source": [
    "\n",
    "# --- Imports & config ---\n",
    "import sys, pathlib\n",
    "sys.path.append(str(pathlib.Path.cwd()))  # ensure local module import\n",
    "\n",
    "# Optional hot‑reload during development\n",
    "try:\n",
    "    %load_ext autoreload\n",
    "    %autoreload 2\n",
    "except Exception:\n",
    "    pass\n",
    "\n",
    "try:\n",
    "    import assignment as a1\n",
    "except Exception as e:\n",
    "    raise RuntimeError(\"Could not import assignment.py; make sure it is in the SAME folder as this notebook.\") from e\n",
    "\n",
    "base, user, wasbs_data, wasbs_user = a1.setup_paths()\n",
    "print(f\"BASE_NOTEBOOK = {base}\")\n",
    "print(f\"USERNAME      = {user}\")\n",
    "print(f\"WASBS_DATA    = {wasbs_data}\")\n",
    "print(f\"WASBS_USER    = {wasbs_user}\")\n"
   ]
  },
  {
   "cell_type": "code",
   "execution_count": 2,
   "id": "6b26e8a8",
   "metadata": {},
   "outputs": [
    {
     "ename": "RuntimeError",
     "evalue": "PySpark is not available in this kernel.\nUse **Kernel → Change Kernel…** and select the SAME Spark/PySpark kernel as the original notebook,\nor install locally (e.g., `pip install pyspark==3.3.5`) with Java 8/11.",
     "output_type": "error",
     "traceback": [
      "\u001b[0;31m---------------------------------------------------------------------------\u001b[0m",
      "\u001b[0;31mModuleNotFoundError\u001b[0m                       Traceback (most recent call last)",
      "Cell \u001b[0;32mIn[2], line 3\u001b[0m\n\u001b[1;32m      2\u001b[0m \u001b[38;5;28;01mtry\u001b[39;00m:\n\u001b[0;32m----> 3\u001b[0m     \u001b[38;5;28;01mimport\u001b[39;00m\u001b[38;5;250m \u001b[39m\u001b[38;5;21;01mpyspark\u001b[39;00m\n\u001b[1;32m      4\u001b[0m     \u001b[38;5;28;01mfrom\u001b[39;00m\u001b[38;5;250m \u001b[39m\u001b[38;5;21;01mpyspark\u001b[39;00m\u001b[38;5;21;01m.\u001b[39;00m\u001b[38;5;21;01msql\u001b[39;00m\u001b[38;5;250m \u001b[39m\u001b[38;5;28;01mimport\u001b[39;00m SparkSession\n",
      "\u001b[0;31mModuleNotFoundError\u001b[0m: No module named 'pyspark'",
      "\nThe above exception was the direct cause of the following exception:\n",
      "\u001b[0;31mRuntimeError\u001b[0m                              Traceback (most recent call last)",
      "Cell \u001b[0;32mIn[2], line 8\u001b[0m\n\u001b[1;32m      6\u001b[0m     \u001b[38;5;28mprint\u001b[39m(\u001b[38;5;124m\"\u001b[39m\u001b[38;5;124mActive session =\u001b[39m\u001b[38;5;124m\"\u001b[39m, SparkSession\u001b[38;5;241m.\u001b[39mgetActiveSession())\n\u001b[1;32m      7\u001b[0m \u001b[38;5;28;01mexcept\u001b[39;00m \u001b[38;5;167;01mModuleNotFoundError\u001b[39;00m \u001b[38;5;28;01mas\u001b[39;00m e:\n\u001b[0;32m----> 8\u001b[0m     \u001b[38;5;28;01mraise\u001b[39;00m \u001b[38;5;167;01mRuntimeError\u001b[39;00m(\n\u001b[1;32m      9\u001b[0m         \u001b[38;5;124m\"\u001b[39m\u001b[38;5;124mPySpark is not available in this kernel.\u001b[39m\u001b[38;5;130;01m\\n\u001b[39;00m\u001b[38;5;124m\"\u001b[39m\n\u001b[1;32m     10\u001b[0m         \u001b[38;5;124m\"\u001b[39m\u001b[38;5;124mUse **Kernel → Change Kernel…** and select the SAME Spark/PySpark kernel as the original notebook,\u001b[39m\u001b[38;5;130;01m\\n\u001b[39;00m\u001b[38;5;124m\"\u001b[39m\n\u001b[1;32m     11\u001b[0m         \u001b[38;5;124m\"\u001b[39m\u001b[38;5;124mor install locally (e.g., `pip install pyspark==3.3.5`) with Java 8/11.\u001b[39m\u001b[38;5;124m\"\u001b[39m\n\u001b[1;32m     12\u001b[0m     ) \u001b[38;5;28;01mfrom\u001b[39;00m\u001b[38;5;250m \u001b[39m\u001b[38;5;21;01me\u001b[39;00m\n",
      "\u001b[0;31mRuntimeError\u001b[0m: PySpark is not available in this kernel.\nUse **Kernel → Change Kernel…** and select the SAME Spark/PySpark kernel as the original notebook,\nor install locally (e.g., `pip install pyspark==3.3.5`) with Java 8/11."
     ]
    }
   ],
   "source": [
    "\n",
    "# --- Environment check (PySpark) ---\n",
    "try:\n",
    "    import pyspark\n",
    "    from pyspark.sql import SparkSession\n",
    "    print(\"PySpark        =\", pyspark.__version__)\n",
    "    print(\"Active session =\", SparkSession.getActiveSession())\n",
    "except ModuleNotFoundError as e:\n",
    "    raise RuntimeError(\n",
    "        \"PySpark is not available in this kernel.\\n\"\n",
    "        \"Use **Kernel → Change Kernel…** and select the SAME Spark/PySpark kernel as the original notebook,\\n\"\n",
    "        \"or install locally (e.g., `pip install pyspark==3.3.5`) with Java 8/11.\"\n",
    "    ) from e\n"
   ]
  },
  {
   "cell_type": "code",
   "execution_count": null,
   "id": "608838ab",
   "metadata": {},
   "outputs": [],
   "source": [
    "\n",
    "# --- Start/Reuse Spark, run, and stop ---\n",
    "from pyspark.sql import SparkSession\n",
    "\n",
    "spark = SparkSession.getActiveSession()\n",
    "if spark is None:\n",
    "    print(\"No active SparkSession; starting a new one via a1.start_spark() …\")\n",
    "    spark, sc = a1.start_spark(app_suffix=\"(runner-fixed)\")\n",
    "else:\n",
    "    sc = spark.sparkContext\n",
    "    print(\"Reusing active SparkSession:\", sc.appName)\n",
    "\n",
    "try:\n",
    "    # PROCESSING\n",
    "    dfs = a1.run_processing(spark, wasbs_data)\n",
    "    print(\"Loaded dataframes:\", sorted([k for k,v in dfs.items() if v is not None]))\n",
    "\n",
    "    # ANALYSIS\n",
    "    answers = a1.run_analysis(dfs)\n",
    "    print(\"\\n--- Answers (partial; fill functions in assignment.py) ---\")\n",
    "    for k, v in answers.items():\n",
    "        print(f\"{k:26s} = {v}\")\n",
    "finally:\n",
    "    a1.stop_spark(spark)\n",
    "    print(\"Spark stopped.\")\n"
   ]
  }
 ],
 "metadata": {
  "kernelspec": {
   "display_name": "Python 3 (ipykernel)",
   "language": "python",
   "name": "python3"
  },
  "language_info": {
   "codemirror_mode": {
    "name": "ipython",
    "version": 3
   },
   "file_extension": ".py",
   "mimetype": "text/x-python",
   "name": "python",
   "nbconvert_exporter": "python",
   "pygments_lexer": "ipython3",
   "version": "3.8.10"
  }
 },
 "nbformat": 4,
 "nbformat_minor": 5
}
