{
 "cells": [
  {
   "cell_type": "markdown",
   "id": "30bbb004-5a22-4f65-b400-cb2bc3edf217",
   "metadata": {},
   "source": [
    "### Spark notebook ###\n",
    "\n",
    "This notebook will only work in a Jupyter notebook or Jupyter lab session running on the cluster master node in the cloud.\n",
    "\n",
    "Follow the instructions on the computing resources page to start a cluster and open this notebook.\n",
    "\n",
    "**Steps**\n",
    "\n",
    "1. Connect to the Windows server using Windows App.\n",
    "2. Connect to Kubernetes.\n",
    "3. Start Jupyter and open this notebook from Jupyter in order to connect to Spark."
   ]
  },
  {
   "cell_type": "code",
   "execution_count": 1,
   "id": "017705b0-281d-4565-abe1-852ebc5ca888",
   "metadata": {},
   "outputs": [
    {
     "data": {
      "text/html": [
       "<style>pre { white-space: pre !important; }table.dataframe td { white-space: nowrap !important; }table.dataframe thead th:first-child, table.dataframe tbody th { display: none; }</style>"
      ],
      "text/plain": [
       "<IPython.core.display.HTML object>"
      ]
     },
     "metadata": {},
     "output_type": "display_data"
    }
   ],
   "source": [
    "# Run this cell to import pyspark and to define start_spark() and stop_spark()\n",
    "\n",
    "import findspark\n",
    "\n",
    "findspark.init()\n",
    "\n",
    "import getpass\n",
    "import pandas\n",
    "import pyspark\n",
    "import random\n",
    "import re\n",
    "\n",
    "from IPython.display import display, HTML\n",
    "from pyspark import SparkContext\n",
    "from pyspark.sql import SparkSession\n",
    "\n",
    "\n",
    "# Constants used to interact with Azure Blob Storage using the hdfs command or Spark\n",
    "\n",
    "global username\n",
    "\n",
    "username = re.sub('@.*', '', getpass.getuser())\n",
    "\n",
    "global azure_account_name\n",
    "global azure_data_container_name\n",
    "global azure_user_container_name\n",
    "global azure_user_token\n",
    "\n",
    "azure_account_name = \"madsstorage002\"\n",
    "azure_data_container_name = \"campus-data\"\n",
    "azure_user_container_name = \"campus-user\"\n",
    "azure_user_token = r\"sp=racwdl&st=2025-08-01T09:41:33Z&se=2026-12-30T16:56:33Z&spr=https&sv=2024-11-04&sr=c&sig=GzR1hq7EJ0lRHj92oDO1MBNjkc602nrpfB5H8Cl7FFY%3D\"\n",
    "\n",
    "\n",
    "# Functions used below\n",
    "\n",
    "def dict_to_html(d):\n",
    "    \"\"\"Convert a Python dictionary into a two column table for display.\n",
    "    \"\"\"\n",
    "\n",
    "    html = []\n",
    "\n",
    "    html.append(f'<table width=\"100%\" style=\"width:100%; font-family: monospace;\">')\n",
    "    for k, v in d.items():\n",
    "        html.append(f'<tr><td style=\"text-align:left;\">{k}</td><td>{v}</td></tr>')\n",
    "    html.append(f'</table>')\n",
    "\n",
    "    return ''.join(html)\n",
    "\n",
    "\n",
    "def show_as_html(df, n=20):\n",
    "    \"\"\"Leverage existing pandas jupyter integration to show a spark dataframe as html.\n",
    "    \n",
    "    Args:\n",
    "        n (int): number of rows to show (default: 20)\n",
    "    \"\"\"\n",
    "\n",
    "    display(df.limit(n).toPandas())\n",
    "\n",
    "    \n",
    "def display_spark():\n",
    "    \"\"\"Display the status of the active Spark session if one is currently running.\n",
    "    \"\"\"\n",
    "    \n",
    "    if 'spark' in globals() and 'sc' in globals():\n",
    "\n",
    "        name = sc.getConf().get(\"spark.app.name\")\n",
    "\n",
    "        html = [\n",
    "            f'<p><b>Spark</b></p>',\n",
    "            f'<p>The spark session is <b><span style=\"color:green\">active</span></b>, look for <code>{name}</code> under the running applications section in the Spark UI.</p>',\n",
    "            f'<ul>',\n",
    "            f'<li><a href=\"http://localhost:{sc.uiWebUrl.split(\":\")[-1]}\" target=\"_blank\">Spark Application UI</a></li>',\n",
    "            f'</ul>',\n",
    "            f'<p><b>Config</b></p>',\n",
    "            dict_to_html(dict(sc.getConf().getAll())),\n",
    "            f'<p><b>Notes</b></p>',\n",
    "            f'<ul>',\n",
    "            f'<li>The spark session <code>spark</code> and spark context <code>sc</code> global variables have been defined by <code>start_spark()</code>.</li>',\n",
    "            f'<li>Please run <code>stop_spark()</code> before closing the notebook or restarting the kernel or kill <code>{name}</code> by hand using the link in the Spark UI.</li>',\n",
    "            f'</ul>',\n",
    "        ]\n",
    "        display(HTML(''.join(html)))\n",
    "        \n",
    "    else:\n",
    "        \n",
    "        html = [\n",
    "            f'<p><b>Spark</b></p>',\n",
    "            f'<p>The spark session is <b><span style=\"color:red\">stopped</span></b>, confirm that <code>{username} (notebook)</code> is under the completed applications section in the Spark UI.</p>',\n",
    "            f'<ul>',\n",
    "            f'<li><a href=\"http://mathmadslinux2p.canterbury.ac.nz:8080/\" target=\"_blank\">Spark UI</a></li>',\n",
    "            f'</ul>',\n",
    "        ]\n",
    "        display(HTML(''.join(html)))\n",
    "\n",
    "\n",
    "# Functions to start and stop spark\n",
    "\n",
    "def start_spark(executor_instances=2, executor_cores=1, worker_memory=1, master_memory=1):\n",
    "    \"\"\"Start a new Spark session and define globals for SparkSession (spark) and SparkContext (sc).\n",
    "    \n",
    "    Args:\n",
    "        executor_instances (int): number of executors (default: 2)\n",
    "        executor_cores (int): number of cores per executor (default: 1)\n",
    "        worker_memory (float): worker memory (default: 1)\n",
    "        master_memory (float): master memory (default: 1)\n",
    "    \"\"\"\n",
    "\n",
    "    global spark\n",
    "    global sc\n",
    "\n",
    "    cores = executor_instances * executor_cores\n",
    "    partitions = cores * 4\n",
    "    port = 4000 + random.randint(1, 999)\n",
    "\n",
    "    spark = (\n",
    "        SparkSession.builder\n",
    "        .config(\"spark.driver.extraJavaOptions\", f\"-Dderby.system.home=/tmp/{username}/spark/\")\n",
    "        .config(\"spark.dynamicAllocation.enabled\", \"false\")\n",
    "        .config(\"spark.executor.instances\", str(executor_instances))\n",
    "        .config(\"spark.executor.cores\", str(executor_cores))\n",
    "        .config(\"spark.cores.max\", str(cores))\n",
    "        .config(\"spark.driver.memory\", f'{master_memory}g')\n",
    "        .config(\"spark.executor.memory\", f'{worker_memory}g')\n",
    "        .config(\"spark.driver.maxResultSize\", \"0\")\n",
    "        .config(\"spark.sql.shuffle.partitions\", str(partitions))\n",
    "        .config(\"spark.kubernetes.container.image\", \"madsregistry001.azurecr.io/hadoop-spark:v3.3.5-openjdk-8\")\n",
    "        .config(\"spark.kubernetes.container.image.pullPolicy\", \"IfNotPresent\")\n",
    "        .config(\"spark.kubernetes.memoryOverheadFactor\", \"0.3\")\n",
    "        .config(\"spark.memory.fraction\", \"0.1\")\n",
    "        .config(f\"fs.azure.sas.{azure_user_container_name}.{azure_account_name}.blob.core.windows.net\",  azure_user_token)\n",
    "        .config(\"spark.app.name\", f\"{username} (notebook)\")\n",
    "        .getOrCreate()\n",
    "    )\n",
    "    sc = SparkContext.getOrCreate()\n",
    "    \n",
    "    display_spark()\n",
    "\n",
    "    \n",
    "def stop_spark():\n",
    "    \"\"\"Stop the active Spark session and delete globals for SparkSession (spark) and SparkContext (sc).\n",
    "    \"\"\"\n",
    "\n",
    "    global spark\n",
    "    global sc\n",
    "\n",
    "    if 'spark' in globals() and 'sc' in globals():\n",
    "\n",
    "        spark.stop()\n",
    "\n",
    "        del spark\n",
    "        del sc\n",
    "\n",
    "    display_spark()\n",
    "\n",
    "\n",
    "# Make css changes to improve spark output readability\n",
    "\n",
    "html = [\n",
    "    '<style>',\n",
    "    'pre { white-space: pre !important; }',\n",
    "    'table.dataframe td { white-space: nowrap !important; }',\n",
    "    'table.dataframe thead th:first-child, table.dataframe tbody th { display: none; }',\n",
    "    '</style>',\n",
    "]\n",
    "display(HTML(''.join(html)))"
   ]
  },
  {
   "cell_type": "markdown",
   "id": "e59e2f6d-f8f0-4150-8eec-e5bb2b0471e4",
   "metadata": {},
   "source": [
    "### Assignment 1 ###\n",
    "\n",
    "The code below demonstrates how to explore and load the data provided for the assignment from Azure Blob Storage and how to save any outputs that you generate to a separate user container.\n",
    "\n",
    "**Key points**\n",
    "\n",
    "- The data provided for the assignment is stored in Azure Blob Storage and outputs that you generate will be stored in Azure Blob Storage as well. Hadoop and Spark can both interact with Azure Blob Storage similar to how they interact with HDFS, but where the replication and distribution is handled by Azure instead. This makes it possible to read or write data in Azure over HTTPS where the path is prefixed by `wasbs://`.\n",
    "- There are two containers, one for the data which is read only and one for any outputs that you generate,\n",
    "  - `wasbs://campus-data@madsstorage002.blob.core.windows.net/`\n",
    "  - `wasbs://campus-user@madsstorage002.blob.core.windows.net/`\n",
    "- You can use variable interpolation to insert your global username variable into paths automatically.\n",
    "  - This works for bash commands as well."
   ]
  },
  {
   "cell_type": "code",
   "execution_count": 2,
   "id": "f06343f5-a638-4f7f-ade5-5f564a068bc0",
   "metadata": {
    "scrolled": true
   },
   "outputs": [
    {
     "name": "stderr",
     "output_type": "stream",
     "text": [
      "Warning: Ignoring non-Spark config property: fs.azure.sas.campus-user.madsstorage002.blob.core.windows.net\n",
      "Warning: Ignoring non-Spark config property: SPARK_DRIVER_BIND_ADDRESS\n",
      "25/09/07 11:11:30 WARN NativeCodeLoader: Unable to load native-hadoop library for your platform... using builtin-java classes where applicable\n",
      "Setting default log level to \"WARN\".\n",
      "To adjust logging level use sc.setLogLevel(newLevel). For SparkR, use setLogLevel(newLevel).\n",
      "25/09/07 11:11:31 WARN Utils: Service 'sparkDriver' could not bind on port 7077. Attempting port 7078.\n",
      "25/09/07 11:11:31 WARN Utils: Service 'SparkUI' could not bind on port 4041. Attempting port 4042.\n"
     ]
    },
    {
     "data": {
      "text/html": [
       "<p><b>Spark</b></p><p>The spark session is <b><span style=\"color:green\">active</span></b>, look for <code>dew59 (notebook)</code> under the running applications section in the Spark UI.</p><ul><li><a href=\"http://localhost:4042\" target=\"_blank\">Spark Application UI</a></li></ul><p><b>Config</b></p><table width=\"100%\" style=\"width:100%; font-family: monospace;\"><tr><td style=\"text-align:left;\">spark.dynamicAllocation.enabled</td><td>false</td></tr><tr><td style=\"text-align:left;\">spark.fs.azure.sas.uco-user.madsstorage002.blob.core.windows.net</td><td>\"sp=racwdl&st=2024-09-19T08:00:18Z&se=2025-09-19T16:00:18Z&spr=https&sv=2022-11-02&sr=c&sig=qtg6fCdoFz6k3EJLw7dA8D3D8wN0neAYw8yG4z4Lw2o%3D\"</td></tr><tr><td style=\"text-align:left;\">spark.kubernetes.driver.pod.name</td><td>spark-master-driver</td></tr><tr><td style=\"text-align:left;\">spark.executor.instances</td><td>4</td></tr><tr><td style=\"text-align:left;\">spark.driver.memory</td><td>4g</td></tr><tr><td style=\"text-align:left;\">spark.kubernetes.namespace</td><td>dew59</td></tr><tr><td style=\"text-align:left;\">spark.fs.azure.sas.campus-user.madsstorage002.blob.core.windows.net</td><td>\"sp=racwdl&st=2024-09-19T08:03:31Z&se=2025-09-19T16:03:31Z&spr=https&sv=2022-11-02&sr=c&sig=kMP%2BsBsRzdVVR8rrg%2BNbDhkRBNs6Q98kYY695XMRFDU%3D\"</td></tr><tr><td style=\"text-align:left;\">spark.kubernetes.container.image.pullPolicy</td><td>IfNotPresent</td></tr><tr><td style=\"text-align:left;\">spark.sql.shuffle.partitions</td><td>32</td></tr><tr><td style=\"text-align:left;\">spark.driver.extraJavaOptions</td><td>-Djava.net.preferIPv6Addresses=false -XX:+IgnoreUnrecognizedVMOptions --add-opens=java.base/java.lang=ALL-UNNAMED --add-opens=java.base/java.lang.invoke=ALL-UNNAMED --add-opens=java.base/java.lang.reflect=ALL-UNNAMED --add-opens=java.base/java.io=ALL-UNNAMED --add-opens=java.base/java.net=ALL-UNNAMED --add-opens=java.base/java.nio=ALL-UNNAMED --add-opens=java.base/java.util=ALL-UNNAMED --add-opens=java.base/java.util.concurrent=ALL-UNNAMED --add-opens=java.base/java.util.concurrent.atomic=ALL-UNNAMED --add-opens=java.base/jdk.internal.ref=ALL-UNNAMED --add-opens=java.base/sun.nio.ch=ALL-UNNAMED --add-opens=java.base/sun.nio.cs=ALL-UNNAMED --add-opens=java.base/sun.security.action=ALL-UNNAMED --add-opens=java.base/sun.util.calendar=ALL-UNNAMED --add-opens=java.security.jgss/sun.security.krb5=ALL-UNNAMED -Djdk.reflect.useDirectMethodHandle=false -Dderby.system.home=/tmp/dew59/spark/</td></tr><tr><td style=\"text-align:left;\">spark.app.submitTime</td><td>1757200290703</td></tr><tr><td style=\"text-align:left;\">spark.serializer.objectStreamReset</td><td>100</td></tr><tr><td style=\"text-align:left;\">spark.driver.maxResultSize</td><td>0</td></tr><tr><td style=\"text-align:left;\">spark.submit.deployMode</td><td>client</td></tr><tr><td style=\"text-align:left;\">spark.master</td><td>k8s://https://kubernetes.default.svc.cluster.local:443</td></tr><tr><td style=\"text-align:left;\">spark.fs.azure</td><td>org.apache.hadoop.fs.azure.NativeAzureFileSystem</td></tr><tr><td style=\"text-align:left;\">spark.app.name</td><td>dew59 (notebook)</td></tr><tr><td style=\"text-align:left;\">spark.memory.fraction</td><td>0.1</td></tr><tr><td style=\"text-align:left;\">spark.executor.memory</td><td>4g</td></tr><tr><td style=\"text-align:left;\">spark.executor.id</td><td>driver</td></tr><tr><td style=\"text-align:left;\">spark.kubernetes.executor.container.image</td><td>madsregistry001.azurecr.io/hadoop-spark:v3.3.5-openjdk-8-1.0.16</td></tr><tr><td style=\"text-align:left;\">spark.kubernetes.executor.podNamePrefix</td><td>dew59-notebook-fa2ae699214c9716</td></tr><tr><td style=\"text-align:left;\">spark.executor.cores</td><td>2</td></tr><tr><td style=\"text-align:left;\">spark.driver.port</td><td>7078</td></tr><tr><td style=\"text-align:left;\">spark.kubernetes.memoryOverheadFactor</td><td>0.3</td></tr><tr><td style=\"text-align:left;\">spark.driver.host</td><td>spark-master-svc</td></tr><tr><td style=\"text-align:left;\">spark.ui.port</td><td>${env:SPARK_UI_PORT}</td></tr><tr><td style=\"text-align:left;\">spark.kubernetes.container.image</td><td>madsregistry001.azurecr.io/hadoop-spark:v3.3.5-openjdk-8</td></tr><tr><td style=\"text-align:left;\">spark.kubernetes.executor.podTemplateFile</td><td>/opt/spark/conf/executor-pod-template.yaml</td></tr><tr><td style=\"text-align:left;\">spark.app.id</td><td>spark-4470be8a74dd4760acf5120d870eddb5</td></tr><tr><td style=\"text-align:left;\">spark.rdd.compress</td><td>True</td></tr><tr><td style=\"text-align:left;\">spark.executor.extraJavaOptions</td><td>-Djava.net.preferIPv6Addresses=false -XX:+IgnoreUnrecognizedVMOptions --add-opens=java.base/java.lang=ALL-UNNAMED --add-opens=java.base/java.lang.invoke=ALL-UNNAMED --add-opens=java.base/java.lang.reflect=ALL-UNNAMED --add-opens=java.base/java.io=ALL-UNNAMED --add-opens=java.base/java.net=ALL-UNNAMED --add-opens=java.base/java.nio=ALL-UNNAMED --add-opens=java.base/java.util=ALL-UNNAMED --add-opens=java.base/java.util.concurrent=ALL-UNNAMED --add-opens=java.base/java.util.concurrent.atomic=ALL-UNNAMED --add-opens=java.base/jdk.internal.ref=ALL-UNNAMED --add-opens=java.base/sun.nio.ch=ALL-UNNAMED --add-opens=java.base/sun.nio.cs=ALL-UNNAMED --add-opens=java.base/sun.security.action=ALL-UNNAMED --add-opens=java.base/sun.util.calendar=ALL-UNNAMED --add-opens=java.security.jgss/sun.security.krb5=ALL-UNNAMED -Djdk.reflect.useDirectMethodHandle=false</td></tr><tr><td style=\"text-align:left;\">fs.azure.sas.campus-user.madsstorage002.blob.core.windows.net</td><td>sp=racwdl&st=2025-08-01T09:41:33Z&se=2026-12-30T16:56:33Z&spr=https&sv=2024-11-04&sr=c&sig=GzR1hq7EJ0lRHj92oDO1MBNjkc602nrpfB5H8Cl7FFY%3D</td></tr><tr><td style=\"text-align:left;\">spark.cores.max</td><td>8</td></tr><tr><td style=\"text-align:left;\">spark.app.startTime</td><td>1757200290843</td></tr><tr><td style=\"text-align:left;\">spark.submit.pyFiles</td><td></td></tr><tr><td style=\"text-align:left;\">spark.ui.showConsoleProgress</td><td>true</td></tr></table><p><b>Notes</b></p><ul><li>The spark session <code>spark</code> and spark context <code>sc</code> global variables have been defined by <code>start_spark()</code>.</li><li>Please run <code>stop_spark()</code> before closing the notebook or restarting the kernel or kill <code>dew59 (notebook)</code> by hand using the link in the Spark UI.</li></ul>"
      ],
      "text/plain": [
       "<IPython.core.display.HTML object>"
      ]
     },
     "metadata": {},
     "output_type": "display_data"
    }
   ],
   "source": [
    "# Run this cell to start a spark session in this notebook\n",
    "\n",
    "start_spark(executor_instances=4, executor_cores=2, worker_memory=4, master_memory=4)"
   ]
  },
  {
   "cell_type": "code",
   "execution_count": 3,
   "id": "2f31c204-813f-4003-9d21-c3b9c57a065d",
   "metadata": {},
   "outputs": [],
   "source": [
    "# Write your imports here or insert cells below\n",
    "import pandas as pd\n",
    "import matplotlib.pyplot as plt\n",
    "import numpy as np  \n",
    "import os, re, subprocess \n",
    "import sys, platform, time\n",
    "from pyspark.sql.utils import AnalysisException\n",
    "from pyspark.sql import functions as F, types as T\n",
    "from pyspark.sql.types import *\n",
    "from pyspark.sql import DataFrame "
   ]
  },
  {
   "cell_type": "markdown",
   "id": "fb102f08-d26f-4475-8561-7f63862da060",
   "metadata": {},
   "source": [
    "#The following shows the data structure"
   ]
  },
  {
   "cell_type": "markdown",
   "id": "bb50828b-693b-4ed8-8082-e9590200210f",
   "metadata": {},
   "source": [
    "### Question 1(a) ### "
   ]
  },
  {
   "cell_type": "markdown",
   "id": "72c3809f-7cc7-4fa5-b779-0b6989eb46af",
   "metadata": {},
   "source": [
    "<div style=\"border: 2px solid #4CAF50; border-radius: 10px; padding: 10px; background-color: #f9f9f9;\">\n",
    "\n",
    "<strong style=\"font-size:200%;\">FOR A CLEAN START:</strong><br><br>\n",
    "<strong>\n",
    "Tutor: If this is to run from my environment, please run the following code first: \n",
    "</strong><br><br>\n",
    "\n",
    "<pre style=\"background-color:#eeeeee; padding:6px; border-radius:5px; font-size:200%;\">\n",
    "!hdfs dfs -rm -r -f \"{WASBS_USER}\"/*.parquet\n",
    " \n",
    "</pre>\n",
    "\n",
    "\n",
    "<strong>\n",
    "In a new environment, you won't need to do this. The code accomodates failed cells during development and for those cells that have completed their task, the results are tested for existance. If they exist then the task is skipped. If you run this from my environment, you will need to execute the above line. \n",
    "</strong><br><br>\n",
    "</div>\n"
   ]
  },
  {
   "cell_type": "code",
   "execution_count": 4,
   "id": "812c8751-d59a-423b-8f39-d5e6a540944d",
   "metadata": {},
   "outputs": [
    {
     "name": "stdout",
     "output_type": "stream",
     "text": [
      "Spark: 3.5.1\n",
      "------------ PATHS ------------\n",
      "USERNAME            : dew59\n",
      "WASBS_DATA          : wasbs://campus-data@madsstorage002.blob.core.windows.net/ghcnd/\n",
      "WASBS_DAILY         : wasbs://campus-data@madsstorage002.blob.core.windows.net/ghcnd/daily/\n",
      "WASBS_USER          : wasbs://campus-user@madsstorage002.blob.core.windows.net/dew59\n",
      "WASBS_YEAR_SIZE     : wasbs://campus-user@madsstorage002.blob.core.windows.net/dew59/years_size_metrics.parquet/\n",
      "WASBS_METADATA_SIZE : wasbs://campus-user@madsstorage002.blob.core.windows.net/dew59/metadata_size_metrics.parquet/\n",
      "\n",
      "stations_read_name   : wasbs://campus-data@madsstorage002.blob.core.windows.net/ghcnd/ghcnd-stations.txt\n",
      "inventory_read_name  : wasbs://campus-data@madsstorage002.blob.core.windows.net/ghcnd/ghcnd-inventory.txt\n",
      "countries_read_name  : wasbs://campus-data@madsstorage002.blob.core.windows.net/ghcnd/ghcnd-countries.txt\n",
      "states_read_name     : wasbs://campus-data@madsstorage002.blob.core.windows.net/ghcnd/ghcnd-states.txt\n",
      "\n",
      "station_date_element : wasbs://campus-user@madsstorage002.blob.core.windows.net/dew59/q2a_station_date_element.parquet\n",
      "enriched_write_name  : wasbs://campus-user@madsstorage002.blob.core.windows.net/dew59/enriched_stations.parquet\n",
      "stations_write_name  : wasbs://campus-user@madsstorage002.blob.core.windows.net/dew59/stations.parquet\n",
      "inventory_write_name : wasbs://campus-user@madsstorage002.blob.core.windows.net/dew59/inventory.parquet\n",
      "countries_write_name : wasbs://campus-user@madsstorage002.blob.core.windows.net/dew59/countries.parquet\n",
      "states_write_name    : wasbs://campus-user@madsstorage002.blob.core.windows.net/dew59/states.parquet\n"
     ]
    }
   ],
   "source": [
    "# overall time metric\n",
    "notebook_run_time = time.time()\n",
    "\n",
    "# Use the hdfs command to explore the data in Azure Blob Storage\n",
    "USERNAME    = \"dew59\"\n",
    "WASBS_DATA  = \"wasbs://campus-data@madsstorage002.blob.core.windows.net/ghcnd/\"\n",
    "WASBS_DAILY = \"wasbs://campus-data@madsstorage002.blob.core.windows.net/ghcnd/daily/\"\n",
    "\n",
    "WASBS_USER          = \"wasbs://campus-user@madsstorage002.blob.core.windows.net/{}\".format(USERNAME)\n",
    "WASBS_YEAR_SIZE     = \"{}/years_size_metrics.parquet/\".format(WASBS_USER)\n",
    "WASBS_METADATA_SIZE = \"{}/metadata_size_metrics.parquet/\".format(WASBS_USER)\n",
    "\n",
    "stations_read_file   = f'ghcnd-stations.txt'\n",
    "inventory_read_file  = f'ghcnd-inventory.txt'\n",
    "countries_read_file  = f'ghcnd-countries.txt'\n",
    "states_read_file     = f'ghcnd-states.txt'\n",
    "\n",
    "stations_write_path  = f'stations.parquet'      #parquest file referenced by folder\n",
    "inventory_write_path = f'inventory.parquet'\n",
    "countries_write_path = f'countries.parquet'\n",
    "states_write_path    = f'states.parquet'\n",
    "\n",
    "#stations_path = f'wasbs://{azure_data_container_name}@{azure_account_name}.blob.core.windows.net/{stations_write_path}'\n",
    "#common_data_path    = f'wasbs://{azure_data_container_name}@{azure_account_name}.blob.core.windows.net/'\n",
    "#stations_read_name  =  inventory_read_name = \"\"\n",
    "#stations_read_name  =  inventory_read_name = \"\"\n",
    "stations_read_name  = f'{WASBS_DATA}{stations_read_file}' \n",
    "inventory_read_name = f'{WASBS_DATA}{inventory_read_file}' \n",
    "countries_read_name = f'{WASBS_DATA}{countries_read_file}' \n",
    "states_read_name    = f'{WASBS_DATA}{states_read_file}'\n",
    "\n",
    "station_date_element = f\"{WASBS_USER}/q2a_station_date_element.parquet\"\n",
    "enriched_write_name  = f\"{WASBS_USER}/enriched_stations.parquet\" \n",
    "stations_write_name  = f'{WASBS_USER}/{stations_write_path}' \n",
    "inventory_write_name = f'{WASBS_USER}/{inventory_write_path}' \n",
    "countries_write_name = f'{WASBS_USER}/{countries_write_path}' \n",
    "states_write_name    = f'{WASBS_USER}/{states_write_path}'\n",
    "\n",
    "print(\"Spark:\", spark.version)\n",
    "print(\"------------ PATHS ------------\")\n",
    "print(\"USERNAME            :\", USERNAME)\n",
    "print(\"WASBS_DATA          :\", WASBS_DATA)\n",
    "print(\"WASBS_DAILY         :\", WASBS_DAILY)\n",
    "print(\"WASBS_USER          :\", WASBS_USER)\n",
    "print(\"WASBS_YEAR_SIZE     :\", WASBS_YEAR_SIZE)\n",
    "print(\"WASBS_METADATA_SIZE :\", WASBS_METADATA_SIZE)\n",
    "print()\n",
    "print(\"stations_read_name   :\", stations_read_name)\n",
    "print(\"inventory_read_name  :\", inventory_read_name)\n",
    "print(\"countries_read_name  :\", countries_read_name)\n",
    "print(\"states_read_name     :\", states_read_name)\n",
    "print()\n",
    "print(\"station_date_element :\", station_date_element)\n",
    "print(\"enriched_write_name  :\", enriched_write_name)\n",
    "print(\"stations_write_name  :\", stations_write_name)\n",
    "print(\"inventory_write_name :\", inventory_write_name)\n",
    "print(\"countries_write_name :\", countries_write_name)\n",
    "print(\"states_write_name    :\", states_write_name)"
   ]
  },
  {
   "cell_type": "code",
   "execution_count": 5,
   "id": "39c75562-c012-4ce6-a9fc-3aaedb845bef",
   "metadata": {},
   "outputs": [],
   "source": [
    "#!hdfs dfs -rm -r -f \"{WASBS_USER}\"/*.parquet"
   ]
  },
  {
   "cell_type": "code",
   "execution_count": 6,
   "id": "839b56fb-a403-4903-ba60-b0f33495ff63",
   "metadata": {},
   "outputs": [],
   "source": [
    "# HELPER AND DIAGNOSTIC FUNCTIONS\n",
    "\n",
    "\n",
    "\n",
    "\n",
    "# --- Single source of truth for ID normalisation ---\n",
    "def normalise_ids(df: DataFrame, col: str = \"ID\") -> DataFrame:\n",
    "    \"\"\"Upper + trim + distinct on the given ID column.\"\"\"\n",
    "    print(f\"[INFO] normalise_ids() on column: {col}\")\n",
    "    return df.select(F.upper(F.trim(F.col(col))).alias(\"ID\")).distinct()\n",
    "\n",
    "# Back-compat aliases (remove the old function bodies)\n",
    "_ids       = normalise_ids\n",
    "canon_ids  = normalise_ids\n",
    "_canon_ids = normalise_ids\n",
    "\n",
    "def df_as_html(df, n: int = 5, right_align: bool = False, show_index: bool = False):\n",
    "    import pandas as pd\n",
    "    from IPython.display import display\n",
    "    pdf = df.limit(n).toPandas()\n",
    "    print(\"[INFO] Converting Spark → pandas for HTML display (rows:\", len(pdf), \")\")\n",
    "    print(\"[INFO] right_align (numeric columns):\", right_align)\n",
    "    with pd.option_context(\"display.max_colwidth\", None, \"display.max_columns\", None, \"display.width\", None):\n",
    "        styler = pdf.style if show_index else pdf.style.hide(axis=\"index\")\n",
    "        styler = styler.set_table_styles(\n",
    "            [{\"selector\": \"th\", \"props\": [(\"text-align\", \"left\")]},\n",
    "             {\"selector\": \"td\", \"props\": [(\"text-align\", \"left\")]}],\n",
    "            overwrite=True,\n",
    "        )\n",
    "        if right_align:\n",
    "            numeric_cols = list(pdf.select_dtypes(include=[\"number\"]).columns)\n",
    "            print(\"[INFO] Right-aligning numeric columns:\", numeric_cols)\n",
    "            if numeric_cols:\n",
    "                styler = styler.set_properties(subset=numeric_cols, **{\"text-align\": \"right\"})\n",
    "        display(styler)\n",
    "\n",
    "def show_df(df, n: int = 10, name: str = \"\", right_align: bool = False):\n",
    "    print(f\"{name}\")\n",
    "    print(f\"\\n[spark] {name} schema:\"); df.printSchema()\n",
    "    print(\"[check] sample:\"); df_as_html(df, n=n, right_align=right_align)\n",
    "    print(\"____________________________________________________________\")\n",
    "    print(f\"[result] {name} Row count:\", df.count())\n",
    "\n",
    "def write_parquet(df, dir_path: str, df_name: str = \"\"):\n",
    "    funct_time = time.time()\n",
    "    path = dir_path.rstrip('/') + '/'\n",
    "    print(f\"[file] write_parquet  : {path}\")\n",
    "    try:\n",
    "        show_df(df, df_name)\n",
    "    except Exception as e:\n",
    "        print(\"[except] sample failed:\", e)\n",
    "        os.system(f'hdfs dfs -rm -r -f \"{path}\"')\n",
    "        df.write.mode(\"overwrite\").format(\"parquet\").save(path)\n",
    "        os.system(f'hdfs dfs -ls -R \"{path}\"')\n",
    "    funct_time = time.time() - funct_time\n",
    "    print(f\"[time] write_parquet (min)   : {funct_time/60:5.2f}\")\n",
    "    print(f\"[time] write_parquet (sec)   : {funct_time:5.2f}\")\n",
    "\n",
    "def has_parquet(dir_path: str) -> bool:\n",
    "    path = dir_path.rstrip('/') + '/'\n",
    "    marker = path + '_SUCCESS'\n",
    "    print(\"\\n[check] marker  :\", marker)\n",
    "    rc = os.system(f'hdfs dfs -test -e \"{marker}\"')\n",
    "    print(\"[check] result:\", rc, \"->\", (\"exists\" if rc == 0 else \"missing\"))\n",
    "    return rc == 0\n",
    "\n",
    "def probe_universe(daily_df, stations_df, inv_agg_df, tag=\"\"):\n",
    "    print(\"\\n\" + \"=\"*70)\n",
    "    print(f\"[PROBE] Station universe check :: {tag}\")\n",
    "    daily_ids   = _ids(daily_df)\n",
    "    station_ids = _ids(stations_df)\n",
    "    inv_ids     = _ids(inv_agg_df)\n",
    "    print(\"[COUNT] daily IDs         :\", daily_ids.count())\n",
    "    print(\"[COUNT] station IDs (cat) :\", station_ids.count())\n",
    "    print(\"[COUNT] inventory IDs     :\", inv_ids.count())\n",
    "    print(\"[DIFF ] daily  – station  :\", daily_ids.join(station_ids, \"ID\", \"left_anti\").count())\n",
    "    print(\"[DIFF ] station – daily   :\", station_ids.join(daily_ids, \"ID\", \"left_anti\").count())\n",
    "    print(\"[DIFF ] station – inv     :\", station_ids.join(inv_ids, \"ID\", \"left_anti\").count())\n",
    "    print(\"[DIFF ] inv     – daily   :\", inv_ids.join(daily_ids, \"ID\", \"left_anti\").count())\n",
    "    print(\"[DIFF ] inv     – station :\", inv_ids.join(station_ids, \"ID\", \"left_anti\").count())\n",
    "    print(\"=\"*70)\n",
    "\n",
    "def _to_spark(df_like, schema=None):\n",
    "    from pyspark.sql import DataFrame as SparkDF\n",
    "    if isinstance(df_like, SparkDF): return df_like\n",
    "    return spark.createDataFrame(df_like, schema=schema) if schema else spark.createDataFrame(df_like)\n",
    "\n",
    "def ensure_dir(path: str) -> str:\n",
    "    if path is None: raise ValueError(\"Path is None\")\n",
    "    return path if path.endswith(\"/\") else path + \"/\"\n",
    "\n",
    "def _normalise_dir(p: str) -> str:\n",
    "    return p if p.endswith(\"/\") else p + \"/\"\n",
    "\n",
    "def _success_exists(target_dir: str) -> bool:\n",
    "    jvm = spark._jvm; hconf = spark._jsc.hadoopConfiguration()\n",
    "    try:\n",
    "        uri = jvm.java.net.URI(target_dir)\n",
    "        fs = jvm.org.apache.hadoop.fs.FileSystem.get(uri, hconf)\n",
    "        success = jvm.org.apache.hadoop.fs.Path(target_dir + \"_SUCCESS\")\n",
    "        exists = fs.exists(success)\n",
    "        print(f\"[status] _SUCCESS check at: {target_dir}_SUCCESS -> {exists}\")\n",
    "        return bool(exists)\n",
    "    except Exception as e:\n",
    "        print(f\"[status] _SUCCESS check failed ({e}); attempting read-probe …\")\n",
    "        try:\n",
    "            spark.read.parquet(target_dir).limit(1).count()\n",
    "            print(f\"[dewstatus59] read-probe succeeded at: {target_dir}\")\n",
    "            return True\n",
    "        except Exception as e2:\n",
    "            print(f\"[status] read-probe failed ({e2}); treating as not existing.\")\n",
    "            return False\n",
    "\n",
    "def _count_unique_ids(df: DataFrame) -> int:\n",
    "    return normalise_ids(df).count()\n",
    "\n",
    "def pick_unfiltered_daily(preferred_path: str = None) -> DataFrame:\n",
    "    \"\"\"Return an unfiltered daily DF (~129k unique station IDs).\"\"\"\n",
    "    cand_names = [\"daily\", \"read_daily\", \"daily_df\", \"daily_all\", \"ghcnd_daily\"]\n",
    "    print(\"[INFO] Candidate DataFrames:\", [n for n in cand_names if n in globals()])\n",
    "    for name in cand_names:\n",
    "        obj = globals().get(name)\n",
    "        if isinstance(obj, DataFrame):\n",
    "            try:\n",
    "                n = normalise_ids(obj).count()\n",
    "                print(f\"[CHECK] {name} unique station IDs:\", n)\n",
    "                if n >= 120_000:\n",
    "                    print(f\"[INFO] Using {name} as the unfiltered daily.\")\n",
    "                    return obj\n",
    "            except Exception as e:\n",
    "                print(f\"[WARN] Could not inspect {name}:\", repr(e))\n",
    "    if preferred_path:\n",
    "        print(f\"[INFO] Trying preferred_path: {preferred_path}\")\n",
    "        df = spark.read.parquet(str(preferred_path))\n",
    "        n = normalise_ids(df).count()\n",
    "        print(\"[CHECK] preferred_path unique station IDs:\", n)\n",
    "        if n >= 120_000:\n",
    "            print(\"[INFO] Using preferred_path as the unfiltered daily.\")\n",
    "            return df\n",
    "    for var in [\"DAILY_READ_NAME\",\"DAILY_WRITE_NAME\",\"daily_read_name\",\"daily_write_name\",\"DAILY_NAME\"]:\n",
    "        if var in globals():\n",
    "            path = globals()[var]\n",
    "            try:\n",
    "                print(f\"[INFO] Trying {var} = {path}\")\n",
    "                df = spark.read.parquet(str(path))\n",
    "                n = normalise_ids(df).count()\n",
    "                print(f\"[CHECK] {var} unique station IDs:\", n)\n",
    "                if n >= 120_000:\n",
    "                    print(f\"[INFO] Using {var} as the unfiltered daily.\")\n",
    "                    return df\n",
    "            except Exception as e:\n",
    "                print(f\"[WARN] Could not read {var}:\", repr(e))\n",
    "    raise SystemExit(\"[FATAL] Could not find an unfiltered daily dataset (expected ~129k unique station IDs).\")\n",
    "\n",
    "# Where to save diagnostics (use your username as requested)\n",
    "\n",
    "\n",
    "\n",
    "# Back-compat aliases so existing code keeps working\n",
    "_ids       = normalise_ids\n",
    "canon_ids  = normalise_ids\n",
    "_canon_ids = normalise_ids\n",
    "\n",
    "#print(\"[TEST] Using _canon_ids:\", _canon_ids(stations).count())\n",
    "#print(\"[TEST] Using canon_ids :\", canon_ids(stations).count())\n",
    "#print(\"[TEST] Using _ids      :\", _ids(stations).count())"
   ]
  },
  {
   "cell_type": "code",
   "execution_count": 7,
   "id": "586fca6e-683f-4426-b354-175f8eeb5000",
   "metadata": {
    "scrolled": true
   },
   "outputs": [
    {
     "name": "stdout",
     "output_type": "stream",
     "text": [
      "Found 5 items\n",
      "drwxrwxrwx   -          0 1970-01-01 12:00 wasbs://campus-data@madsstorage002.blob.core.windows.net/ghcnd/daily\n",
      "-rwxrwxrwx   1      3.6 K 2025-08-01 21:31 wasbs://campus-data@madsstorage002.blob.core.windows.net/ghcnd/ghcnd-countries.txt\n",
      "-rwxrwxrwx   1     33.6 M 2025-08-01 21:31 wasbs://campus-data@madsstorage002.blob.core.windows.net/ghcnd/ghcnd-inventory.txt\n",
      "-rwxrwxrwx   1      1.1 K 2025-08-01 21:31 wasbs://campus-data@madsstorage002.blob.core.windows.net/ghcnd/ghcnd-states.txt\n",
      "-rwxrwxrwx   1     10.6 M 2025-08-01 21:31 wasbs://campus-data@madsstorage002.blob.core.windows.net/ghcnd/ghcnd-stations.txt\n"
     ]
    }
   ],
   "source": [
    "# overall time metric\n",
    "notebook_run_time = time.time() \n",
    "daily_root = WASBS_DAILY.rstrip('/') + '/' \n",
    "data_root  = WASBS_DATA.rstrip('/')  + '/'\n",
    "# Use the hdfs command to explore the data in Azure Blob Storage\n",
    "#!hdfs dfs -ls wasbs://{azure_data_container_name}@{azure_account_name}.blob.core.windows.net/ghcnd/\n",
    "!hdfs dfs -ls -h {WASBS_DATA} "
   ]
  },
  {
   "cell_type": "code",
   "execution_count": 8,
   "id": "39e35147-add4-42c6-83e5-7c235be0d4d7",
   "metadata": {
    "scrolled": true
   },
   "outputs": [
    {
     "name": "stdout",
     "output_type": "stream",
     "text": [
      "13.0 G  13.0 G  wasbs://campus-data@madsstorage002.blob.core.windows.net/ghcnd/daily\n",
      "Found 264 items\n",
      "-rwxrwxrwx   1      1.3 M 2025-08-01 21:30 wasbs://campus-data@madsstorage002.blob.core.windows.net/ghcnd/daily/1750.csv.gz\n",
      "-rwxrwxrwx   1      3.3 K 2025-08-01 21:30 wasbs://campus-data@madsstorage002.blob.core.windows.net/ghcnd/daily/1763.csv.gz\n",
      "-rwxrwxrwx   1      3.2 K 2025-08-01 21:30 wasbs://campus-data@madsstorage002.blob.core.windows.net/ghcnd/daily/1764.csv.gz\n",
      "-rwxrwxrwx   1      3.3 K 2025-08-01 21:30 wasbs://campus-data@madsstorage002.blob.core.windows.net/ghcnd/daily/1765.csv.gz\n",
      "-rwxrwxrwx   1      3.3 K 2025-08-01 21:30 wasbs://campus-data@madsstorage002.blob.core.windows.net/ghcnd/daily/1766.csv.gz\n",
      "-rwxrwxrwx   1      3.3 K 2025-08-01 21:30 wasbs://campus-data@madsstorage002.blob.core.windows.net/ghcnd/daily/1767.csv.gz\n",
      "-rwxrwxrwx   1      3.2 K 2025-08-01 21:30 wasbs://campus-data@madsstorage002.blob.core.windows.net/ghcnd/daily/1768.csv.gz\n",
      "-rwxrwxrwx   1      3.3 K 2025-08-01 21:30 wasbs://campus-data@madsstorage002.blob.core.windows.net/ghcnd/daily/1769.csv.gz\n",
      "-rwxrwxrwx   1      3.3 K 2025-08-01 21:30 wasbs://campus-data@madsstorage002.blob.core.windows.net/ghcnd/daily/1770.csv.gz\n",
      "-rwxrwxrwx   1      3.3 K 2025-08-01 21:30 wasbs://campus-data@madsstorage002.blob.core.windows.net/ghcnd/daily/1771.csv.gz\n",
      "-rwxrwxrwx   1      3.3 K 2025-08-01 21:30 wasbs://campus-data@madsstorage002.blob.core.windows.net/ghcnd/daily/1772.csv.gz\n",
      "-rwxrwxrwx   1      3.3 K 2025-08-01 21:30 wasbs://campus-data@madsstorage002.blob.core.windows.net/ghcnd/daily/1773.csv.gz\n",
      "-rwxrwxrwx   1      3.3 K 2025-08-01 21:30 wasbs://campus-data@madsstorage002.blob.core.windows.net/ghcnd/daily/1774.csv.gz\n",
      "-rwxrwxrwx   1      6.2 K 2025-08-01 21:30 wasbs://campus-data@madsstorage002.blob.core.windows.net/ghcnd/daily/1775.csv.gz\n",
      "-rwxrwxrwx   1      6.3 K 2025-08-01 21:30 wasbs://campus-data@madsstorage002.blob.core.windows.net/ghcnd/daily/1776.csv.gz\n",
      "-rwxrwxrwx   1      6.3 K 2025-08-01 21:30 wasbs://campus-data@madsstorage002.blob.core.windows.net/ghcnd/daily/1777.csv.gz\n",
      "-rwxrwxrwx   1      6.1 K 2025-08-01 21:30 wasbs://campus-data@madsstorage002.blob.core.windows.net/ghcnd/daily/1778.csv.gz\n",
      "-rwxrwxrwx   1        6 K 2025-08-01 21:30 wasbs://campus-data@madsstorage002.blob.core.windows.net/ghcnd/daily/1779.csv.gz\n",
      "-rwxrwxrwx   1      6.1 K 2025-08-01 21:30 wasbs://campus-data@madsstorage002.blob.core.windows.net/ghcnd/daily/1780.csv.gz\n",
      "-rwxrwxrwx   1      7.7 K 2025-08-01 21:30 wasbs://campus-data@madsstorage002.blob.core.windows.net/ghcnd/daily/1781.csv.gz\n",
      "-rwxrwxrwx   1      7.7 K 2025-08-01 21:30 wasbs://campus-data@madsstorage002.blob.core.windows.net/ghcnd/daily/1782.csv.gz\n",
      "-rwxrwxrwx   1      7.8 K 2025-08-01 21:30 wasbs://campus-data@madsstorage002.blob.core.windows.net/ghcnd/daily/1783.csv.gz\n",
      "-rwxrwxrwx   1      7.8 K 2025-08-01 21:30 wasbs://campus-data@madsstorage002.blob.core.windows.net/ghcnd/daily/1784.csv.gz\n",
      "-rwxrwxrwx   1      7.7 K 2025-08-01 21:30 wasbs://campus-data@madsstorage002.blob.core.windows.net/ghcnd/daily/1785.csv.gz\n",
      "-rwxrwxrwx   1      7.7 K 2025-08-01 21:30 wasbs://campus-data@madsstorage002.blob.core.windows.net/ghcnd/daily/1786.csv.gz\n",
      "-rwxrwxrwx   1      6.2 K 2025-08-01 21:30 wasbs://campus-data@madsstorage002.blob.core.windows.net/ghcnd/daily/1787.csv.gz\n",
      "-rwxrwxrwx   1      6.2 K 2025-08-01 21:30 wasbs://campus-data@madsstorage002.blob.core.windows.net/ghcnd/daily/1788.csv.gz\n",
      "-rwxrwxrwx   1      7.7 K 2025-08-01 21:30 wasbs://campus-data@madsstorage002.blob.core.windows.net/ghcnd/daily/1789.csv.gz\n",
      "-rwxrwxrwx   1      7.7 K 2025-08-01 21:30 wasbs://campus-data@madsstorage002.blob.core.windows.net/ghcnd/daily/1790.csv.gz\n",
      "-rwxrwxrwx   1      7.6 K 2025-08-01 21:30 wasbs://campus-data@madsstorage002.blob.core.windows.net/ghcnd/daily/1791.csv.gz\n",
      "-rwxrwxrwx   1      7.7 K 2025-08-01 21:30 wasbs://campus-data@madsstorage002.blob.core.windows.net/ghcnd/daily/1792.csv.gz\n",
      "-rwxrwxrwx   1      6.2 K 2025-08-01 21:30 wasbs://campus-data@madsstorage002.blob.core.windows.net/ghcnd/daily/1793.csv.gz\n",
      "-rwxrwxrwx   1      7.6 K 2025-08-01 21:30 wasbs://campus-data@madsstorage002.blob.core.windows.net/ghcnd/daily/1794.csv.gz\n",
      "-rwxrwxrwx   1      7.7 K 2025-08-01 21:30 wasbs://campus-data@madsstorage002.blob.core.windows.net/ghcnd/daily/1795.csv.gz\n",
      "-rwxrwxrwx   1      7.7 K 2025-08-01 21:30 wasbs://campus-data@madsstorage002.blob.core.windows.net/ghcnd/daily/1796.csv.gz\n",
      "-rwxrwxrwx   1      9.1 K 2025-08-01 21:30 wasbs://campus-data@madsstorage002.blob.core.windows.net/ghcnd/daily/1797.csv.gz\n",
      "-rwxrwxrwx   1      9.1 K 2025-08-01 21:30 wasbs://campus-data@madsstorage002.blob.core.windows.net/ghcnd/daily/1798.csv.gz\n",
      "-rwxrwxrwx   1      6.2 K 2025-08-01 21:30 wasbs://campus-data@madsstorage002.blob.core.windows.net/ghcnd/daily/1799.csv.gz\n",
      "-rwxrwxrwx   1      7.7 K 2025-08-01 21:30 wasbs://campus-data@madsstorage002.blob.core.windows.net/ghcnd/daily/1800.csv.gz\n",
      "-rwxrwxrwx   1      7.7 K 2025-08-01 21:30 wasbs://campus-data@madsstorage002.blob.core.windows.net/ghcnd/daily/1801.csv.gz\n",
      "-rwxrwxrwx   1      9.0 K 2025-08-01 21:30 wasbs://campus-data@madsstorage002.blob.core.windows.net/ghcnd/daily/1802.csv.gz\n",
      "-rwxrwxrwx   1      7.8 K 2025-08-01 21:30 wasbs://campus-data@madsstorage002.blob.core.windows.net/ghcnd/daily/1803.csv.gz\n",
      "-rwxrwxrwx   1      8.7 K 2025-08-01 21:30 wasbs://campus-data@madsstorage002.blob.core.windows.net/ghcnd/daily/1804.csv.gz\n",
      "-rwxrwxrwx   1      8.8 K 2025-08-01 21:30 wasbs://campus-data@madsstorage002.blob.core.windows.net/ghcnd/daily/1805.csv.gz\n",
      "-rwxrwxrwx   1      8.5 K 2025-08-01 21:30 wasbs://campus-data@madsstorage002.blob.core.windows.net/ghcnd/daily/1806.csv.gz\n",
      "-rwxrwxrwx   1      8.6 K 2025-08-01 21:30 wasbs://campus-data@madsstorage002.blob.core.windows.net/ghcnd/daily/1807.csv.gz\n",
      "-rwxrwxrwx   1      8.8 K 2025-08-01 21:30 wasbs://campus-data@madsstorage002.blob.core.windows.net/ghcnd/daily/1808.csv.gz\n",
      "-rwxrwxrwx   1      8.7 K 2025-08-01 21:30 wasbs://campus-data@madsstorage002.blob.core.windows.net/ghcnd/daily/1809.csv.gz\n",
      "-rwxrwxrwx   1      8.7 K 2025-08-01 21:30 wasbs://campus-data@madsstorage002.blob.core.windows.net/ghcnd/daily/1810.csv.gz\n",
      "-rwxrwxrwx   1      8.7 K 2025-08-01 21:30 wasbs://campus-data@madsstorage002.blob.core.windows.net/ghcnd/daily/1811.csv.gz\n",
      "-rwxrwxrwx   1      8.8 K 2025-08-01 21:30 wasbs://campus-data@madsstorage002.blob.core.windows.net/ghcnd/daily/1812.csv.gz\n",
      "-rwxrwxrwx   1      9.1 K 2025-08-01 21:30 wasbs://campus-data@madsstorage002.blob.core.windows.net/ghcnd/daily/1813.csv.gz\n",
      "-rwxrwxrwx   1     10.6 K 2025-08-01 21:30 wasbs://campus-data@madsstorage002.blob.core.windows.net/ghcnd/daily/1814.csv.gz\n",
      "-rwxrwxrwx   1     13.6 K 2025-08-01 21:30 wasbs://campus-data@madsstorage002.blob.core.windows.net/ghcnd/daily/1815.csv.gz\n",
      "-rwxrwxrwx   1     13.6 K 2025-08-01 21:30 wasbs://campus-data@madsstorage002.blob.core.windows.net/ghcnd/daily/1816.csv.gz\n",
      "-rwxrwxrwx   1     13.4 K 2025-08-01 21:30 wasbs://campus-data@madsstorage002.blob.core.windows.net/ghcnd/daily/1817.csv.gz\n",
      "-rwxrwxrwx   1     13.5 K 2025-08-01 21:30 wasbs://campus-data@madsstorage002.blob.core.windows.net/ghcnd/daily/1818.csv.gz\n",
      "-rwxrwxrwx   1     13.4 K 2025-08-01 21:30 wasbs://campus-data@madsstorage002.blob.core.windows.net/ghcnd/daily/1819.csv.gz\n",
      "-rwxrwxrwx   1     13.7 K 2025-08-01 21:30 wasbs://campus-data@madsstorage002.blob.core.windows.net/ghcnd/daily/1820.csv.gz\n",
      "-rwxrwxrwx   1     13.5 K 2025-08-01 21:30 wasbs://campus-data@madsstorage002.blob.core.windows.net/ghcnd/daily/1821.csv.gz\n",
      "-rwxrwxrwx   1     13.7 K 2025-08-01 21:30 wasbs://campus-data@madsstorage002.blob.core.windows.net/ghcnd/daily/1822.csv.gz\n",
      "-rwxrwxrwx   1     14.4 K 2025-08-01 21:30 wasbs://campus-data@madsstorage002.blob.core.windows.net/ghcnd/daily/1823.csv.gz\n",
      "-rwxrwxrwx   1     17.7 K 2025-08-01 21:30 wasbs://campus-data@madsstorage002.blob.core.windows.net/ghcnd/daily/1824.csv.gz\n",
      "-rwxrwxrwx   1     17.8 K 2025-08-01 21:30 wasbs://campus-data@madsstorage002.blob.core.windows.net/ghcnd/daily/1825.csv.gz\n",
      "-rwxrwxrwx   1     18.1 K 2025-08-01 21:30 wasbs://campus-data@madsstorage002.blob.core.windows.net/ghcnd/daily/1826.csv.gz\n",
      "-rwxrwxrwx   1     20.4 K 2025-08-01 21:30 wasbs://campus-data@madsstorage002.blob.core.windows.net/ghcnd/daily/1827.csv.gz\n",
      "-rwxrwxrwx   1     20.5 K 2025-08-01 21:30 wasbs://campus-data@madsstorage002.blob.core.windows.net/ghcnd/daily/1828.csv.gz\n",
      "-rwxrwxrwx   1     20.6 K 2025-08-01 21:30 wasbs://campus-data@madsstorage002.blob.core.windows.net/ghcnd/daily/1829.csv.gz\n",
      "-rwxrwxrwx   1     20.8 K 2025-08-01 21:30 wasbs://campus-data@madsstorage002.blob.core.windows.net/ghcnd/daily/1830.csv.gz\n",
      "-rwxrwxrwx   1     20.8 K 2025-08-01 21:30 wasbs://campus-data@madsstorage002.blob.core.windows.net/ghcnd/daily/1831.csv.gz\n",
      "-rwxrwxrwx   1     21.9 K 2025-08-01 21:30 wasbs://campus-data@madsstorage002.blob.core.windows.net/ghcnd/daily/1832.csv.gz\n",
      "-rwxrwxrwx   1     26.4 K 2025-08-01 21:30 wasbs://campus-data@madsstorage002.blob.core.windows.net/ghcnd/daily/1833.csv.gz\n",
      "-rwxrwxrwx   1     26.2 K 2025-08-01 21:30 wasbs://campus-data@madsstorage002.blob.core.windows.net/ghcnd/daily/1834.csv.gz\n",
      "-rwxrwxrwx   1     26.7 K 2025-08-01 21:30 wasbs://campus-data@madsstorage002.blob.core.windows.net/ghcnd/daily/1835.csv.gz\n",
      "-rwxrwxrwx   1     28.9 K 2025-08-01 21:30 wasbs://campus-data@madsstorage002.blob.core.windows.net/ghcnd/daily/1836.csv.gz\n",
      "-rwxrwxrwx   1     28.5 K 2025-08-01 21:30 wasbs://campus-data@madsstorage002.blob.core.windows.net/ghcnd/daily/1837.csv.gz\n",
      "-rwxrwxrwx   1     30.8 K 2025-08-01 21:30 wasbs://campus-data@madsstorage002.blob.core.windows.net/ghcnd/daily/1838.csv.gz\n",
      "-rwxrwxrwx   1     28.8 K 2025-08-01 21:30 wasbs://campus-data@madsstorage002.blob.core.windows.net/ghcnd/daily/1839.csv.gz\n",
      "-rwxrwxrwx   1     35.0 K 2025-08-01 21:30 wasbs://campus-data@madsstorage002.blob.core.windows.net/ghcnd/daily/1840.csv.gz\n",
      "-rwxrwxrwx   1     36.0 K 2025-08-01 21:30 wasbs://campus-data@madsstorage002.blob.core.windows.net/ghcnd/daily/1841.csv.gz\n",
      "-rwxrwxrwx   1     38.4 K 2025-08-01 21:30 wasbs://campus-data@madsstorage002.blob.core.windows.net/ghcnd/daily/1842.csv.gz\n",
      "-rwxrwxrwx   1     42.6 K 2025-08-01 21:30 wasbs://campus-data@madsstorage002.blob.core.windows.net/ghcnd/daily/1843.csv.gz\n",
      "-rwxrwxrwx   1     48.4 K 2025-08-01 21:30 wasbs://campus-data@madsstorage002.blob.core.windows.net/ghcnd/daily/1844.csv.gz\n",
      "-rwxrwxrwx   1     56.7 K 2025-08-01 21:30 wasbs://campus-data@madsstorage002.blob.core.windows.net/ghcnd/daily/1845.csv.gz\n",
      "-rwxrwxrwx   1     54.3 K 2025-08-01 21:30 wasbs://campus-data@madsstorage002.blob.core.windows.net/ghcnd/daily/1846.csv.gz\n",
      "-rwxrwxrwx   1     55.8 K 2025-08-01 21:30 wasbs://campus-data@madsstorage002.blob.core.windows.net/ghcnd/daily/1847.csv.gz\n",
      "-rwxrwxrwx   1     54.9 K 2025-08-01 21:30 wasbs://campus-data@madsstorage002.blob.core.windows.net/ghcnd/daily/1848.csv.gz\n",
      "-rwxrwxrwx   1     56.7 K 2025-08-01 21:30 wasbs://campus-data@madsstorage002.blob.core.windows.net/ghcnd/daily/1849.csv.gz\n",
      "-rwxrwxrwx   1     56.6 K 2025-08-01 21:30 wasbs://campus-data@madsstorage002.blob.core.windows.net/ghcnd/daily/1850.csv.gz\n",
      "-rwxrwxrwx   1     64.0 K 2025-08-01 21:30 wasbs://campus-data@madsstorage002.blob.core.windows.net/ghcnd/daily/1851.csv.gz\n",
      "-rwxrwxrwx   1     68.8 K 2025-08-01 21:30 wasbs://campus-data@madsstorage002.blob.core.windows.net/ghcnd/daily/1852.csv.gz\n",
      "-rwxrwxrwx   1     69.4 K 2025-08-01 21:30 wasbs://campus-data@madsstorage002.blob.core.windows.net/ghcnd/daily/1853.csv.gz\n",
      "-rwxrwxrwx   1     69.4 K 2025-08-01 21:30 wasbs://campus-data@madsstorage002.blob.core.windows.net/ghcnd/daily/1854.csv.gz\n",
      "-rwxrwxrwx   1     75.1 K 2025-08-01 21:30 wasbs://campus-data@madsstorage002.blob.core.windows.net/ghcnd/daily/1855.csv.gz\n",
      "-rwxrwxrwx   1     85.0 K 2025-08-01 21:30 wasbs://campus-data@madsstorage002.blob.core.windows.net/ghcnd/daily/1856.csv.gz\n",
      "-rwxrwxrwx   1     93.5 K 2025-08-01 21:30 wasbs://campus-data@madsstorage002.blob.core.windows.net/ghcnd/daily/1857.csv.gz\n",
      "-rwxrwxrwx   1    124.7 K 2025-08-01 21:30 wasbs://campus-data@madsstorage002.blob.core.windows.net/ghcnd/daily/1858.csv.gz\n",
      "-rwxrwxrwx   1    141.1 K 2025-08-01 21:30 wasbs://campus-data@madsstorage002.blob.core.windows.net/ghcnd/daily/1859.csv.gz\n",
      "-rwxrwxrwx   1    149.2 K 2025-08-01 21:30 wasbs://campus-data@madsstorage002.blob.core.windows.net/ghcnd/daily/1860.csv.gz\n",
      "-rwxrwxrwx   1    156.4 K 2025-08-01 21:30 wasbs://campus-data@madsstorage002.blob.core.windows.net/ghcnd/daily/1861.csv.gz\n",
      "-rwxrwxrwx   1    150.0 K 2025-08-01 21:30 wasbs://campus-data@madsstorage002.blob.core.windows.net/ghcnd/daily/1862.csv.gz\n",
      "-rwxrwxrwx   1    165.8 K 2025-08-01 21:30 wasbs://campus-data@madsstorage002.blob.core.windows.net/ghcnd/daily/1863.csv.gz\n",
      "-rwxrwxrwx   1    165.2 K 2025-08-01 21:30 wasbs://campus-data@madsstorage002.blob.core.windows.net/ghcnd/daily/1864.csv.gz\n",
      "-rwxrwxrwx   1    165.4 K 2025-08-01 21:30 wasbs://campus-data@madsstorage002.blob.core.windows.net/ghcnd/daily/1865.csv.gz\n",
      "-rwxrwxrwx   1    213.6 K 2025-08-01 21:30 wasbs://campus-data@madsstorage002.blob.core.windows.net/ghcnd/daily/1866.csv.gz\n",
      "-rwxrwxrwx   1    255.1 K 2025-08-01 21:30 wasbs://campus-data@madsstorage002.blob.core.windows.net/ghcnd/daily/1867.csv.gz\n",
      "-rwxrwxrwx   1    269.2 K 2025-08-01 21:30 wasbs://campus-data@madsstorage002.blob.core.windows.net/ghcnd/daily/1868.csv.gz\n",
      "-rwxrwxrwx   1    311.8 K 2025-08-01 21:30 wasbs://campus-data@madsstorage002.blob.core.windows.net/ghcnd/daily/1869.csv.gz\n",
      "-rwxrwxrwx   1    357.8 K 2025-08-01 21:30 wasbs://campus-data@madsstorage002.blob.core.windows.net/ghcnd/daily/1870.csv.gz\n",
      "-rwxrwxrwx   1    469.2 K 2025-08-01 21:30 wasbs://campus-data@madsstorage002.blob.core.windows.net/ghcnd/daily/1871.csv.gz\n",
      "-rwxrwxrwx   1    638.3 K 2025-08-01 21:30 wasbs://campus-data@madsstorage002.blob.core.windows.net/ghcnd/daily/1872.csv.gz\n",
      "-rwxrwxrwx   1    717.2 K 2025-08-01 21:30 wasbs://campus-data@madsstorage002.blob.core.windows.net/ghcnd/daily/1873.csv.gz\n",
      "-rwxrwxrwx   1    799.8 K 2025-08-01 21:30 wasbs://campus-data@madsstorage002.blob.core.windows.net/ghcnd/daily/1874.csv.gz\n",
      "-rwxrwxrwx   1    867.5 K 2025-08-01 21:30 wasbs://campus-data@madsstorage002.blob.core.windows.net/ghcnd/daily/1875.csv.gz\n",
      "-rwxrwxrwx   1    944.5 K 2025-08-01 21:30 wasbs://campus-data@madsstorage002.blob.core.windows.net/ghcnd/daily/1876.csv.gz\n",
      "-rwxrwxrwx   1      1.0 M 2025-08-01 21:30 wasbs://campus-data@madsstorage002.blob.core.windows.net/ghcnd/daily/1877.csv.gz\n",
      "-rwxrwxrwx   1      1.2 M 2025-08-01 21:30 wasbs://campus-data@madsstorage002.blob.core.windows.net/ghcnd/daily/1878.csv.gz\n",
      "-rwxrwxrwx   1      1.4 M 2025-08-01 21:30 wasbs://campus-data@madsstorage002.blob.core.windows.net/ghcnd/daily/1879.csv.gz\n",
      "-rwxrwxrwx   1      1.8 M 2025-08-01 21:30 wasbs://campus-data@madsstorage002.blob.core.windows.net/ghcnd/daily/1880.csv.gz\n",
      "-rwxrwxrwx   1      2.1 M 2025-08-01 21:30 wasbs://campus-data@madsstorage002.blob.core.windows.net/ghcnd/daily/1881.csv.gz\n",
      "-rwxrwxrwx   1      2.4 M 2025-08-01 21:30 wasbs://campus-data@madsstorage002.blob.core.windows.net/ghcnd/daily/1882.csv.gz\n",
      "-rwxrwxrwx   1      2.7 M 2025-08-01 21:30 wasbs://campus-data@madsstorage002.blob.core.windows.net/ghcnd/daily/1883.csv.gz\n",
      "-rwxrwxrwx   1      3.2 M 2025-08-01 21:30 wasbs://campus-data@madsstorage002.blob.core.windows.net/ghcnd/daily/1884.csv.gz\n",
      "-rwxrwxrwx   1      3.6 M 2025-08-01 21:30 wasbs://campus-data@madsstorage002.blob.core.windows.net/ghcnd/daily/1885.csv.gz\n",
      "-rwxrwxrwx   1      3.9 M 2025-08-01 21:30 wasbs://campus-data@madsstorage002.blob.core.windows.net/ghcnd/daily/1886.csv.gz\n",
      "-rwxrwxrwx   1      4.4 M 2025-08-01 21:30 wasbs://campus-data@madsstorage002.blob.core.windows.net/ghcnd/daily/1887.csv.gz\n",
      "-rwxrwxrwx   1      4.7 M 2025-08-01 21:30 wasbs://campus-data@madsstorage002.blob.core.windows.net/ghcnd/daily/1888.csv.gz\n",
      "-rwxrwxrwx   1      5.1 M 2025-08-01 21:30 wasbs://campus-data@madsstorage002.blob.core.windows.net/ghcnd/daily/1889.csv.gz\n",
      "-rwxrwxrwx   1      5.6 M 2025-08-01 21:30 wasbs://campus-data@madsstorage002.blob.core.windows.net/ghcnd/daily/1890.csv.gz\n",
      "-rwxrwxrwx   1      5.9 M 2025-08-01 21:30 wasbs://campus-data@madsstorage002.blob.core.windows.net/ghcnd/daily/1891.csv.gz\n",
      "-rwxrwxrwx   1      6.8 M 2025-08-01 21:30 wasbs://campus-data@madsstorage002.blob.core.windows.net/ghcnd/daily/1892.csv.gz\n",
      "-rwxrwxrwx   1     12.5 M 2025-08-01 21:30 wasbs://campus-data@madsstorage002.blob.core.windows.net/ghcnd/daily/1893.csv.gz\n",
      "-rwxrwxrwx   1     13.3 M 2025-08-01 21:30 wasbs://campus-data@madsstorage002.blob.core.windows.net/ghcnd/daily/1894.csv.gz\n",
      "-rwxrwxrwx   1     14.4 M 2025-08-01 21:30 wasbs://campus-data@madsstorage002.blob.core.windows.net/ghcnd/daily/1895.csv.gz\n",
      "-rwxrwxrwx   1     15.5 M 2025-08-01 21:30 wasbs://campus-data@madsstorage002.blob.core.windows.net/ghcnd/daily/1896.csv.gz\n",
      "-rwxrwxrwx   1     16.7 M 2025-08-01 21:30 wasbs://campus-data@madsstorage002.blob.core.windows.net/ghcnd/daily/1897.csv.gz\n",
      "-rwxrwxrwx   1     17.4 M 2025-08-01 21:30 wasbs://campus-data@madsstorage002.blob.core.windows.net/ghcnd/daily/1898.csv.gz\n",
      "-rwxrwxrwx   1     18.1 M 2025-08-01 21:30 wasbs://campus-data@madsstorage002.blob.core.windows.net/ghcnd/daily/1899.csv.gz\n",
      "-rwxrwxrwx   1     19.3 M 2025-08-01 21:30 wasbs://campus-data@madsstorage002.blob.core.windows.net/ghcnd/daily/1900.csv.gz\n",
      "-rwxrwxrwx   1     24.5 M 2025-08-01 21:30 wasbs://campus-data@madsstorage002.blob.core.windows.net/ghcnd/daily/1901.csv.gz\n",
      "-rwxrwxrwx   1     25.5 M 2025-08-01 21:30 wasbs://campus-data@madsstorage002.blob.core.windows.net/ghcnd/daily/1902.csv.gz\n",
      "-rwxrwxrwx   1     26.0 M 2025-08-01 21:30 wasbs://campus-data@madsstorage002.blob.core.windows.net/ghcnd/daily/1903.csv.gz\n",
      "-rwxrwxrwx   1     26.9 M 2025-08-01 21:30 wasbs://campus-data@madsstorage002.blob.core.windows.net/ghcnd/daily/1904.csv.gz\n",
      "-rwxrwxrwx   1     28.2 M 2025-08-01 21:30 wasbs://campus-data@madsstorage002.blob.core.windows.net/ghcnd/daily/1905.csv.gz\n",
      "-rwxrwxrwx   1     28.9 M 2025-08-01 21:30 wasbs://campus-data@madsstorage002.blob.core.windows.net/ghcnd/daily/1906.csv.gz\n",
      "-rwxrwxrwx   1     29.6 M 2025-08-01 21:30 wasbs://campus-data@madsstorage002.blob.core.windows.net/ghcnd/daily/1907.csv.gz\n",
      "-rwxrwxrwx   1     30.3 M 2025-08-01 21:30 wasbs://campus-data@madsstorage002.blob.core.windows.net/ghcnd/daily/1908.csv.gz\n",
      "-rwxrwxrwx   1     31.9 M 2025-08-01 21:30 wasbs://campus-data@madsstorage002.blob.core.windows.net/ghcnd/daily/1909.csv.gz\n",
      "-rwxrwxrwx   1     33.0 M 2025-08-01 21:31 wasbs://campus-data@madsstorage002.blob.core.windows.net/ghcnd/daily/1910.csv.gz\n",
      "-rwxrwxrwx   1     34.2 M 2025-08-01 21:30 wasbs://campus-data@madsstorage002.blob.core.windows.net/ghcnd/daily/1911.csv.gz\n",
      "-rwxrwxrwx   1     35.5 M 2025-08-01 21:30 wasbs://campus-data@madsstorage002.blob.core.windows.net/ghcnd/daily/1912.csv.gz\n",
      "-rwxrwxrwx   1     36.4 M 2025-08-01 21:30 wasbs://campus-data@madsstorage002.blob.core.windows.net/ghcnd/daily/1913.csv.gz\n",
      "-rwxrwxrwx   1     37.6 M 2025-08-01 21:30 wasbs://campus-data@madsstorage002.blob.core.windows.net/ghcnd/daily/1914.csv.gz\n",
      "-rwxrwxrwx   1     38.7 M 2025-08-01 21:30 wasbs://campus-data@madsstorage002.blob.core.windows.net/ghcnd/daily/1915.csv.gz\n",
      "-rwxrwxrwx   1     40.0 M 2025-08-01 21:31 wasbs://campus-data@madsstorage002.blob.core.windows.net/ghcnd/daily/1916.csv.gz\n",
      "-rwxrwxrwx   1     40.2 M 2025-08-01 21:30 wasbs://campus-data@madsstorage002.blob.core.windows.net/ghcnd/daily/1917.csv.gz\n",
      "-rwxrwxrwx   1     39.3 M 2025-08-01 21:31 wasbs://campus-data@madsstorage002.blob.core.windows.net/ghcnd/daily/1918.csv.gz\n",
      "-rwxrwxrwx   1     38.8 M 2025-08-01 21:30 wasbs://campus-data@madsstorage002.blob.core.windows.net/ghcnd/daily/1919.csv.gz\n",
      "-rwxrwxrwx   1     39.0 M 2025-08-01 21:30 wasbs://campus-data@madsstorage002.blob.core.windows.net/ghcnd/daily/1920.csv.gz\n",
      "-rwxrwxrwx   1     39.3 M 2025-08-01 21:30 wasbs://campus-data@madsstorage002.blob.core.windows.net/ghcnd/daily/1921.csv.gz\n",
      "-rwxrwxrwx   1     40.0 M 2025-08-01 21:30 wasbs://campus-data@madsstorage002.blob.core.windows.net/ghcnd/daily/1922.csv.gz\n",
      "-rwxrwxrwx   1     40.8 M 2025-08-01 21:30 wasbs://campus-data@madsstorage002.blob.core.windows.net/ghcnd/daily/1923.csv.gz\n",
      "-rwxrwxrwx   1     41.6 M 2025-08-01 21:30 wasbs://campus-data@madsstorage002.blob.core.windows.net/ghcnd/daily/1924.csv.gz\n",
      "-rwxrwxrwx   1     41.9 M 2025-08-01 21:30 wasbs://campus-data@madsstorage002.blob.core.windows.net/ghcnd/daily/1925.csv.gz\n",
      "-rwxrwxrwx   1     43.0 M 2025-08-01 21:31 wasbs://campus-data@madsstorage002.blob.core.windows.net/ghcnd/daily/1926.csv.gz\n",
      "-rwxrwxrwx   1     43.8 M 2025-08-01 21:30 wasbs://campus-data@madsstorage002.blob.core.windows.net/ghcnd/daily/1927.csv.gz\n",
      "-rwxrwxrwx   1     44.3 M 2025-08-01 21:30 wasbs://campus-data@madsstorage002.blob.core.windows.net/ghcnd/daily/1928.csv.gz\n",
      "-rwxrwxrwx   1     45.2 M 2025-08-01 21:30 wasbs://campus-data@madsstorage002.blob.core.windows.net/ghcnd/daily/1929.csv.gz\n",
      "-rwxrwxrwx   1     46.6 M 2025-08-01 21:30 wasbs://campus-data@madsstorage002.blob.core.windows.net/ghcnd/daily/1930.csv.gz\n",
      "-rwxrwxrwx   1     48.2 M 2025-08-01 21:30 wasbs://campus-data@madsstorage002.blob.core.windows.net/ghcnd/daily/1931.csv.gz\n",
      "-rwxrwxrwx   1     49.2 M 2025-08-01 21:30 wasbs://campus-data@madsstorage002.blob.core.windows.net/ghcnd/daily/1932.csv.gz\n",
      "-rwxrwxrwx   1     49.7 M 2025-08-01 21:30 wasbs://campus-data@madsstorage002.blob.core.windows.net/ghcnd/daily/1933.csv.gz\n",
      "-rwxrwxrwx   1     50.0 M 2025-08-01 21:30 wasbs://campus-data@madsstorage002.blob.core.windows.net/ghcnd/daily/1934.csv.gz\n",
      "-rwxrwxrwx   1     50.9 M 2025-08-01 21:30 wasbs://campus-data@madsstorage002.blob.core.windows.net/ghcnd/daily/1935.csv.gz\n",
      "-rwxrwxrwx   1     54.1 M 2025-08-01 21:30 wasbs://campus-data@madsstorage002.blob.core.windows.net/ghcnd/daily/1936.csv.gz\n",
      "-rwxrwxrwx   1     55.4 M 2025-08-01 21:30 wasbs://campus-data@madsstorage002.blob.core.windows.net/ghcnd/daily/1937.csv.gz\n",
      "-rwxrwxrwx   1     56.5 M 2025-08-01 21:30 wasbs://campus-data@madsstorage002.blob.core.windows.net/ghcnd/daily/1938.csv.gz\n",
      "-rwxrwxrwx   1     58.2 M 2025-08-01 21:30 wasbs://campus-data@madsstorage002.blob.core.windows.net/ghcnd/daily/1939.csv.gz\n",
      "-rwxrwxrwx   1     60.4 M 2025-08-01 21:30 wasbs://campus-data@madsstorage002.blob.core.windows.net/ghcnd/daily/1940.csv.gz\n",
      "-rwxrwxrwx   1     62.3 M 2025-08-01 21:30 wasbs://campus-data@madsstorage002.blob.core.windows.net/ghcnd/daily/1941.csv.gz\n",
      "-rwxrwxrwx   1     64.3 M 2025-08-01 21:30 wasbs://campus-data@madsstorage002.blob.core.windows.net/ghcnd/daily/1942.csv.gz\n",
      "-rwxrwxrwx   1     65.2 M 2025-08-01 21:31 wasbs://campus-data@madsstorage002.blob.core.windows.net/ghcnd/daily/1943.csv.gz\n",
      "-rwxrwxrwx   1     66.9 M 2025-08-01 21:30 wasbs://campus-data@madsstorage002.blob.core.windows.net/ghcnd/daily/1944.csv.gz\n",
      "-rwxrwxrwx   1     69.3 M 2025-08-01 21:30 wasbs://campus-data@madsstorage002.blob.core.windows.net/ghcnd/daily/1945.csv.gz\n",
      "-rwxrwxrwx   1     69.7 M 2025-08-01 21:30 wasbs://campus-data@madsstorage002.blob.core.windows.net/ghcnd/daily/1946.csv.gz\n",
      "-rwxrwxrwx   1     71.5 M 2025-08-01 21:30 wasbs://campus-data@madsstorage002.blob.core.windows.net/ghcnd/daily/1947.csv.gz\n",
      "-rwxrwxrwx   1     84.9 M 2025-08-01 21:30 wasbs://campus-data@madsstorage002.blob.core.windows.net/ghcnd/daily/1948.csv.gz\n",
      "-rwxrwxrwx   1     96.9 M 2025-08-01 21:31 wasbs://campus-data@madsstorage002.blob.core.windows.net/ghcnd/daily/1949.csv.gz\n",
      "-rwxrwxrwx   1     99.9 M 2025-08-01 21:30 wasbs://campus-data@madsstorage002.blob.core.windows.net/ghcnd/daily/1950.csv.gz\n",
      "-rwxrwxrwx   1    103.0 M 2025-08-01 21:31 wasbs://campus-data@madsstorage002.blob.core.windows.net/ghcnd/daily/1951.csv.gz\n",
      "-rwxrwxrwx   1    104.3 M 2025-08-01 21:30 wasbs://campus-data@madsstorage002.blob.core.windows.net/ghcnd/daily/1952.csv.gz\n",
      "-rwxrwxrwx   1    105.8 M 2025-08-01 21:30 wasbs://campus-data@madsstorage002.blob.core.windows.net/ghcnd/daily/1953.csv.gz\n",
      "-rwxrwxrwx   1    107.8 M 2025-08-01 21:31 wasbs://campus-data@madsstorage002.blob.core.windows.net/ghcnd/daily/1954.csv.gz\n",
      "-rwxrwxrwx   1    110.1 M 2025-08-01 21:30 wasbs://campus-data@madsstorage002.blob.core.windows.net/ghcnd/daily/1955.csv.gz\n",
      "-rwxrwxrwx   1    112.3 M 2025-08-01 21:31 wasbs://campus-data@madsstorage002.blob.core.windows.net/ghcnd/daily/1956.csv.gz\n",
      "-rwxrwxrwx   1    114.8 M 2025-08-01 21:31 wasbs://campus-data@madsstorage002.blob.core.windows.net/ghcnd/daily/1957.csv.gz\n",
      "-rwxrwxrwx   1    116.0 M 2025-08-01 21:30 wasbs://campus-data@madsstorage002.blob.core.windows.net/ghcnd/daily/1958.csv.gz\n",
      "-rwxrwxrwx   1    118.4 M 2025-08-01 21:30 wasbs://campus-data@madsstorage002.blob.core.windows.net/ghcnd/daily/1959.csv.gz\n",
      "-rwxrwxrwx   1    120.8 M 2025-08-01 21:30 wasbs://campus-data@madsstorage002.blob.core.windows.net/ghcnd/daily/1960.csv.gz\n",
      "-rwxrwxrwx   1    124.5 M 2025-08-01 21:30 wasbs://campus-data@madsstorage002.blob.core.windows.net/ghcnd/daily/1961.csv.gz\n",
      "-rwxrwxrwx   1    127.1 M 2025-08-01 21:30 wasbs://campus-data@madsstorage002.blob.core.windows.net/ghcnd/daily/1962.csv.gz\n",
      "-rwxrwxrwx   1    130.0 M 2025-08-01 21:31 wasbs://campus-data@madsstorage002.blob.core.windows.net/ghcnd/daily/1963.csv.gz\n",
      "-rwxrwxrwx   1    131.0 M 2025-08-01 21:31 wasbs://campus-data@madsstorage002.blob.core.windows.net/ghcnd/daily/1964.csv.gz\n",
      "-rwxrwxrwx   1    135.1 M 2025-08-01 21:30 wasbs://campus-data@madsstorage002.blob.core.windows.net/ghcnd/daily/1965.csv.gz\n",
      "-rwxrwxrwx   1    137.0 M 2025-08-01 21:30 wasbs://campus-data@madsstorage002.blob.core.windows.net/ghcnd/daily/1966.csv.gz\n",
      "-rwxrwxrwx   1    138.3 M 2025-08-01 21:31 wasbs://campus-data@madsstorage002.blob.core.windows.net/ghcnd/daily/1967.csv.gz\n",
      "-rwxrwxrwx   1    137.9 M 2025-08-01 21:31 wasbs://campus-data@madsstorage002.blob.core.windows.net/ghcnd/daily/1968.csv.gz\n",
      "-rwxrwxrwx   1    139.6 M 2025-08-01 21:31 wasbs://campus-data@madsstorage002.blob.core.windows.net/ghcnd/daily/1969.csv.gz\n",
      "-rwxrwxrwx   1    140.5 M 2025-08-01 21:30 wasbs://campus-data@madsstorage002.blob.core.windows.net/ghcnd/daily/1970.csv.gz\n",
      "-rwxrwxrwx   1    135.3 M 2025-08-01 21:30 wasbs://campus-data@madsstorage002.blob.core.windows.net/ghcnd/daily/1971.csv.gz\n",
      "-rwxrwxrwx   1    134.4 M 2025-08-01 21:31 wasbs://campus-data@madsstorage002.blob.core.windows.net/ghcnd/daily/1972.csv.gz\n",
      "-rwxrwxrwx   1    140.8 M 2025-08-01 21:30 wasbs://campus-data@madsstorage002.blob.core.windows.net/ghcnd/daily/1973.csv.gz\n",
      "-rwxrwxrwx   1    142.0 M 2025-08-01 21:31 wasbs://campus-data@madsstorage002.blob.core.windows.net/ghcnd/daily/1974.csv.gz\n",
      "-rwxrwxrwx   1    141.5 M 2025-08-01 21:31 wasbs://campus-data@madsstorage002.blob.core.windows.net/ghcnd/daily/1975.csv.gz\n",
      "-rwxrwxrwx   1    141.4 M 2025-08-01 21:31 wasbs://campus-data@madsstorage002.blob.core.windows.net/ghcnd/daily/1976.csv.gz\n",
      "-rwxrwxrwx   1    141.2 M 2025-08-01 21:31 wasbs://campus-data@madsstorage002.blob.core.windows.net/ghcnd/daily/1977.csv.gz\n",
      "-rwxrwxrwx   1    141.4 M 2025-08-01 21:30 wasbs://campus-data@madsstorage002.blob.core.windows.net/ghcnd/daily/1978.csv.gz\n",
      "-rwxrwxrwx   1    141.6 M 2025-08-01 21:31 wasbs://campus-data@madsstorage002.blob.core.windows.net/ghcnd/daily/1979.csv.gz\n",
      "-rwxrwxrwx   1    142.0 M 2025-08-01 21:31 wasbs://campus-data@madsstorage002.blob.core.windows.net/ghcnd/daily/1980.csv.gz\n",
      "-rwxrwxrwx   1    145.0 M 2025-08-01 21:30 wasbs://campus-data@madsstorage002.blob.core.windows.net/ghcnd/daily/1981.csv.gz\n",
      "-rwxrwxrwx   1    146.7 M 2025-08-01 21:30 wasbs://campus-data@madsstorage002.blob.core.windows.net/ghcnd/daily/1982.csv.gz\n",
      "-rwxrwxrwx   1    148.0 M 2025-08-01 21:31 wasbs://campus-data@madsstorage002.blob.core.windows.net/ghcnd/daily/1983.csv.gz\n",
      "-rwxrwxrwx   1    146.6 M 2025-08-01 21:30 wasbs://campus-data@madsstorage002.blob.core.windows.net/ghcnd/daily/1984.csv.gz\n",
      "-rwxrwxrwx   1    145.1 M 2025-08-01 21:30 wasbs://campus-data@madsstorage002.blob.core.windows.net/ghcnd/daily/1985.csv.gz\n",
      "-rwxrwxrwx   1    144.1 M 2025-08-01 21:30 wasbs://campus-data@madsstorage002.blob.core.windows.net/ghcnd/daily/1986.csv.gz\n",
      "-rwxrwxrwx   1    144.1 M 2025-08-01 21:31 wasbs://campus-data@madsstorage002.blob.core.windows.net/ghcnd/daily/1987.csv.gz\n",
      "-rwxrwxrwx   1    144.9 M 2025-08-01 21:31 wasbs://campus-data@madsstorage002.blob.core.windows.net/ghcnd/daily/1988.csv.gz\n",
      "-rwxrwxrwx   1    145.2 M 2025-08-01 21:30 wasbs://campus-data@madsstorage002.blob.core.windows.net/ghcnd/daily/1989.csv.gz\n",
      "-rwxrwxrwx   1    145.4 M 2025-08-01 21:30 wasbs://campus-data@madsstorage002.blob.core.windows.net/ghcnd/daily/1990.csv.gz\n",
      "-rwxrwxrwx   1    146.0 M 2025-08-01 21:31 wasbs://campus-data@madsstorage002.blob.core.windows.net/ghcnd/daily/1991.csv.gz\n",
      "-rwxrwxrwx   1    146.2 M 2025-08-01 21:30 wasbs://campus-data@madsstorage002.blob.core.windows.net/ghcnd/daily/1992.csv.gz\n",
      "-rwxrwxrwx   1    145.1 M 2025-08-01 21:30 wasbs://campus-data@madsstorage002.blob.core.windows.net/ghcnd/daily/1993.csv.gz\n",
      "-rwxrwxrwx   1    144.1 M 2025-08-01 21:30 wasbs://campus-data@madsstorage002.blob.core.windows.net/ghcnd/daily/1994.csv.gz\n",
      "-rwxrwxrwx   1    143.8 M 2025-08-01 21:31 wasbs://campus-data@madsstorage002.blob.core.windows.net/ghcnd/daily/1995.csv.gz\n",
      "-rwxrwxrwx   1    144.0 M 2025-08-01 21:31 wasbs://campus-data@madsstorage002.blob.core.windows.net/ghcnd/daily/1996.csv.gz\n",
      "-rwxrwxrwx   1    142.8 M 2025-08-01 21:31 wasbs://campus-data@madsstorage002.blob.core.windows.net/ghcnd/daily/1997.csv.gz\n",
      "-rwxrwxrwx   1    145.5 M 2025-08-01 21:31 wasbs://campus-data@madsstorage002.blob.core.windows.net/ghcnd/daily/1998.csv.gz\n",
      "-rwxrwxrwx   1    148.1 M 2025-08-01 21:31 wasbs://campus-data@madsstorage002.blob.core.windows.net/ghcnd/daily/1999.csv.gz\n",
      "-rwxrwxrwx   1    149.9 M 2025-08-01 21:30 wasbs://campus-data@madsstorage002.blob.core.windows.net/ghcnd/daily/2000.csv.gz\n",
      "-rwxrwxrwx   1    152.2 M 2025-08-01 21:31 wasbs://campus-data@madsstorage002.blob.core.windows.net/ghcnd/daily/2001.csv.gz\n",
      "-rwxrwxrwx   1    153.8 M 2025-08-01 21:31 wasbs://campus-data@madsstorage002.blob.core.windows.net/ghcnd/daily/2002.csv.gz\n",
      "-rwxrwxrwx   1    157.2 M 2025-08-01 21:30 wasbs://campus-data@madsstorage002.blob.core.windows.net/ghcnd/daily/2003.csv.gz\n",
      "-rwxrwxrwx   1    159.6 M 2025-08-01 21:30 wasbs://campus-data@madsstorage002.blob.core.windows.net/ghcnd/daily/2004.csv.gz\n",
      "-rwxrwxrwx   1    156.6 M 2025-08-01 21:30 wasbs://campus-data@madsstorage002.blob.core.windows.net/ghcnd/daily/2005.csv.gz\n",
      "-rwxrwxrwx   1    162.7 M 2025-08-01 21:31 wasbs://campus-data@madsstorage002.blob.core.windows.net/ghcnd/daily/2006.csv.gz\n",
      "-rwxrwxrwx   1    165.7 M 2025-08-01 21:31 wasbs://campus-data@madsstorage002.blob.core.windows.net/ghcnd/daily/2007.csv.gz\n",
      "-rwxrwxrwx   1    173.1 M 2025-08-01 21:30 wasbs://campus-data@madsstorage002.blob.core.windows.net/ghcnd/daily/2008.csv.gz\n",
      "-rwxrwxrwx   1    176.1 M 2025-08-01 21:31 wasbs://campus-data@madsstorage002.blob.core.windows.net/ghcnd/daily/2009.csv.gz\n",
      "-rwxrwxrwx   1    177.7 M 2025-08-01 21:31 wasbs://campus-data@madsstorage002.blob.core.windows.net/ghcnd/daily/2010.csv.gz\n",
      "-rwxrwxrwx   1    168.9 M 2025-08-01 21:31 wasbs://campus-data@madsstorage002.blob.core.windows.net/ghcnd/daily/2011.csv.gz\n",
      "-rwxrwxrwx   1    166.3 M 2025-08-01 21:31 wasbs://campus-data@madsstorage002.blob.core.windows.net/ghcnd/daily/2012.csv.gz\n",
      "-rwxrwxrwx   1    161.5 M 2025-08-01 21:30 wasbs://campus-data@madsstorage002.blob.core.windows.net/ghcnd/daily/2013.csv.gz\n",
      "-rwxrwxrwx   1    159.9 M 2025-08-01 21:31 wasbs://campus-data@madsstorage002.blob.core.windows.net/ghcnd/daily/2014.csv.gz\n",
      "-rwxrwxrwx   1    162.3 M 2025-08-01 21:30 wasbs://campus-data@madsstorage002.blob.core.windows.net/ghcnd/daily/2015.csv.gz\n",
      "-rwxrwxrwx   1    163.6 M 2025-08-01 21:31 wasbs://campus-data@madsstorage002.blob.core.windows.net/ghcnd/daily/2016.csv.gz\n",
      "-rwxrwxrwx   1    163.3 M 2025-08-01 21:30 wasbs://campus-data@madsstorage002.blob.core.windows.net/ghcnd/daily/2017.csv.gz\n",
      "-rwxrwxrwx   1    163.4 M 2025-08-01 21:31 wasbs://campus-data@madsstorage002.blob.core.windows.net/ghcnd/daily/2018.csv.gz\n",
      "-rwxrwxrwx   1    162.3 M 2025-08-01 21:31 wasbs://campus-data@madsstorage002.blob.core.windows.net/ghcnd/daily/2019.csv.gz\n",
      "-rwxrwxrwx   1    163.2 M 2025-08-01 21:31 wasbs://campus-data@madsstorage002.blob.core.windows.net/ghcnd/daily/2020.csv.gz\n",
      "-rwxrwxrwx   1    165.9 M 2025-08-01 21:30 wasbs://campus-data@madsstorage002.blob.core.windows.net/ghcnd/daily/2021.csv.gz\n",
      "-rwxrwxrwx   1    166.1 M 2025-08-01 21:31 wasbs://campus-data@madsstorage002.blob.core.windows.net/ghcnd/daily/2022.csv.gz\n",
      "-rwxrwxrwx   1    166.2 M 2025-08-01 21:30 wasbs://campus-data@madsstorage002.blob.core.windows.net/ghcnd/daily/2023.csv.gz\n",
      "-rwxrwxrwx   1    161.6 M 2025-08-01 21:31 wasbs://campus-data@madsstorage002.blob.core.windows.net/ghcnd/daily/2024.csv.gz\n",
      "-rwxrwxrwx   1     81.7 M 2025-08-01 21:30 wasbs://campus-data@madsstorage002.blob.core.windows.net/ghcnd/daily/2025.csv.gz\n"
     ]
    }
   ],
   "source": [
    "#!hdfs dfs -ls wasbs://{azure_data_container_name}@{azure_account_name}.blob.core.windows.net/ghcnd/daily/\n",
    "!hdfs dfs -du -s -h {daily_root} \n",
    "!hdfs dfs -ls    -h {daily_root} \n",
    " "
   ]
  },
  {
   "cell_type": "code",
   "execution_count": 9,
   "id": "6c741463-9dfb-4c39-ba88-1d35afcecedb",
   "metadata": {},
   "outputs": [
    {
     "name": "stdout",
     "output_type": "stream",
     "text": [
      "Raw result: ['13993455698  13993455698  wasbs://campus-data@madsstorage002.blob.core.windows.net/ghcnd/daily']\n",
      "\n",
      "Daily size (bytes): 13993455698\n",
      "Daily size (MB)   : 13345.199296951294\n",
      "\n",
      "\n",
      "_____________________________________________________\n",
      "[result] daily size (bytes): 13,993,455,698\n",
      "[result] daily size (MB)   : 13345.20\n",
      "[result] meta-data (bytes) : 46,427,311\n",
      "[result] meta-data (MB)    : 44.28\n",
      "[time]   Cell time (sec)   :  3.56\n",
      "[time]   Cell time (min)   :  0.06\n"
     ]
    }
   ],
   "source": [
    "cell_time = time.time() \n",
    "result = get_ipython().getoutput(f\"hdfs dfs -du -s {daily_root}\")\n",
    "\n",
    "print(\"Raw result:\", result)\n",
    "print()\n",
    "daily_size_bytes = int(result[0].split()[0])\n",
    "print(\"Daily size (bytes):\", daily_size_bytes)\n",
    "print(\"Daily size (MB)   :\", daily_size_bytes / (1024**2))\n",
    " \n",
    "lines = get_ipython().getoutput(f\"hdfs dfs -ls {WASBS_DATA}\")\n",
    "print()\n",
    "other_size_bytes = 0\n",
    "for line in lines:\n",
    "    parts = line.split()\n",
    "    if len(parts) >= 6 and parts[0].startswith('-'):   # file, not directory\n",
    "        size = int(parts[2])                           # file size is parts[2] in your env\n",
    "        other_size_bytes += size\n",
    "print()\n",
    "print(\"_____________________________________________________\") \n",
    "print(f\"[result] daily size (bytes): {daily_size_bytes:,d}\")\n",
    "print(f\"[result] daily size (MB)   : {daily_size_bytes / (1024**2):.2f}\")\n",
    "print(f\"[result] meta-data (bytes) : {other_size_bytes:,d}\")\n",
    "print(f\"[result] meta-data (MB)    : {other_size_bytes / (1024**2):.2f}\")\n",
    "\n",
    "\n",
    "cell_time = time.time() - cell_time\n",
    "print(f\"[time]   Cell time (sec)   : {cell_time:5.2f}\") \n",
    "print(f\"[time]   Cell time (min)   : {cell_time/60:5.2f}\") "
   ]
  },
  {
   "cell_type": "markdown",
   "id": "f9bc5edd-f44d-41c9-8add-129638a53a8f",
   "metadata": {},
   "source": [
    " "
   ]
  },
  {
   "cell_type": "code",
   "execution_count": 10,
   "id": "0ab232eb-ade2-4400-b722-11708d97ef76",
   "metadata": {
    "scrolled": true
   },
   "outputs": [
    {
     "name": "stdout",
     "output_type": "stream",
     "text": [
      "\n",
      "_____________________________________________________\n",
      "Sample parsed rows: [(1750, 1385743), (1763, 3358), (1764, 3327), (1765, 3335), (1766, 3344)]\n"
     ]
    }
   ],
   "source": [
    "# Q1(b)2 – capture directory listing\n",
    "  \n",
    "cmd        = f\"hdfs dfs -ls {WASBS_DAILY}\"\n",
    "result     = subprocess.run(cmd, shell=True, capture_output=True, text=True)\n",
    "lines      = result.stdout.strip().split(\"\\n\")\n",
    "rows       = []\n",
    "#print(lines)\n",
    "for line in lines:\n",
    "    #print(line)\n",
    "    parts = line.split()\n",
    "    #print(parts)\n",
    "    if len(parts) < 6:\n",
    "        #print(\"continue\")\n",
    "        continue\n",
    "    size = int(parts[2])\n",
    "    path = parts[-1]\n",
    "    if path.endswith(\".csv.gz\"):\n",
    "        year = int(path.split(\"/\")[-1].replace(\".csv.gz\", \"\"))\n",
    "        rows.append((year, size))\n",
    "        #print(year)\n",
    "        \n",
    "print()\n",
    "print(\"_____________________________________________________\")\n",
    "print(\"Sample parsed rows:\", rows[:5])\n",
    "#print(rows.count())\n"
   ]
  },
  {
   "cell_type": "code",
   "execution_count": 11,
   "id": "2ad253ff-b9e0-45ba-a3a4-618c071edcdc",
   "metadata": {},
   "outputs": [
    {
     "name": "stdout",
     "output_type": "stream",
     "text": [
      "Schema:\n",
      "root\n",
      " |-- year: integer (nullable = true)\n",
      " |-- compressed_bytes: integer (nullable = true)\n",
      "\n"
     ]
    }
   ],
   "source": [
    "# Q1(b)3\n",
    "# Build Spark DataFrame with exactly the 2 integer columns you requested\n",
    "\n",
    "# Define schema \n",
    "schema = StructType([\n",
    "    StructField(\"year\", IntegerType(), True),\n",
    "    StructField(\"compressed_bytes\", IntegerType(), True)\n",
    " ])\n",
    "\n",
    "# Create Spark DataFrame with schema\n",
    "year_sizes_df = spark.createDataFrame(rows, schema)\n",
    "\n",
    "print(\"Schema:\")\n",
    "year_sizes_df.printSchema()\n"
   ]
  },
  {
   "cell_type": "code",
   "execution_count": 12,
   "id": "c82399ee-c86a-4840-be91-67149fce50d9",
   "metadata": {},
   "outputs": [
    {
     "name": "stderr",
     "output_type": "stream",
     "text": [
      "                                                                                "
     ]
    },
    {
     "name": "stdout",
     "output_type": "stream",
     "text": [
      "+----+----------------+\n",
      "|year|compressed_bytes|\n",
      "+----+----------------+\n",
      "|1750|1385743         |\n",
      "|1763|3358            |\n",
      "|1764|3327            |\n",
      "|1765|3335            |\n",
      "|1766|3344            |\n",
      "|1767|3356            |\n",
      "|1768|3325            |\n",
      "|1769|3418            |\n",
      "|1770|3357            |\n",
      "|1771|3373            |\n",
      "+----+----------------+\n",
      "only showing top 10 rows\n",
      "\n"
     ]
    },
    {
     "name": "stderr",
     "output_type": "stream",
     "text": [
      "[Stage 1:==============>                                            (2 + 6) / 8]"
     ]
    },
    {
     "name": "stdout",
     "output_type": "stream",
     "text": [
      "Row count: 264\n"
     ]
    },
    {
     "name": "stderr",
     "output_type": "stream",
     "text": [
      "                                                                                "
     ]
    }
   ],
   "source": [
    "# Q1(b)6\n",
    "year_sizes_df.show(10, truncate=False)\n",
    "print(\"Row count:\", year_sizes_df.count())"
   ]
  },
  {
   "cell_type": "code",
   "execution_count": 13,
   "id": "8c121d12-5fbb-4755-a5cd-3f624dec532a",
   "metadata": {},
   "outputs": [
    {
     "name": "stdout",
     "output_type": "stream",
     "text": [
      "['Found 5 items', 'drwxrwxrwx   -          0 1970-01-01 12:00 wasbs://campus-data@madsstorage002.blob.core.windows.net/ghcnd/daily', '-rwxrwxrwx   1       3659 2025-08-01 21:31 wasbs://campus-data@madsstorage002.blob.core.windows.net/ghcnd/ghcnd-countries.txt', '-rwxrwxrwx   1   35272064 2025-08-01 21:31 wasbs://campus-data@madsstorage002.blob.core.windows.net/ghcnd/ghcnd-inventory.txt', '-rwxrwxrwx   1       1086 2025-08-01 21:31 wasbs://campus-data@madsstorage002.blob.core.windows.net/ghcnd/ghcnd-states.txt', '-rwxrwxrwx   1   11150502 2025-08-01 21:31 wasbs://campus-data@madsstorage002.blob.core.windows.net/ghcnd/ghcnd-stations.txt']\n",
      "wasbs://campus-data@madsstorage002.blob.core.windows.net/ghcnd/ghcnd-countries.txt\n",
      "wasbs://campus-data@madsstorage002.blob.core.windows.net/ghcnd/ghcnd-inventory.txt\n",
      "wasbs://campus-data@madsstorage002.blob.core.windows.net/ghcnd/ghcnd-states.txt\n",
      "wasbs://campus-data@madsstorage002.blob.core.windows.net/ghcnd/ghcnd-stations.txt\n",
      "\n",
      "Metadata file count: 4\n",
      "Sample parsed rows: [('wasbs://campus-data@madsstorage002.blob.core.windows.net/ghcnd/ghcnd-countries.txt', 3659), ('wasbs://campus-data@madsstorage002.blob.core.windows.net/ghcnd/ghcnd-inventory.txt', 35272064), ('wasbs://campus-data@madsstorage002.blob.core.windows.net/ghcnd/ghcnd-states.txt', 1086), ('wasbs://campus-data@madsstorage002.blob.core.windows.net/ghcnd/ghcnd-stations.txt', 11150502)]\n",
      "\n",
      "[spark] other_files_df schema:\n",
      "root\n",
      " |-- path: string (nullable = false)\n",
      " |-- uncompressed_bytes: long (nullable = false)\n",
      "\n",
      "[spark] sample:\n",
      "+----------------------------------------------------------------------------------+------------------+\n",
      "|path                                                                              |uncompressed_bytes|\n",
      "+----------------------------------------------------------------------------------+------------------+\n",
      "|wasbs://campus-data@madsstorage002.blob.core.windows.net/ghcnd/ghcnd-countries.txt|3659              |\n",
      "|wasbs://campus-data@madsstorage002.blob.core.windows.net/ghcnd/ghcnd-inventory.txt|35272064          |\n",
      "|wasbs://campus-data@madsstorage002.blob.core.windows.net/ghcnd/ghcnd-states.txt   |1086              |\n",
      "|wasbs://campus-data@madsstorage002.blob.core.windows.net/ghcnd/ghcnd-stations.txt |11150502          |\n",
      "+----------------------------------------------------------------------------------+------------------+\n",
      "\n"
     ]
    }
   ],
   "source": [
    "# Q1(b)8\n",
    "# Build  meta-data dataframe\n",
    " \n",
    "\n",
    "rows       = []\n",
    "lines      = get_ipython().getoutput(f'hdfs dfs -ls \"{data_root}\"')\n",
    "print(lines)\n",
    "for line in lines: #[:15]: \n",
    "    #print()\n",
    "    parts = line.split()  \n",
    "    #print(line)           \n",
    "    #print(parts)          \n",
    "    #print(len(parts))     \n",
    "    #print(parts[0])      \n",
    "\n",
    "    if len(parts) >= 6 and parts[0].startswith('-'):\n",
    "        size = int(parts[2])        \n",
    "        path = parts[-1].strip()    \n",
    "        #print(\"size:\",size)                 \n",
    "        print(path)                \n",
    "        if not path.startswith(daily_root):\n",
    "            rows.append((path, size))   # not compressed\n",
    "\n",
    "print(\"\\nMetadata file count:\", len(rows))\n",
    "print(\"Sample parsed rows:\", rows[:5])\n",
    "# Spark schema\n",
    "schema = StructType([\n",
    "    StructField(\"path\", StringType(), False),\n",
    "    StructField(\"uncompressed_bytes\", LongType(), False),\n",
    "])\n",
    "\n",
    "metadata_files_df = spark.createDataFrame(rows, schema)\n",
    "\n",
    "print(\"\\n[spark] other_files_df schema:\")\n",
    "metadata_files_df.printSchema()\n",
    "print(\"[spark] sample:\")\n",
    "metadata_files_df.show(  truncate=False)\n"
   ]
  },
  {
   "cell_type": "code",
   "execution_count": 14,
   "id": "1707a3f4-7854-4820-924f-e07441473389",
   "metadata": {},
   "outputs": [
    {
     "name": "stdout",
     "output_type": "stream",
     "text": [
      "[dew59] daily_mb = 13345.1993 MB\n",
      "[dew59] metad_mb = 44.2765 MB\n",
      "[dew59] total_mb = 13389.4758 MB\n",
      "[dew59] metad_pct = 0.3307 %\n",
      "[dew59] applying rotation: -90 degrees (clockwise)\n",
      "[dew59] output directory confirmed: /home/dew59/m-ghcn/code/figures\n",
      "[dew59] hid label+percent for slice index 1: Metadata (.txt files)\n",
      "[dew59] styled Daily label (black) and percentage (yellow)\n",
      "[dew59] metadata wedge: theta1=358.81, theta2=360.00, mid=359.40\n",
      "[dew59] pie chart saved -> figures/dew59-pie-chart-20250905.png\n"
     ]
    },
    {
     "data": {
      "image/png": "[encoded data removed]",
      "text/plain": [
       "<Figure size 800x800 with 1 Axes>"
      ]
     },
     "metadata": {},
     "output_type": "display_data"
    }
   ],
   "source": [
    "# --- Pie chart (rot -90°) | metadata labels hidden | +45° call-out |\n",
    "# --- Daily percentage in yellow; Daily label in black (dew59) ---\n",
    "\n",
    "# Totals from Spark (bytes)\n",
    "daily_comp_total = year_sizes_df.agg({\"compressed_bytes\": \"sum\"}).collect()[0][0]\n",
    "metadata_total   = metadata_files_df.agg({\"uncompressed_bytes\": \"sum\"}).collect()[0][0]\n",
    "\n",
    "# Create DataFrame for plotting (convert bytes -> MB; NOTE: use ** not ^)\n",
    "plot_pdf = pd.DataFrame({\n",
    "    \"category\": [\"Azure Blob Storage\"],\n",
    "    \"daily\":    [daily_comp_total / (1024**2)],   # Convert to MB\n",
    "    \"metadata\": [metadata_total   / (1024**2)]    # Convert to MB\n",
    "})\n",
    "\n",
    "# Pull values\n",
    "daily_mb = float(plot_pdf[\"daily\"].iloc[0])\n",
    "metad_mb = float(plot_pdf[\"metadata\"].iloc[0])\n",
    "total_mb = daily_mb + metad_mb\n",
    "metad_pct = (metad_mb / total_mb) * 100 if total_mb != 0 else 0.0\n",
    "\n",
    "# Diagnostics for dew59\n",
    "print(f\"[dew59] daily_mb = {daily_mb:.4f} MB\")\n",
    "print(f\"[dew59] metad_mb = {metad_mb:.4f} MB\")\n",
    "print(f\"[dew59] total_mb = {total_mb:.4f} MB\")\n",
    "print(f\"[dew59] metad_pct = {metad_pct:.4f} %\")\n",
    "\n",
    "# Rotate clockwise (negative)\n",
    "rotation_deg = -90\n",
    "print(f\"[dew59] applying rotation: {rotation_deg} degrees (clockwise)\")\n",
    "\n",
    "# Ensure output directory exists\n",
    "out_dir = \"figures\"\n",
    "os.makedirs(out_dir, exist_ok=True)\n",
    "print(f\"[dew59] output directory confirmed: {os.path.abspath(out_dir)}\")\n",
    "\n",
    "# --- Build the pie chart ---\n",
    "fig_pie, ax_pie = plt.subplots(figsize=(8.0, 8.0))\n",
    "\n",
    "labels  = [\"Daily (compressed)\\n13345 MB\", \"Metadata (.txt files)\"]\n",
    "sizes   = [daily_mb, metad_mb]      # <-- use metad_mb, not other_mb\n",
    "explode = [0.00, 0.07]\n",
    "start_angle = 90 + rotation_deg\n",
    "\n",
    "wedges, texts, autotexts = ax_pie.pie(\n",
    "    sizes,\n",
    "    labels=labels,\n",
    "    autopct=\"%1.2f%%\",\n",
    "    startangle=start_angle,\n",
    "    explode=explode,\n",
    "    labeldistance=1.10,\n",
    "    pctdistance=0.70\n",
    ")\n",
    "\n",
    "ax_pie.set_title(\"Proportion of GHCN's Azure Storage\")\n",
    "ax_pie.set_aspect(\"equal\")\n",
    "\n",
    "# Hide metadata label and percent\n",
    "meta_idx = labels.index(\"Metadata (.txt files)\")\n",
    "texts[meta_idx].set_visible(False)\n",
    "autotexts[meta_idx].set_visible(False)\n",
    "print(f\"[dew59] hid label+percent for slice index {meta_idx}: {labels[meta_idx]}\")\n",
    "\n",
    "# Style Daily texts: label black, percentage yellow\n",
    "daily_idx = labels.index(\"Daily (compressed)\\n13345 MB\")\n",
    "texts[daily_idx].set_color(\"black\")\n",
    "autotexts[daily_idx].set_color(\"yellow\")\n",
    "texts[daily_idx].set_fontweight(\"bold\")\n",
    "autotexts[daily_idx].set_fontweight(\"bold\")\n",
    "print(\"[dew59] styled Daily label (black) and percentage (yellow)\")\n",
    "\n",
    "# --- Outside call-out for metadata with a +45° arrow ---\n",
    "w = wedges[meta_idx]\n",
    "theta_mid = (w.theta1 + w.theta2) / 2.0\n",
    "r = getattr(w, \"r\", 1.0)\n",
    "\n",
    "# Arrow tip at metadata wedge boundary\n",
    "x0 = r * np.cos(np.deg2rad(theta_mid))\n",
    "y0 = r * np.sin(np.deg2rad(theta_mid))\n",
    "\n",
    "# +45° line to the box\n",
    "arrow_angle_deg = 80.0\n",
    "arrow_len       = 0.60\n",
    "extra_kiss_off  = 0.12\n",
    "dx = arrow_len * np.cos(np.deg2rad(arrow_angle_deg))\n",
    "dy = arrow_len * np.sin(np.deg2rad(arrow_angle_deg))\n",
    "xtext = x0 + dx + extra_kiss_off\n",
    "ytext = y0 + dy\n",
    "\n",
    "annot_text = f\"Metadata (~{metad_pct:.2f}%)\\n44.28 MB\"   # <-- use metad_pct\n",
    "\n",
    "ax_pie.annotate(\n",
    "    annot_text,\n",
    "    xy=(x0, y0),\n",
    "    xytext=(xtext, ytext),\n",
    "    ha=\"left\", va=\"center\",\n",
    "    arrowprops=dict(arrowstyle=\"->\", linewidth=1),\n",
    "    bbox=dict(boxstyle=\"round,pad=0.3\", edgecolor=\"black\", facecolor=\"white\"),\n",
    "    zorder=15,\n",
    "    annotation_clip=False\n",
    ")\n",
    "\n",
    "print(f\"[dew59] metadata wedge: theta1={w.theta1:.2f}, theta2={w.theta2:.2f}, mid={theta_mid:.2f}\")\n",
    "\n",
    "fig_pie.tight_layout()\n",
    "out_path = os.path.join(out_dir, \"dew59-pie-chart-20250905.png\")\n",
    "fig_pie.savefig(out_path, dpi=300)\n",
    "print(f\"[dew59] pie chart saved -> {out_path}\")\n",
    "\n",
    "plt.show()\n"
   ]
  },
  {
   "cell_type": "code",
   "execution_count": null,
   "id": "b3aac052-de7e-4506-bad7-cfe7fa5cae3e",
   "metadata": {},
   "outputs": [],
   "source": [
    " "
   ]
  },
  {
   "cell_type": "code",
   "execution_count": 15,
   "id": "3461a302-27f4-4582-bc71-1102616149a3",
   "metadata": {},
   "outputs": [
    {
     "name": "stdout",
     "output_type": "stream",
     "text": [
      "wasbs://campus-data@madsstorage002.blob.core.windows.net/ghcnd/daily/2025.csv.gz\n"
     ]
    }
   ],
   "source": [
    "# Q1(b)10\n",
    "# Define the input path for the last year in daily\n",
    "\n",
    "#daily_relative_path = f'/2025.csv.gz'\n",
    "#daily_path = f'wasbs://{azure_data_container_name}@{azure_account_name}.blob.core.windows.net/{daily_relative_path}'\n",
    "\n",
    "daily_relative_path = f'2025.csv.gz'  \n",
    "daily_path = f'{daily_root}{daily_relative_path}'\n",
    "print(daily_path)"
   ]
  },
  {
   "cell_type": "code",
   "execution_count": 16,
   "id": "d95e073b-06fb-4f87-95a0-10c3a340fa29",
   "metadata": {},
   "outputs": [
    {
     "name": "stdout",
     "output_type": "stream",
     "text": [
      "wasbs://campus-data@madsstorage002.blob.core.windows.net/ghcnd/ghcnd-stations.txt\n",
      "wasbs://campus-data@madsstorage002.blob.core.windows.net/ghcnd/ghcnd-inventory.txt\n",
      "wasbs://campus-data@madsstorage002.blob.core.windows.net/ghcnd/ghcnd-countries.txt\n",
      "wasbs://campus-data@madsstorage002.blob.core.windows.net/ghcnd/ghcnd-states.txt\n",
      "wasbs://campus-user@madsstorage002.blob.core.windows.net/dew59/stations.parquet\n",
      "wasbs://campus-user@madsstorage002.blob.core.windows.net/dew59/inventory.parquet\n",
      "wasbs://campus-user@madsstorage002.blob.core.windows.net/dew59/countries.parquet\n",
      "wasbs://campus-user@madsstorage002.blob.core.windows.net/dew59/states.parquet\n"
     ]
    }
   ],
   "source": [
    "# Q1(b)11\n",
    "# Define the input path for stations etc\n",
    "\n",
    "print(stations_read_name)\n",
    "print(inventory_read_name)\n",
    "print(countries_read_name)\n",
    "print(states_read_name)\n",
    "print(stations_write_name)\n",
    "print(inventory_write_name)\n",
    "print(countries_write_name)\n",
    "print(states_write_name)"
   ]
  },
  {
   "cell_type": "code",
   "execution_count": 17,
   "id": "99feb24d-d2e8-4224-82d9-6f1f67616b18",
   "metadata": {},
   "outputs": [],
   "source": [
    "# Q1(b)12\n",
    "# Load a subset of the last year in daily into Spark from Azure Blob Storage using spark.read.csv\n",
    "\n",
    "schema = StructType([\n",
    "    StructField(\"ID\", StringType()),           # Character Station code\n",
    "    StructField(\"DATE\", StringType()),         # Date Observation date formatted as YYYYMMDD\n",
    "    StructField(\"ELEMENT\", StringType()),      # Character Element type indicator\n",
    "    StructField(\"VALUE\", DoubleType()),        # Real Data value for ELEMENT\n",
    "    StructField(\"MEASUREMENT\", StringType()),  # Character Measurement Flag\n",
    "    StructField(\"QUALITY\", StringType()),      # Character Quality Flag\n",
    "    StructField(\"SOURCE\", StringType()),       # Character Source Flag\n",
    "    StructField(\"TIME\", StringType()),         # Time Observation time formatted as HHMM\n",
    "])\n",
    "\n",
    "daily = spark.read.csv(\n",
    "    path=f'wasbs://{azure_data_container_name}@{azure_account_name}.blob.core.windows.net/ghcnd/daily/',\n",
    "    schema=schema\n",
    ")\n",
    "daily_for_overlap = daily"
   ]
  },
  {
   "cell_type": "code",
   "execution_count": 18,
   "id": "4775f510-22ab-4b42-a576-7ce05580e62d",
   "metadata": {},
   "outputs": [
    {
     "name": "stdout",
     "output_type": "stream",
     "text": [
      "type(daily)\n",
      "  <class 'pyspark.sql.dataframe.DataFrame'>\n",
      "\n"
     ]
    }
   ],
   "source": [
    "# Q1(b)13\n",
    "print(\"type(daily)\\n \",type(daily))\n",
    "print()"
   ]
  },
  {
   "cell_type": "markdown",
   "id": "cfa17b71-6848-4d12-942f-be6e021d6302",
   "metadata": {},
   "source": [
    " "
   ]
  },
  {
   "cell_type": "code",
   "execution_count": 19,
   "id": "c40a0fb5-ba12-4adf-9e11-00ac4c510218",
   "metadata": {},
   "outputs": [
    {
     "name": "stdout",
     "output_type": "stream",
     "text": [
      "daily\n",
      "DataFrame[ID: string, DATE: string, ELEMENT: string, VALUE: double, MEASUREMENT: string, QUALITY: string, SOURCE: string, TIME: string]\n"
     ]
    }
   ],
   "source": [
    "# Q1(b)15\n",
    "print(\"daily\")\n",
    "print(daily)"
   ]
  },
  {
   "cell_type": "code",
   "execution_count": 20,
   "id": "943b005f-3e52-4b50-97d9-756d8e502244",
   "metadata": {},
   "outputs": [
    {
     "name": "stdout",
     "output_type": "stream",
     "text": [
      "daily.show(20, False)\n"
     ]
    },
    {
     "name": "stderr",
     "output_type": "stream",
     "text": [
      "[Stage 13:>                                                         (0 + 1) / 1]"
     ]
    },
    {
     "name": "stdout",
     "output_type": "stream",
     "text": [
      "+-----------+--------+-------+-----+-----------+-------+------+----+\n",
      "|ID         |DATE    |ELEMENT|VALUE|MEASUREMENT|QUALITY|SOURCE|TIME|\n",
      "+-----------+--------+-------+-----+-----------+-------+------+----+\n",
      "|ASN00030019|20100101|PRCP   |24.0 |NULL       |NULL   |a     |NULL|\n",
      "|ASN00030021|20100101|PRCP   |200.0|NULL       |NULL   |a     |NULL|\n",
      "|ASN00030022|20100101|TMAX   |294.0|NULL       |NULL   |a     |NULL|\n",
      "|ASN00030022|20100101|TMIN   |215.0|NULL       |NULL   |a     |NULL|\n",
      "|ASN00030022|20100101|PRCP   |408.0|NULL       |NULL   |a     |NULL|\n",
      "|ASN00029121|20100101|PRCP   |820.0|NULL       |NULL   |a     |NULL|\n",
      "|ASN00029126|20100101|TMAX   |371.0|NULL       |NULL   |S     |NULL|\n",
      "|ASN00029126|20100101|TMIN   |225.0|NULL       |NULL   |S     |NULL|\n",
      "|ASN00029126|20100101|PRCP   |0.0  |NULL       |NULL   |a     |NULL|\n",
      "|ASN00029126|20100101|TAVG   |298.0|H          |NULL   |S     |NULL|\n",
      "|ASN00029127|20100101|TMAX   |371.0|NULL       |NULL   |a     |NULL|\n",
      "|ASN00029127|20100101|TMIN   |225.0|NULL       |NULL   |a     |NULL|\n",
      "|ASN00029127|20100101|PRCP   |8.0  |NULL       |NULL   |a     |NULL|\n",
      "|ASN00029129|20100101|PRCP   |174.0|NULL       |NULL   |a     |NULL|\n",
      "|ASN00029130|20100101|PRCP   |86.0 |NULL       |NULL   |a     |NULL|\n",
      "|ASN00029131|20100101|PRCP   |56.0 |NULL       |NULL   |a     |NULL|\n",
      "|ASN00029132|20100101|PRCP   |800.0|NULL       |NULL   |a     |NULL|\n",
      "|ASN00029136|20100101|PRCP   |22.0 |NULL       |NULL   |a     |NULL|\n",
      "|ASN00029137|20100101|PRCP   |0.0  |NULL       |NULL   |a     |NULL|\n",
      "|ASN00029139|20100101|TMAX   |298.0|NULL       |NULL   |a     |NULL|\n",
      "+-----------+--------+-------+-----+-----------+-------+------+----+\n",
      "only showing top 20 rows\n",
      "\n"
     ]
    },
    {
     "name": "stderr",
     "output_type": "stream",
     "text": [
      "                                                                                "
     ]
    }
   ],
   "source": [
    "# Q1(b)16\n",
    "print(\"daily.show(20, False)\")\n",
    "daily.show(20, False)"
   ]
  },
  {
   "cell_type": "code",
   "execution_count": null,
   "id": "731e5a3f-67e4-4ef9-a704-f4ed240302e8",
   "metadata": {},
   "outputs": [],
   "source": []
  },
  {
   "cell_type": "code",
   "execution_count": 21,
   "id": "f866f8f3-6962-44b0-9d17-9c381eeee470",
   "metadata": {},
   "outputs": [
    {
     "name": "stdout",
     "output_type": "stream",
     "text": [
      "type(read_stations)\n",
      "<class 'pyspark.sql.dataframe.DataFrame'>\n",
      "type(read_inventory)\n",
      "<class 'pyspark.sql.dataframe.DataFrame'>\n",
      "type(read_countries)\n",
      "<class 'pyspark.sql.dataframe.DataFrame'>\n",
      "type(read_states)\n",
      "<class 'pyspark.sql.dataframe.DataFrame'>\n"
     ]
    }
   ],
   "source": [
    "# Q1(b)17\n",
    "# Load the stations metadata into Spark from Azure Blob Storage using spark.read.text without any other processing\n",
    "\n",
    "read_stations  = spark.read.text(stations_read_name).limit(100)\n",
    "read_inventory = spark.read.text(inventory_read_name).limit(100)\n",
    "read_countries = spark.read.text(countries_read_name).limit(100)\n",
    "read_states    = spark.read.text(states_read_name).limit(100)\n",
    "\n",
    "print(\"type(read_stations)\")\n",
    "print(type(read_stations))\n",
    "print(\"type(read_inventory)\")\n",
    "print(type(read_inventory))\n",
    "print(\"type(read_countries)\")\n",
    "print(type(read_countries))\n",
    "print(\"type(read_states)\")\n",
    "print(type(read_states))"
   ]
  },
  {
   "cell_type": "code",
   "execution_count": null,
   "id": "e833453a-0795-408c-9c2a-b0bc09626bc3",
   "metadata": {},
   "outputs": [],
   "source": []
  },
  {
   "cell_type": "code",
   "execution_count": 22,
   "id": "94e14fd2-733a-49bd-a948-24f85c02b1c6",
   "metadata": {},
   "outputs": [
    {
     "name": "stdout",
     "output_type": "stream",
     "text": [
      "stations.printSchema()\n",
      "root\n",
      " |-- value: string (nullable = true)\n",
      "\n",
      "inventory.printSchema()\n",
      "root\n",
      " |-- value: string (nullable = true)\n",
      "\n",
      "countries.printSchema()\n",
      "root\n",
      " |-- value: string (nullable = true)\n",
      "\n",
      "states.printSchema()\n",
      "root\n",
      " |-- value: string (nullable = true)\n",
      "\n"
     ]
    }
   ],
   "source": [
    "# Q1(b)18\n",
    "print(\"stations.printSchema()\")\n",
    "read_stations.printSchema()\n",
    "print(\"inventory.printSchema()\")\n",
    "read_inventory.printSchema()\n",
    "print(\"countries.printSchema()\")\n",
    "read_countries.printSchema()\n",
    "print(\"states.printSchema()\")\n",
    "read_states.printSchema()\n"
   ]
  },
  {
   "cell_type": "code",
   "execution_count": 23,
   "id": "f060e427-4152-4bcd-b9ec-ab0fcf401da2",
   "metadata": {},
   "outputs": [
    {
     "name": "stdout",
     "output_type": "stream",
     "text": [
      "read_stations\n",
      "DataFrame[value: string]\n",
      "+-------------------------------------------------------------------------------------+\n",
      "|value                                                                                |\n",
      "+-------------------------------------------------------------------------------------+\n",
      "|ACW00011604  17.1167  -61.7833   10.1    ST JOHNS COOLIDGE FLD                       |\n",
      "|ACW00011647  17.1333  -61.7833   19.2    ST JOHNS                                    |\n",
      "|AE000041196  25.3330   55.5170   34.0    SHARJAH INTER. AIRP            GSN     41196|\n",
      "|AEM00041194  25.2550   55.3640   10.4    DUBAI INTL                             41194|\n",
      "|AEM00041217  24.4330   54.6510   26.8    ABU DHABI INTL                         41217|\n",
      "|AEM00041218  24.2620   55.6090  264.9    AL AIN INTL                            41218|\n",
      "|AF000040930  35.3170   69.0170 3366.0    NORTH-SALANG                   GSN     40930|\n",
      "|AFM00040938  34.2100   62.2280  977.2    HERAT                                  40938|\n",
      "|AFM00040948  34.5660   69.2120 1791.3    KABUL INTL                             40948|\n",
      "|AFM00040990  31.5000   65.8500 1010.0    KANDAHAR AIRPORT                       40990|\n",
      "|AG000060390  36.7167    3.2500   24.0    ALGER-DAR EL BEIDA             GSN     60390|\n",
      "|AG000060590  30.5667    2.8667  397.0    EL-GOLEA                       GSN     60590|\n",
      "|AG000060611  28.0500    9.6331  561.0    IN-AMENAS                      GSN     60611|\n",
      "|AG000060680  22.8000    5.4331 1362.0    TAMANRASSET                    GSN     60680|\n",
      "|AGE00135039  35.7297    0.6500   50.0    ORAN-HOPITAL MILITAIRE                      |\n",
      "|AGE00147704  36.9700    7.7900  161.0    ANNABA-CAP DE GARDE                         |\n",
      "|AGE00147705  36.7800    3.0700   59.0    ALGIERS-VILLE/UNIVERSITE                    |\n",
      "|AGE00147706  36.8000    3.0300  344.0    ALGIERS-BOUZAREAH                           |\n",
      "|AGE00147707  36.8000    3.0400   38.0    ALGIERS-CAP CAXINE                          |\n",
      "|AGE00147708  36.7200    4.0500  222.0    TIZI OUZOU                             60395|\n",
      "+-------------------------------------------------------------------------------------+\n",
      "only showing top 20 rows\n",
      "\n",
      "read_inventory\n",
      "DataFrame[value: string]\n"
     ]
    },
    {
     "name": "stderr",
     "output_type": "stream",
     "text": [
      "                                                                                "
     ]
    },
    {
     "name": "stdout",
     "output_type": "stream",
     "text": [
      "+---------------------------------------------+\n",
      "|value                                        |\n",
      "+---------------------------------------------+\n",
      "|ACW00011604  17.1167  -61.7833 TMAX 1949 1949|\n",
      "|ACW00011604  17.1167  -61.7833 TMIN 1949 1949|\n",
      "|ACW00011604  17.1167  -61.7833 PRCP 1949 1949|\n",
      "|ACW00011604  17.1167  -61.7833 SNOW 1949 1949|\n",
      "|ACW00011604  17.1167  -61.7833 SNWD 1949 1949|\n",
      "|ACW00011604  17.1167  -61.7833 PGTM 1949 1949|\n",
      "|ACW00011604  17.1167  -61.7833 WDFG 1949 1949|\n",
      "|ACW00011604  17.1167  -61.7833 WSFG 1949 1949|\n",
      "|ACW00011604  17.1167  -61.7833 WT03 1949 1949|\n",
      "|ACW00011604  17.1167  -61.7833 WT08 1949 1949|\n",
      "|ACW00011604  17.1167  -61.7833 WT16 1949 1949|\n",
      "|ACW00011647  17.1333  -61.7833 TMAX 1961 1961|\n",
      "|ACW00011647  17.1333  -61.7833 TMIN 1961 1961|\n",
      "|ACW00011647  17.1333  -61.7833 PRCP 1957 1970|\n",
      "|ACW00011647  17.1333  -61.7833 SNOW 1957 1970|\n",
      "|ACW00011647  17.1333  -61.7833 SNWD 1957 1970|\n",
      "|ACW00011647  17.1333  -61.7833 WT03 1961 1961|\n",
      "|ACW00011647  17.1333  -61.7833 WT16 1961 1966|\n",
      "|AE000041196  25.3330   55.5170 TMAX 1944 2025|\n",
      "|AE000041196  25.3330   55.5170 TMIN 1944 2025|\n",
      "+---------------------------------------------+\n",
      "only showing top 20 rows\n",
      "\n",
      "read_countries\n",
      "DataFrame[value: string]\n",
      "+----------------------------------+\n",
      "|value                             |\n",
      "+----------------------------------+\n",
      "|AC Antigua and Barbuda            |\n",
      "|AE United Arab Emirates           |\n",
      "|AF Afghanistan                    |\n",
      "|AG Algeria                        |\n",
      "|AJ Azerbaijan                     |\n",
      "|AL Albania                        |\n",
      "|AM Armenia                        |\n",
      "|AO Angola                         |\n",
      "|AQ American Samoa [United States] |\n",
      "|AR Argentina                      |\n",
      "|AS Australia                      |\n",
      "|AU Austria                        |\n",
      "|AY Antarctica                     |\n",
      "|BA Bahrain                        |\n",
      "|BB Barbados                       |\n",
      "|BC Botswana                       |\n",
      "|BD Bermuda [United Kingdom]       |\n",
      "|BE Belgium                        |\n",
      "|BF Bahamas, The                   |\n",
      "|BG Bangladesh                     |\n",
      "+----------------------------------+\n",
      "only showing top 20 rows\n",
      "\n",
      "read_states\n",
      "DataFrame[value: string]\n",
      "+--------------------------------------------------+\n",
      "|value                                             |\n",
      "+--------------------------------------------------+\n",
      "|AB ALBERTA                                        |\n",
      "|AK ALASKA                                         |\n",
      "|AL ALABAMA                                        |\n",
      "|AR ARKANSAS                                       |\n",
      "|AS AMERICAN SAMOA                                 |\n",
      "|AZ ARIZONA                                        |\n",
      "|BC BRITISH COLUMBIA                               |\n",
      "|CA CALIFORNIA                                     |\n",
      "|CO COLORADO                                       |\n",
      "|CT CONNECTICUT                                    |\n",
      "|DC DISTRICT OF COLUMBIA                           |\n",
      "|DE DELAWARE                                       |\n",
      "|FL FLORIDA                                        |\n",
      "|FM MICRONESIA                                     |\n",
      "|GA GEORGIA                                        |\n",
      "|GU GUAM                                           |\n",
      "|HI HAWAII                                         |\n",
      "|IA IOWA                                           |\n",
      "|ID IDAHO                                          |\n",
      "|IL ILLINOIS                                       |\n",
      "+--------------------------------------------------+\n",
      "only showing top 20 rows\n",
      "\n"
     ]
    },
    {
     "name": "stderr",
     "output_type": "stream",
     "text": [
      "                                                                                "
     ]
    }
   ],
   "source": [
    "# Q1(b)19\n",
    "print(\"read_stations\")\n",
    "print(read_stations)\n",
    "read_stations.show(20, False)\n",
    "print(\"read_inventory\")\n",
    "print(read_inventory)\n",
    "read_inventory.show(20, False)\n",
    "print(\"read_countries\")\n",
    "print(read_countries)\n",
    "read_countries.show(20, False)\n",
    "print(\"read_states\")\n",
    "print(read_states)\n",
    "read_states.show(20, False)"
   ]
  },
  {
   "cell_type": "code",
   "execution_count": 24,
   "id": "0777255a-e6d1-46bc-8413-83de590650e3",
   "metadata": {
    "scrolled": true
   },
   "outputs": [
    {
     "name": "stdout",
     "output_type": "stream",
     "text": [
      "stations\n",
      "root\n",
      " |-- ID: string (nullable = true)\n",
      " |-- LATITUDE: double (nullable = true)\n",
      " |-- LONGITUDE: double (nullable = true)\n",
      " |-- ELEVATION: double (nullable = true)\n",
      " |-- STATE: string (nullable = true)\n",
      " |-- NAME: string (nullable = true)\n",
      " |-- GSN_FLAG: string (nullable = true)\n",
      " |-- HCNCRN_FLAG: string (nullable = true)\n",
      " |-- WMO_ID: string (nullable = true)\n",
      "\n",
      "+-----------+--------+---------+---------+-----+---------------------+--------+-----------+------+\n",
      "|ID         |LATITUDE|LONGITUDE|ELEVATION|STATE|NAME                 |GSN_FLAG|HCNCRN_FLAG|WMO_ID|\n",
      "+-----------+--------+---------+---------+-----+---------------------+--------+-----------+------+\n",
      "|ACW00011604|17.1167 |-61.7833 |10.1     |     |ST JOHNS COOLIDGE FLD|        |           |      |\n",
      "|ACW00011647|17.1333 |-61.7833 |19.2     |     |ST JOHNS             |        |           |      |\n",
      "|AE000041196|25.333  |55.517   |34.0     |     |SHARJAH INTER. AIRP  |GSN     |           |41196 |\n",
      "|AEM00041194|25.255  |55.364   |10.4     |     |DUBAI INTL           |        |           |41194 |\n",
      "|AEM00041217|24.433  |54.651   |26.8     |     |ABU DHABI INTL       |        |           |41217 |\n",
      "|AEM00041218|24.262  |55.609   |264.9    |     |AL AIN INTL          |        |           |41218 |\n",
      "|AF000040930|35.317  |69.017   |3366.0   |     |NORTH-SALANG         |GSN     |           |40930 |\n",
      "|AFM00040938|34.21   |62.228   |977.2    |     |HERAT                |        |           |40938 |\n",
      "|AFM00040948|34.566  |69.212   |1791.3   |     |KABUL INTL           |        |           |40948 |\n",
      "|AFM00040990|31.5    |65.85    |1010.0   |     |KANDAHAR AIRPORT     |        |           |40990 |\n",
      "+-----------+--------+---------+---------+-----+---------------------+--------+-----------+------+\n",
      "only showing top 10 rows\n",
      "\n"
     ]
    }
   ],
   "source": [
    "# Q1(b)20\n",
    "# ok now read the full file\n",
    "read_stations = spark.read.text(stations_read_name)\n",
    "\n",
    "stations = (\n",
    "    read_stations.select(\n",
    "        F.trim(F.substring(\"value\",  1, 11)).alias(\"ID\"),                 # 1–11\n",
    "        F.trim(F.substring(\"value\", 13,  8)).cast(\"double\").alias(\"LATITUDE\"),   # 13–20\n",
    "        F.trim(F.substring(\"value\", 22,  9)).cast(\"double\").alias(\"LONGITUDE\"),  # 22–30\n",
    "        F.trim(F.substring(\"value\", 32,  6)).cast(\"double\").alias(\"ELEVATION\"),  # 32–37\n",
    "        F.trim(F.substring(\"value\", 39,  2)).alias(\"STATE\"),                     # 39–40\n",
    "        F.trim(F.substring(\"value\", 42, 30)).alias(\"NAME\"),                      # 42–71\n",
    "        F.trim(F.substring(\"value\", 73,  3)).alias(\"GSN_FLAG\"),                  # 73–75\n",
    "        F.trim(F.substring(\"value\", 77,  3)).alias(\"HCNCRN_FLAG\"),               # 77–79\n",
    "        F.trim(F.substring(\"value\", 81,  5)).alias(\"WMO_ID\")                     # 81–85\n",
    "    )\n",
    ")\n",
    "print(\"stations\")\n",
    "stations.printSchema()\n",
    "stations.show(10, truncate=False)"
   ]
  },
  {
   "cell_type": "code",
   "execution_count": 25,
   "id": "bb52e415-e5fc-434f-a73b-70d3513db1c2",
   "metadata": {},
   "outputs": [
    {
     "name": "stdout",
     "output_type": "stream",
     "text": [
      "+----+--------------------+\n",
      "|CODE|        COUNTRY_NAME|\n",
      "+----+--------------------+\n",
      "|  AC| Antigua and Barbuda|\n",
      "|  AE|United Arab Emirates|\n",
      "|  AF|         Afghanistan|\n",
      "|  AG|             Algeria|\n",
      "|  AJ|          Azerbaijan|\n",
      "|  AL|             Albania|\n",
      "|  AM|             Armenia|\n",
      "|  AO|              Angola|\n",
      "|  AQ|American Samoa [U...|\n",
      "|  AR|           Argentina|\n",
      "|  AS|           Australia|\n",
      "|  AU|             Austria|\n",
      "|  AY|          Antarctica|\n",
      "|  BA|             Bahrain|\n",
      "|  BB|            Barbados|\n",
      "|  BC|            Botswana|\n",
      "|  BD|Bermuda [United K...|\n",
      "|  BE|             Belgium|\n",
      "|  BF|        Bahamas, The|\n",
      "|  BG|          Bangladesh|\n",
      "+----+--------------------+\n",
      "only showing top 20 rows\n",
      "\n"
     ]
    },
    {
     "name": "stderr",
     "output_type": "stream",
     "text": [
      "                                                                                "
     ]
    },
    {
     "name": "stdout",
     "output_type": "stream",
     "text": [
      "+-----------+--------+---------+---------+-----+--------------------+--------+-----------+------+------------+\n",
      "|         ID|LATITUDE|LONGITUDE|ELEVATION|STATE|                NAME|GSN_FLAG|HCNCRN_FLAG|WMO_ID|COUNTRY_CODE|\n",
      "+-----------+--------+---------+---------+-----+--------------------+--------+-----------+------+------------+\n",
      "|ACW00011604| 17.1167| -61.7833|     10.1|     |ST JOHNS COOLIDGE...|        |           |      |          AC|\n",
      "|ACW00011647| 17.1333| -61.7833|     19.2|     |            ST JOHNS|        |           |      |          AC|\n",
      "|AE000041196|  25.333|   55.517|     34.0|     | SHARJAH INTER. AIRP|     GSN|           | 41196|          AE|\n",
      "|AEM00041194|  25.255|   55.364|     10.4|     |          DUBAI INTL|        |           | 41194|          AE|\n",
      "|AEM00041217|  24.433|   54.651|     26.8|     |      ABU DHABI INTL|        |           | 41217|          AE|\n",
      "|AEM00041218|  24.262|   55.609|    264.9|     |         AL AIN INTL|        |           | 41218|          AE|\n",
      "|AF000040930|  35.317|   69.017|   3366.0|     |        NORTH-SALANG|     GSN|           | 40930|          AF|\n",
      "|AFM00040938|   34.21|   62.228|    977.2|     |               HERAT|        |           | 40938|          AF|\n",
      "|AFM00040948|  34.566|   69.212|   1791.3|     |          KABUL INTL|        |           | 40948|          AF|\n",
      "|AFM00040990|    31.5|    65.85|   1010.0|     |    KANDAHAR AIRPORT|        |           | 40990|          AF|\n",
      "|AG000060390| 36.7167|     3.25|     24.0|     |  ALGER-DAR EL BEIDA|     GSN|           | 60390|          AG|\n",
      "|AG000060590| 30.5667|   2.8667|    397.0|     |            EL-GOLEA|     GSN|           | 60590|          AG|\n",
      "|AG000060611|   28.05|   9.6331|    561.0|     |           IN-AMENAS|     GSN|           | 60611|          AG|\n",
      "|AG000060680|    22.8|   5.4331|   1362.0|     |         TAMANRASSET|     GSN|           | 60680|          AG|\n",
      "|AGE00135039| 35.7297|     0.65|     50.0|     |ORAN-HOPITAL MILI...|        |           |      |          AG|\n",
      "|AGE00147704|   36.97|     7.79|    161.0|     | ANNABA-CAP DE GARDE|        |           |      |          AG|\n",
      "|AGE00147705|   36.78|     3.07|     59.0|     |ALGIERS-VILLE/UNI...|        |           |      |          AG|\n",
      "|AGE00147706|    36.8|     3.03|    344.0|     |   ALGIERS-BOUZAREAH|        |           |      |          AG|\n",
      "|AGE00147707|    36.8|     3.04|     38.0|     |  ALGIERS-CAP CAXINE|        |           |      |          AG|\n",
      "|AGE00147708|   36.72|     4.05|    222.0|     |          TIZI OUZOU|        |           | 60395|          AG|\n",
      "+-----------+--------+---------+---------+-----+--------------------+--------+-----------+------+------------+\n",
      "only showing top 20 rows\n",
      "\n",
      "+-----------+--------+---------+---------+-----+--------------------+--------+-----------+------+------------+--------------------+\n",
      "|         ID|LATITUDE|LONGITUDE|ELEVATION|STATE|                NAME|GSN_FLAG|HCNCRN_FLAG|WMO_ID|COUNTRY_CODE|        COUNTRY_NAME|\n",
      "+-----------+--------+---------+---------+-----+--------------------+--------+-----------+------+------------+--------------------+\n",
      "|ACW00011604| 17.1167| -61.7833|     10.1|     |ST JOHNS COOLIDGE...|        |           |      |          AC| Antigua and Barbuda|\n",
      "|ACW00011647| 17.1333| -61.7833|     19.2|     |            ST JOHNS|        |           |      |          AC| Antigua and Barbuda|\n",
      "|AE000041196|  25.333|   55.517|     34.0|     | SHARJAH INTER. AIRP|     GSN|           | 41196|          AE|United Arab Emirates|\n",
      "|AEM00041194|  25.255|   55.364|     10.4|     |          DUBAI INTL|        |           | 41194|          AE|United Arab Emirates|\n",
      "|AEM00041217|  24.433|   54.651|     26.8|     |      ABU DHABI INTL|        |           | 41217|          AE|United Arab Emirates|\n",
      "|AEM00041218|  24.262|   55.609|    264.9|     |         AL AIN INTL|        |           | 41218|          AE|United Arab Emirates|\n",
      "|AF000040930|  35.317|   69.017|   3366.0|     |        NORTH-SALANG|     GSN|           | 40930|          AF|         Afghanistan|\n",
      "|AFM00040938|   34.21|   62.228|    977.2|     |               HERAT|        |           | 40938|          AF|         Afghanistan|\n",
      "|AFM00040948|  34.566|   69.212|   1791.3|     |          KABUL INTL|        |           | 40948|          AF|         Afghanistan|\n",
      "|AFM00040990|    31.5|    65.85|   1010.0|     |    KANDAHAR AIRPORT|        |           | 40990|          AF|         Afghanistan|\n",
      "|AG000060390| 36.7167|     3.25|     24.0|     |  ALGER-DAR EL BEIDA|     GSN|           | 60390|          AG|             Algeria|\n",
      "|AG000060590| 30.5667|   2.8667|    397.0|     |            EL-GOLEA|     GSN|           | 60590|          AG|             Algeria|\n",
      "|AG000060611|   28.05|   9.6331|    561.0|     |           IN-AMENAS|     GSN|           | 60611|          AG|             Algeria|\n",
      "|AG000060680|    22.8|   5.4331|   1362.0|     |         TAMANRASSET|     GSN|           | 60680|          AG|             Algeria|\n",
      "|AGE00135039| 35.7297|     0.65|     50.0|     |ORAN-HOPITAL MILI...|        |           |      |          AG|             Algeria|\n",
      "|AGE00147704|   36.97|     7.79|    161.0|     | ANNABA-CAP DE GARDE|        |           |      |          AG|             Algeria|\n",
      "|AGE00147705|   36.78|     3.07|     59.0|     |ALGIERS-VILLE/UNI...|        |           |      |          AG|             Algeria|\n",
      "|AGE00147706|    36.8|     3.03|    344.0|     |   ALGIERS-BOUZAREAH|        |           |      |          AG|             Algeria|\n",
      "|AGE00147707|    36.8|     3.04|     38.0|     |  ALGIERS-CAP CAXINE|        |           |      |          AG|             Algeria|\n",
      "|AGE00147708|   36.72|     4.05|    222.0|     |          TIZI OUZOU|        |           | 60395|          AG|             Algeria|\n",
      "+-----------+--------+---------+---------+-----+--------------------+--------+-----------+------+------------+--------------------+\n",
      "only showing top 20 rows\n",
      "\n",
      "+-----------+------------------------+------------+--------------------+\n",
      "|ID         |NAME                    |COUNTRY_CODE|COUNTRY_NAME        |\n",
      "+-----------+------------------------+------------+--------------------+\n",
      "|ACW00011604|ST JOHNS COOLIDGE FLD   |AC          |Antigua and Barbuda |\n",
      "|ACW00011647|ST JOHNS                |AC          |Antigua and Barbuda |\n",
      "|AE000041196|SHARJAH INTER. AIRP     |AE          |United Arab Emirates|\n",
      "|AEM00041194|DUBAI INTL              |AE          |United Arab Emirates|\n",
      "|AEM00041217|ABU DHABI INTL          |AE          |United Arab Emirates|\n",
      "|AEM00041218|AL AIN INTL             |AE          |United Arab Emirates|\n",
      "|AF000040930|NORTH-SALANG            |AF          |Afghanistan         |\n",
      "|AFM00040938|HERAT                   |AF          |Afghanistan         |\n",
      "|AFM00040948|KABUL INTL              |AF          |Afghanistan         |\n",
      "|AFM00040990|KANDAHAR AIRPORT        |AF          |Afghanistan         |\n",
      "|AG000060390|ALGER-DAR EL BEIDA      |AG          |Algeria             |\n",
      "|AG000060590|EL-GOLEA                |AG          |Algeria             |\n",
      "|AG000060611|IN-AMENAS               |AG          |Algeria             |\n",
      "|AG000060680|TAMANRASSET             |AG          |Algeria             |\n",
      "|AGE00135039|ORAN-HOPITAL MILITAIRE  |AG          |Algeria             |\n",
      "|AGE00147704|ANNABA-CAP DE GARDE     |AG          |Algeria             |\n",
      "|AGE00147705|ALGIERS-VILLE/UNIVERSITE|AG          |Algeria             |\n",
      "|AGE00147706|ALGIERS-BOUZAREAH       |AG          |Algeria             |\n",
      "|AGE00147707|ALGIERS-CAP CAXINE      |AG          |Algeria             |\n",
      "|AGE00147708|TIZI OUZOU              |AG          |Algeria             |\n",
      "+-----------+------------------------+------------+--------------------+\n",
      "only showing top 20 rows\n",
      "\n"
     ]
    }
   ],
   "source": [
    "# Q3(a–c)1\n",
    "# countries\n",
    "read_countries = spark.read.text(countries_read_name)\n",
    "countries = (\n",
    "    read_countries.select(\n",
    "        F.substring(\"value\", 1, 2).alias(\"CODE\"),                # 1–2\n",
    "        F.trim(F.substring(\"value\", 4, 61)).alias(\"COUNTRY_NAME\")# 4–64\n",
    "    )\n",
    ")\n",
    "countries.show()\n",
    "# derive country code \n",
    "stations_cc = stations.withColumn(\"COUNTRY_CODE\", F.substring(\"ID\", 1, 2))\n",
    "# join country code \n",
    "stn_countries = (\n",
    "    stations_cc\n",
    "    .join(countries, stations_cc.COUNTRY_CODE == countries.CODE, \"left\")\n",
    "    .drop(countries.CODE)   # keep COUNTRY_CODE from stations, drop duplicate\n",
    ")\n",
    "stations_cc.show()\n",
    "stn_countries.show()\n",
    "stn_countries.select(\"ID\",\"NAME\",\"COUNTRY_CODE\",\"COUNTRY_NAME\").show(20, False)"
   ]
  },
  {
   "cell_type": "code",
   "execution_count": 26,
   "id": "759ccb34-1c8a-4478-b0ea-14154463ee76",
   "metadata": {},
   "outputs": [
    {
     "name": "stdout",
     "output_type": "stream",
     "text": [
      "root\n",
      " |-- CODE: string (nullable = true)\n",
      " |-- STATE_NAME: string (nullable = true)\n",
      "\n",
      "+----+--------------------+\n",
      "|CODE|STATE_NAME          |\n",
      "+----+--------------------+\n",
      "|AB  |ALBERTA             |\n",
      "|AK  |ALASKA              |\n",
      "|AL  |ALABAMA             |\n",
      "|AR  |ARKANSAS            |\n",
      "|AS  |AMERICAN SAMOA      |\n",
      "|AZ  |ARIZONA             |\n",
      "|BC  |BRITISH COLUMBIA    |\n",
      "|CA  |CALIFORNIA          |\n",
      "|CO  |COLORADO            |\n",
      "|CT  |CONNECTICUT         |\n",
      "|DC  |DISTRICT OF COLUMBIA|\n",
      "|DE  |DELAWARE            |\n",
      "|FL  |FLORIDA             |\n",
      "|FM  |MICRONESIA          |\n",
      "|GA  |GEORGIA             |\n",
      "|GU  |GUAM                |\n",
      "|HI  |HAWAII              |\n",
      "|IA  |IOWA                |\n",
      "|ID  |IDAHO               |\n",
      "|IL  |ILLINOIS            |\n",
      "+----+--------------------+\n",
      "only showing top 20 rows\n",
      "\n"
     ]
    }
   ],
   "source": [
    "# Q3(a-c)2\n",
    "# states\n",
    "read_states = spark.read.text(states_read_name)\n",
    "\n",
    "states = (\n",
    "    read_states.select(\n",
    "        F.substring(\"value\", 1, 2).alias(\"CODE\"),                 # 1–2\n",
    "        F.trim(F.substring(\"value\", 4, 47)).alias(\"STATE_NAME\")   # 4–50  (length = 47)\n",
    "    )\n",
    ")\n",
    "\n",
    "states.printSchema()\n",
    "states.show(20, truncate=False)"
   ]
  },
  {
   "cell_type": "markdown",
   "id": "e313a575-ad27-4a3b-bc91-9d2cf0c58126",
   "metadata": {},
   "source": []
  },
  {
   "cell_type": "code",
   "execution_count": null,
   "id": "e0a6875f-8153-4af9-b12d-41095880fb6e",
   "metadata": {},
   "outputs": [],
   "source": []
  },
  {
   "cell_type": "code",
   "execution_count": 27,
   "id": "51a0e93a-329a-43be-b71c-ad795a38ab51",
   "metadata": {},
   "outputs": [
    {
     "name": "stdout",
     "output_type": "stream",
     "text": [
      "root\n",
      " |-- ID: string (nullable = true)\n",
      " |-- LATITUDE: double (nullable = true)\n",
      " |-- LONGITUDE: double (nullable = true)\n",
      " |-- ELEMENT: string (nullable = true)\n",
      " |-- FIRSTYEAR: integer (nullable = true)\n",
      " |-- LASTYEAR: integer (nullable = true)\n",
      "\n",
      "+-----------+--------+---------+-------+---------+--------+\n",
      "|ID         |LATITUDE|LONGITUDE|ELEMENT|FIRSTYEAR|LASTYEAR|\n",
      "+-----------+--------+---------+-------+---------+--------+\n",
      "|ACW00011604|17.1167 |-61.7833 |TMAX   |1949     |1949    |\n",
      "|ACW00011604|17.1167 |-61.7833 |TMIN   |1949     |1949    |\n",
      "|ACW00011604|17.1167 |-61.7833 |PRCP   |1949     |1949    |\n",
      "|ACW00011604|17.1167 |-61.7833 |SNOW   |1949     |1949    |\n",
      "|ACW00011604|17.1167 |-61.7833 |SNWD   |1949     |1949    |\n",
      "|ACW00011604|17.1167 |-61.7833 |PGTM   |1949     |1949    |\n",
      "|ACW00011604|17.1167 |-61.7833 |WDFG   |1949     |1949    |\n",
      "|ACW00011604|17.1167 |-61.7833 |WSFG   |1949     |1949    |\n",
      "|ACW00011604|17.1167 |-61.7833 |WT03   |1949     |1949    |\n",
      "|ACW00011604|17.1167 |-61.7833 |WT08   |1949     |1949    |\n",
      "|ACW00011604|17.1167 |-61.7833 |WT16   |1949     |1949    |\n",
      "|ACW00011647|17.1333 |-61.7833 |TMAX   |1961     |1961    |\n",
      "|ACW00011647|17.1333 |-61.7833 |TMIN   |1961     |1961    |\n",
      "|ACW00011647|17.1333 |-61.7833 |PRCP   |1957     |1970    |\n",
      "|ACW00011647|17.1333 |-61.7833 |SNOW   |1957     |1970    |\n",
      "|ACW00011647|17.1333 |-61.7833 |SNWD   |1957     |1970    |\n",
      "|ACW00011647|17.1333 |-61.7833 |WT03   |1961     |1961    |\n",
      "|ACW00011647|17.1333 |-61.7833 |WT16   |1961     |1966    |\n",
      "|AE000041196|25.333  |55.517   |TMAX   |1944     |2025    |\n",
      "|AE000041196|25.333  |55.517   |TMIN   |1944     |2025    |\n",
      "+-----------+--------+---------+-------+---------+--------+\n",
      "only showing top 20 rows\n",
      "\n"
     ]
    }
   ],
   "source": [
    "# Q3(d)1 \n",
    "read_inventory = spark.read.text(inventory_read_name)\n",
    "\n",
    "inventory = (\n",
    "    read_inventory.select(\n",
    "        F.substring(\"value\",  1, 11).alias(\"ID\"),                  # 1–11\n",
    "        F.trim(F.substring(\"value\", 13,  8)).cast(\"double\").alias(\"LATITUDE\"),   # 13–20\n",
    "        F.trim(F.substring(\"value\", 22,  9)).cast(\"double\").alias(\"LONGITUDE\"),  # 22–30\n",
    "        F.substring(\"value\", 32,  4).alias(\"ELEMENT\"),             # 32–35\n",
    "        F.substring(\"value\", 37,  4).cast(\"int\").alias(\"FIRSTYEAR\"),# 37–40\n",
    "        F.substring(\"value\", 42,  4).cast(\"int\").alias(\"LASTYEAR\")  # 42–45\n",
    "    )\n",
    ")\n",
    "\n",
    "inventory.printSchema()\n",
    "inventory.show(20, truncate=False)"
   ]
  },
  {
   "cell_type": "code",
   "execution_count": 28,
   "id": "4e85b719-2210-442a-b1a6-e5a448208983",
   "metadata": {},
   "outputs": [
    {
     "name": "stdout",
     "output_type": "stream",
     "text": [
      "_____________________________________________________\n",
      "Row counts (with inventory):\n",
      "[result] stations      :      129,657\n",
      "[result] countries     :          219\n",
      "[result] states        :           74\n",
      "[result] inventory     :      766,784\n",
      "[check ] stations_cc   :      766,784\n",
      "[check ] stn_countries :      766,784\n"
     ]
    }
   ],
   "source": [
    "# Q3(d)1b – Row counts check (including inventory)\n",
    "\n",
    "print(\"_____________________________________________________\")\n",
    "print(\"Row counts (with inventory):\")\n",
    "print(f\"[result] stations      : {stations.count() :12,d}\")\n",
    "print(f\"[result] countries     : {countries.count():12,d}\")\n",
    "print(f\"[result] states        : {states.count()   :12,d}\")\n",
    "print(f\"[result] inventory     : {inventory.count():12,d}\")\n",
    "print(f\"[check ] stations_cc   : {inventory.count():12,d}\")\n",
    "print(f\"[check ] stn_countries : {inventory.count():12,d}\")\n",
    "\n"
   ]
  },
  {
   "cell_type": "code",
   "execution_count": 29,
   "id": "fad8a496-6ef3-4a5d-be3f-28cfdeca10a5",
   "metadata": {},
   "outputs": [
    {
     "name": "stdout",
     "output_type": "stream",
     "text": [
      "[time]   Cell time (sec)   : 1757200327.67\n",
      "[time]   Cell time (min)   : 29286672.13\n",
      "\n",
      "_____________________________________________________\n",
      "root\n",
      " |-- ID: string (nullable = true)\n",
      " |-- FIRSTYEAR: integer (nullable = true)\n",
      " |-- LASTYEAR: integer (nullable = true)\n",
      " |-- ELEMENT_COUNT: long (nullable = false)\n",
      " |-- CORE_ELEMENT_COUNT: long (nullable = false)\n",
      " |-- OTHER_ELEMENT_COUNT: long (nullable = false)\n",
      "\n"
     ]
    },
    {
     "name": "stderr",
     "output_type": "stream",
     "text": [
      "                                                                                "
     ]
    },
    {
     "name": "stdout",
     "output_type": "stream",
     "text": [
      "+-----------+---------+--------+-------------+------------------+-------------------+\n",
      "|ID         |FIRSTYEAR|LASTYEAR|ELEMENT_COUNT|CORE_ELEMENT_COUNT|OTHER_ELEMENT_COUNT|\n",
      "+-----------+---------+--------+-------------+------------------+-------------------+\n",
      "|USW00013880|1937     |2025    |70           |5                 |65                 |\n",
      "|USW00014607|1939     |2025    |70           |5                 |65                 |\n",
      "|USW00023066|1900     |2025    |67           |5                 |62                 |\n",
      "|USW00013958|1938     |2025    |66           |5                 |61                 |\n",
      "|USW00024121|1888     |2025    |65           |5                 |60                 |\n",
      "|USW00093058|1942     |2025    |65           |5                 |60                 |\n",
      "|USW00093817|1948     |2025    |65           |5                 |60                 |\n",
      "|USW00014944|1932     |2025    |64           |5                 |59                 |\n",
      "|USW00024127|1941     |2025    |63           |5                 |58                 |\n",
      "|USW00024156|1939     |2025    |63           |5                 |58                 |\n",
      "|USW00024157|1889     |2025    |63           |5                 |58                 |\n",
      "|USW00013722|1944     |2025    |61           |5                 |56                 |\n",
      "|USW00014914|1891     |2025    |61           |5                 |56                 |\n",
      "|USW00025309|1936     |2025    |61           |5                 |56                 |\n",
      "|USW00026510|1939     |2025    |61           |5                 |56                 |\n",
      "|USW00093822|1901     |2025    |61           |5                 |56                 |\n",
      "|USW00094849|1916     |2025    |61           |5                 |56                 |\n",
      "|USW00094908|1951     |2025    |61           |5                 |56                 |\n",
      "|USW00003813|1941     |2025    |60           |5                 |55                 |\n",
      "|USW00003822|1948     |2025    |60           |5                 |55                 |\n",
      "+-----------+---------+--------+-------------+------------------+-------------------+\n",
      "only showing top 20 rows\n",
      "\n",
      "[result] Aggregated inventory rows :      129,618\n",
      "[time]   Cell time (sec)   :  3.42\n",
      "[time]   Cell time (min)   :  0.06\n"
     ]
    }
   ],
   "source": [
    "# Q3(d)2 – Aggregate inventory per station\n",
    "cell_time = time.time() \n",
    "\n",
    "print(f\"[time]   Cell time (sec)   : {cell_time:5.2f}\") \n",
    "print(f\"[time]   Cell time (min)   : {cell_time/60:5.2f}\") \n",
    "core_elements = [\"PRCP\", \"SNOW\", \"SNWD\", \"TMAX\", \"TMIN\"]\n",
    "\n",
    "inv_agg = (inventory\n",
    "           .groupBy(\"ID\")\n",
    "           .agg(\n",
    "               F.min(\"FIRSTYEAR\").alias(\"FIRSTYEAR\"),\n",
    "               F.max(\"LASTYEAR\").alias(\"LASTYEAR\"),\n",
    "               F.countDistinct(\"ELEMENT\").alias(\"ELEMENT_COUNT\"),\n",
    "               F.countDistinct(\n",
    "                   F.when(F.col(\"ELEMENT\").isin(core_elements), F.col(\"ELEMENT\"))\n",
    "               ).alias(\"CORE_ELEMENT_COUNT\"),\n",
    "               F.countDistinct(\n",
    "                   F.when(~F.col(\"ELEMENT\").isin(core_elements), F.col(\"ELEMENT\"))\n",
    "              ).alias(\"OTHER_ELEMENT_COUNT\")\n",
    "                   ).orderBy(F.col(\"CORE_ELEMENT_COUNT\").desc(),\n",
    "                        F.col(\"ELEMENT_COUNT\").desc(),\n",
    "                        F.col(\"ID\").asc())\n",
    "                        )\n",
    "print()\n",
    "print(\"_____________________________________________________\")\n",
    "inv_agg.printSchema()\n",
    "inv_agg.show(20, truncate=False)\n",
    "\n",
    "print(f\"[result] Aggregated inventory rows : {inv_agg.count():12,d}\")\n",
    "cell_time = time.time() - cell_time \n",
    "\n",
    "print(f\"[time]   Cell time (sec)   : {cell_time:5.2f}\") \n",
    "print(f\"[time]   Cell time (min)   : {cell_time/60:5.2f}\") "
   ]
  },
  {
   "cell_type": "code",
   "execution_count": 30,
   "id": "5debf8de-1d3d-4907-8943-ea1eb144336c",
   "metadata": {},
   "outputs": [
    {
     "name": "stdout",
     "output_type": "stream",
     "text": [
      "\n",
      "_____________________________________________________\n"
     ]
    },
    {
     "name": "stderr",
     "output_type": "stream",
     "text": [
      "                                                                                "
     ]
    },
    {
     "name": "stdout",
     "output_type": "stream",
     "text": [
      "[result] Enriched stations rows :      129,657\n"
     ]
    },
    {
     "name": "stderr",
     "output_type": "stream",
     "text": [
      "[Stage 79:===================>                                      (1 + 2) / 3]"
     ]
    },
    {
     "name": "stdout",
     "output_type": "stream",
     "text": [
      "+-----------+------------------------+--------------------+----------+---------+--------+-------------+------------------+-------------------+\n",
      "|ID         |NAME                    |COUNTRY_NAME        |STATE_NAME|FIRSTYEAR|LASTYEAR|ELEMENT_COUNT|CORE_ELEMENT_COUNT|OTHER_ELEMENT_COUNT|\n",
      "+-----------+------------------------+--------------------+----------+---------+--------+-------------+------------------+-------------------+\n",
      "|ACW00011604|ST JOHNS COOLIDGE FLD   |Antigua and Barbuda |NULL      |1949     |1949    |11           |5                 |6                  |\n",
      "|ACW00011647|ST JOHNS                |Antigua and Barbuda |NULL      |1957     |1970    |7            |5                 |2                  |\n",
      "|AE000041196|SHARJAH INTER. AIRP     |United Arab Emirates|NULL      |1944     |2025    |4            |3                 |1                  |\n",
      "|AEM00041194|DUBAI INTL              |United Arab Emirates|NULL      |1983     |2025    |4            |3                 |1                  |\n",
      "|AEM00041217|ABU DHABI INTL          |United Arab Emirates|NULL      |1983     |2025    |4            |3                 |1                  |\n",
      "|AEM00041218|AL AIN INTL             |United Arab Emirates|NULL      |1994     |2025    |4            |3                 |1                  |\n",
      "|AF000040930|NORTH-SALANG            |Afghanistan         |NULL      |1973     |1992    |5            |4                 |1                  |\n",
      "|AFM00040938|HERAT                   |Afghanistan         |NULL      |1973     |2021    |5            |4                 |1                  |\n",
      "|AFM00040948|KABUL INTL              |Afghanistan         |NULL      |1966     |2021    |5            |4                 |1                  |\n",
      "|AFM00040990|KANDAHAR AIRPORT        |Afghanistan         |NULL      |1973     |2020    |5            |4                 |1                  |\n",
      "|AG000060390|ALGER-DAR EL BEIDA      |Algeria             |NULL      |1940     |2025    |5            |4                 |1                  |\n",
      "|AG000060590|EL-GOLEA                |Algeria             |NULL      |1892     |2025    |4            |3                 |1                  |\n",
      "|AG000060611|IN-AMENAS               |Algeria             |NULL      |1958     |2025    |5            |4                 |1                  |\n",
      "|AG000060680|TAMANRASSET             |Algeria             |NULL      |1940     |2004    |4            |3                 |1                  |\n",
      "|AGE00135039|ORAN-HOPITAL MILITAIRE  |Algeria             |NULL      |1852     |1966    |3            |3                 |0                  |\n",
      "|AGE00147704|ANNABA-CAP DE GARDE     |Algeria             |NULL      |1909     |1937    |3            |3                 |0                  |\n",
      "|AGE00147705|ALGIERS-VILLE/UNIVERSITE|Algeria             |NULL      |1877     |1938    |3            |3                 |0                  |\n",
      "|AGE00147706|ALGIERS-BOUZAREAH       |Algeria             |NULL      |1893     |1920    |3            |3                 |0                  |\n",
      "|AGE00147707|ALGIERS-CAP CAXINE      |Algeria             |NULL      |1878     |1879    |3            |3                 |0                  |\n",
      "|AGE00147708|TIZI OUZOU              |Algeria             |NULL      |1879     |2025    |5            |4                 |1                  |\n",
      "+-----------+------------------------+--------------------+----------+---------+--------+-------------+------------------+-------------------+\n",
      "only showing top 20 rows\n",
      "\n"
     ]
    },
    {
     "name": "stderr",
     "output_type": "stream",
     "text": [
      "                                                                                "
     ]
    }
   ],
   "source": [
    "# Q3(e)1 – Join aggregated inventory into enriched stations\n",
    "\n",
    "enriched = (stn_countries   # already has station + country info\n",
    "            .join(states, stn_countries.STATE == states.CODE, \"left\")\n",
    "            .join(inv_agg, on=\"ID\", how=\"left\")\n",
    "           # ---- order the result (adjust to your preference) ----\n",
    "             .orderBy(F.col(\"ID\").asc(), F.col(\"LASTYEAR\").asc(), F.col(\"ELEMENT_COUNT\").asc())\n",
    ")\n",
    "\n",
    "print()\n",
    "print(\"_____________________________________________________\")\n",
    "print(f\"[result] Enriched stations rows : {enriched.count():12,d}\")\n",
    "enriched.select(\n",
    "                \"ID\"           ,\"NAME\"    ,\"COUNTRY_NAME\" ,\"STATE_NAME\",\n",
    "                \"FIRSTYEAR\"    ,\"LASTYEAR\",\"ELEMENT_COUNT\",\"CORE_ELEMENT_COUNT\",\"OTHER_ELEMENT_COUNT\"\n",
    "               ).show(20, truncate=False)\n"
   ]
  },
  {
   "cell_type": "code",
   "execution_count": 31,
   "id": "f43ec8e7-dda9-4a79-b7d8-54aaf11f5749",
   "metadata": {},
   "outputs": [
    {
     "name": "stderr",
     "output_type": "stream",
     "text": [
      "25/09/07 11:12:16 WARN AzureFileSystemThreadPoolExecutor: Disabling threads for Delete operation as thread count 0 is <= 1\n",
      "                                                                                "
     ]
    },
    {
     "name": "stdout",
     "output_type": "stream",
     "text": [
      "\n",
      "_____________________________________________________\n",
      "[written] enriched_write_name: wasbs://campus-user@madsstorage002.blob.core.windows.net/dew59/enriched_stations.parquet\n"
     ]
    },
    {
     "name": "stderr",
     "output_type": "stream",
     "text": [
      "25/09/07 11:12:28 WARN AzureFileSystemThreadPoolExecutor: Disabling threads for Delete operation as thread count 0 is <= 1\n"
     ]
    }
   ],
   "source": [
    "# Q3(e)2 – Save enriched stations table\n",
    "\n",
    "enriched.write.mode(\"overwrite\").parquet(enriched_write_name)\n",
    "\n",
    "print()\n",
    "print(\"_____________________________________________________\")\n",
    "print(f\"[written] enriched_write_name: {enriched_write_name}\")\n",
    "\n"
   ]
  },
  {
   "cell_type": "code",
   "execution_count": 32,
   "id": "2698cc7a-10da-410d-a39a-1ce12e4e249e",
   "metadata": {},
   "outputs": [
    {
     "name": "stdout",
     "output_type": "stream",
     "text": [
      "\n",
      "[check] marker  : wasbs://campus-user@madsstorage002.blob.core.windows.net/dew59/enriched_stations.parquet/_SUCCESS\n",
      "[check] result: 0 -> exists\n",
      "\n",
      "[check] marker  : wasbs://campus-user@madsstorage002.blob.core.windows.net/dew59/stations.parquet/_SUCCESS\n",
      "[check] result: 0 -> exists\n",
      "\n",
      "[check] marker  : wasbs://campus-user@madsstorage002.blob.core.windows.net/dew59/inventory.parquet/_SUCCESS\n",
      "[check] result: 0 -> exists\n",
      "\n",
      "[check] marker  : wasbs://campus-user@madsstorage002.blob.core.windows.net/dew59/states.parquet/_SUCCESS\n",
      "[check] result: 0 -> exists\n",
      "\n",
      "[check] marker  : wasbs://campus-user@madsstorage002.blob.core.windows.net/dew59/countries.parquet/_SUCCESS\n",
      "[check] result: 0 -> exists\n"
     ]
    }
   ],
   "source": [
    "# Q1(b)25\n",
    " #asdf\n",
    "has_enriched  = has_parquet(enriched_write_name)\n",
    "has_stations  = has_parquet(stations_write_name)\n",
    "has_inventory = has_parquet(inventory_write_name)\n",
    "has_states    = has_parquet(states_write_name)\n",
    "has_countries = has_parquet(countries_write_name)"
   ]
  },
  {
   "cell_type": "code",
   "execution_count": 33,
   "id": "8c3f4619-ae08-4d5a-b6a5-369cc6af6f3e",
   "metadata": {
    "scrolled": true
   },
   "outputs": [],
   "source": [
    "# Q1(b)26\n",
    "#build parquet files conditionally \n",
    "cell_time = time.time()\n",
    "if(not has_enriched):\n",
    "    write_parquet(enriched,enriched_write_name)\n",
    "    print(\"_____________________________________________________\")\n",
    "    print(\"[written] \",enriched_write_name)\n",
    "    cell_time = time.time()\n",
    "    print(f\"[time]   Cell time (min)   : {cell_time/60:5.2f}\")"
   ]
  },
  {
   "cell_type": "code",
   "execution_count": 34,
   "id": "886c38aa-bfd3-454b-8fee-b22a77724e52",
   "metadata": {
    "scrolled": true
   },
   "outputs": [],
   "source": [
    "# Q1(b)26a\n",
    "cell_time = time.time()\n",
    "if(not has_stations):\n",
    "    write_parquet(stations,stations_write_name)\n",
    "    print(\"_____________________________________________________\")\n",
    "    print(\"[written] \",stations_write_name)    \n",
    "    cell_time = time.time()\n",
    "    print(f\"[time]   Cell time (min)   : {cell_time/60:5.2f}\")"
   ]
  },
  {
   "cell_type": "code",
   "execution_count": 35,
   "id": "388fbb15-0b67-4a52-918a-552e7f5fdfbf",
   "metadata": {
    "scrolled": true
   },
   "outputs": [],
   "source": [
    "# Q1(b)27\n",
    "cell_time = time.time()\n",
    "\n",
    "if(not has_inventory):\n",
    "    write_parquet(inventory,inventory_write_name)\n",
    "    print(\"_____________________________________________________\")\n",
    "    print(\"[written] \",inventory_write_name)    \n",
    "    cell_time = time.time()\n",
    "    print(f\"[time]   Cell time (min)   : {cell_time/60:5.2f}\")"
   ]
  },
  {
   "cell_type": "code",
   "execution_count": 36,
   "id": "f7fea080-5ff1-42f2-a98b-6f1193e315a6",
   "metadata": {
    "scrolled": true
   },
   "outputs": [],
   "source": [
    "# Q1(b)28\n",
    "cell_time = time.time()\n",
    "if(not has_states):\n",
    "    write_parquet(states,states_write_name)\n",
    "    print(\"_____________________________________________________\")\n",
    "    print(\"[written] \",states_write_name)\n",
    "    \n",
    "    cell_time = time.time()\n",
    "    print(f\"[time]   Cell time (min)   : {cell_time/60:5.2f}\")"
   ]
  },
  {
   "cell_type": "code",
   "execution_count": 37,
   "id": "58ebe258-ab74-4063-8b85-aa7788f5879b",
   "metadata": {
    "scrolled": true
   },
   "outputs": [],
   "source": [
    "# Q1(b)29\n",
    "cell_time = time.time()\n",
    "if(not has_countries):\n",
    "    write_parquet(countries,countries_write_name)\n",
    "    print(\"_____________________________________________________\")\n",
    "    print(\"[written] \",countries_write_name)\n",
    "    cell_time = time.time()\n",
    "    print(f\"[time]   Cell time (min)   : {cell_time/60:5.2f}\")                            "
   ]
  },
  {
   "cell_type": "code",
   "execution_count": 38,
   "id": "6ce2f583-c003-4403-bc82-9f1b8d140d07",
   "metadata": {},
   "outputs": [
    {
     "name": "stdout",
     "output_type": "stream",
     "text": [
      "[CHECK] read_stations schema:\n",
      "root\n",
      " |-- value: string (nullable = true)\n",
      "\n",
      "[CHECK] stations schema:\n",
      "root\n",
      " |-- ID: string (nullable = true)\n",
      " |-- LATITUDE: double (nullable = true)\n",
      " |-- LONGITUDE: double (nullable = true)\n",
      " |-- ELEVATION: double (nullable = true)\n",
      " |-- STATE: string (nullable = true)\n",
      " |-- NAME: string (nullable = true)\n",
      " |-- GSN_FLAG: string (nullable = true)\n",
      " |-- HCNCRN_FLAG: string (nullable = true)\n",
      " |-- WMO_ID: string (nullable = true)\n",
      "\n"
     ]
    }
   ],
   "source": [
    "print(\"[CHECK] read_stations schema:\"); read_stations.printSchema()\n",
    "print(\"[CHECK] stations schema:\"); stations.printSchema()\n"
   ]
  },
  {
   "cell_type": "code",
   "execution_count": 39,
   "id": "fd4be94a-f0c7-4f23-bf82-6fcaee89fabb",
   "metadata": {},
   "outputs": [
    {
     "name": "stdout",
     "output_type": "stream",
     "text": [
      "[query] Stations with all 5 core elements: 20504\n",
      "[time] all_core_time (sec):   0.97\n",
      "[time] all_core_time (min):   0.02\n"
     ]
    }
   ],
   "source": [
    "# Q1(b) 30 – station coverage: stations with all 5 core elements\n",
    "#asdf\n",
    "from pyspark.sql import functions as F\n",
    "\n",
    "core_elements = [\"PRCP\", \"SNOW\", \"SNWD\", \"TMAX\", \"TMIN\"]\n",
    "all_core_time = time.time()\n",
    "stations_with_all_core = (inventory\n",
    "    .filter(F.col(\"ELEMENT\").isin(core_elements))\n",
    "    .groupBy(\"ID\")\n",
    "    .agg(F.countDistinct(\"ELEMENT\").alias(\"core_count\"))\n",
    "    .filter(F.col(\"core_count\") == len(core_elements))\n",
    ")\n",
    "\n",
    "count_all_core = stations_with_all_core.count()\n",
    "all_core_time  = time.time() - all_core_time\n",
    "print(\"[query] Stations with all 5 core elements:\", count_all_core)\n",
    "print(f\"[time] all_core_time (sec): {all_core_time:6.2f}\")\n",
    "print(f\"[time] all_core_time (min): {all_core_time/60:6.2f}\") "
   ]
  },
  {
   "cell_type": "code",
   "execution_count": 40,
   "id": "dcef9cef-892f-4af1-8db6-48eea710964d",
   "metadata": {},
   "outputs": [
    {
     "name": "stderr",
     "output_type": "stream",
     "text": [
      "[Stage 115:==========================================>              (6 + 2) / 8]"
     ]
    },
    {
     "name": "stdout",
     "output_type": "stream",
     "text": [
      "[coverage] Stations with only PRCP: 16267\n",
      "[time] only_prcp_time (sec):   1.07\n",
      "[time] only_prcp_time (min):   0.02\n"
     ]
    },
    {
     "name": "stderr",
     "output_type": "stream",
     "text": [
      "                                                                                "
     ]
    }
   ],
   "source": [
    "# Q1(b) 31 – station coverage: stations with only PRCP\n",
    "only_prcp_time = time.time()\n",
    "stations_with_only_prcp = (inventory\n",
    "    .groupBy(\"ID\")\n",
    "    .agg(F.collect_set(\"ELEMENT\").alias(\"elements\"))\n",
    "    .filter(F.size(\"elements\") == 1)                # only one element\n",
    "    .filter(F.array_contains(F.col(\"elements\"), \"PRCP\"))  # that element is PRCP\n",
    ")\n",
    "\n",
    "count_only_prcp = stations_with_only_prcp.count()\n",
    "only_prcp_time = time.time() - only_prcp_time\n",
    "print(\"[coverage] Stations with only PRCP:\", count_only_prcp)\n",
    "print(f\"[time] only_prcp_time (sec): {only_prcp_time:6.2f}\")\n",
    "print(f\"[time] only_prcp_time (min): {only_prcp_time/60:6.2f}\") "
   ]
  },
  {
   "cell_type": "code",
   "execution_count": 41,
   "id": "5ef0c944-c7bb-46d8-91e2-6534ff06ef86",
   "metadata": {},
   "outputs": [
    {
     "name": "stdout",
     "output_type": "stream",
     "text": [
      "\n",
      "======================================================================\n",
      "[PROBE] Station universe check :: this C2 (GOOD) notebook\n",
      "[INFO] normalise_ids() on column: ID\n",
      "[INFO] normalise_ids() on column: ID\n",
      "[INFO] normalise_ids() on column: ID\n"
     ]
    },
    {
     "name": "stderr",
     "output_type": "stream",
     "text": [
      "                                                                                "
     ]
    },
    {
     "name": "stdout",
     "output_type": "stream",
     "text": [
      "[COUNT] daily IDs         : 129619\n",
      "[COUNT] station IDs (cat) : 129657\n",
      "[COUNT] inventory IDs     : 129618\n"
     ]
    },
    {
     "name": "stderr",
     "output_type": "stream",
     "text": [
      "                                                                                "
     ]
    },
    {
     "name": "stdout",
     "output_type": "stream",
     "text": [
      "[DIFF ] daily  – station  : 0\n"
     ]
    },
    {
     "name": "stderr",
     "output_type": "stream",
     "text": [
      "                                                                                "
     ]
    },
    {
     "name": "stdout",
     "output_type": "stream",
     "text": [
      "[DIFF ] station – daily   : 38\n",
      "[DIFF ] station – inv     : 39\n"
     ]
    },
    {
     "name": "stderr",
     "output_type": "stream",
     "text": [
      "                                                                                "
     ]
    },
    {
     "name": "stdout",
     "output_type": "stream",
     "text": [
      "[DIFF ] inv     – daily   : 0\n",
      "[DIFF ] inv     – station : 0\n",
      "======================================================================\n",
      "[time] cell_time (sec): 1757201987.64\n",
      "[time] cell_time (min): 29286699.79\n"
     ]
    }
   ],
   "source": [
    "#DIAGNOSTIC 7\n",
    "cell_time = time.time() - cell_time\n",
    "probe_universe(daily, stations, inv_agg, tag=\"this C2 (GOOD) notebook\")\n",
    "cell_time = time.time() - cell_time\n",
    "print(f\"[time] cell_time (sec): {cell_time:6.2f}\")\n",
    "print(f\"[time] cell_time (min): {cell_time/60:6.2f}\") "
   ]
  },
  {
   "cell_type": "code",
   "execution_count": 42,
   "id": "743feb55-1367-4ab2-8b14-f64fc085ee51",
   "metadata": {},
   "outputs": [
    {
     "name": "stdout",
     "output_type": "stream",
     "text": [
      "[INFO] normalise_ids() on column: ID\n",
      "[INFO] normalise_ids() on column: ID\n",
      "[INFO] normalise_ids() on column: ID\n"
     ]
    },
    {
     "name": "stderr",
     "output_type": "stream",
     "text": [
      "                                                                                "
     ]
    },
    {
     "name": "stdout",
     "output_type": "stream",
     "text": [
      "[COUNT] daily IDs     : 129619\n",
      "[COUNT] inventory IDs : 129618\n",
      "[COUNT] catalogue IDs : 129657\n"
     ]
    },
    {
     "name": "stderr",
     "output_type": "stream",
     "text": [
      "                                                                                "
     ]
    },
    {
     "name": "stdout",
     "output_type": "stream",
     "text": [
      "[RESULT] Stations in stations (inventory) but not in daily:   0\n",
      "[DIAG] catalogue − inventory: 39\n",
      "[SAMPLE] First few IDs not in daily:\n"
     ]
    },
    {
     "name": "stderr",
     "output_type": "stream",
     "text": [
      "[Stage 280:====================================================>(106 + 1) / 107]"
     ]
    },
    {
     "name": "stdout",
     "output_type": "stream",
     "text": [
      "+---+\n",
      "|ID |\n",
      "+---+\n",
      "+---+\n",
      "\n",
      "[time] cell_time (sec): 1249.78\n",
      "[time] cell_time (min):  20.83\n"
     ]
    },
    {
     "name": "stderr",
     "output_type": "stream",
     "text": [
      "                                                                                "
     ]
    }
   ],
   "source": [
    "#DIAGNOSTIC 8\n",
    "cell_time = time.time() \n",
    "daily_ids      = canon_ids(daily)\n",
    "catalogue_ids  = canon_ids(stations)    # parsed ghcnd-stations.txt\n",
    "inventory_ids  = canon_ids(inv_agg)     # station universe for comparisons\n",
    "\n",
    "print(\"[COUNT] daily IDs     :\", daily_ids.count())\n",
    "print(\"[COUNT] inventory IDs :\", inventory_ids.count())\n",
    "print(\"[COUNT] catalogue IDs :\", catalogue_ids.count())\n",
    "\n",
    "# Use the inventory universe (this is what yields the familiar small number)\n",
    "stations_not_in_daily = inventory_ids.join(daily_ids, on=\"ID\", how=\"left_anti\")\n",
    "print(f\"[RESULT] Stations in stations (inventory) but not in daily: {stations_not_in_daily.count():3d}\")\n",
    "\n",
    "# Diagnostics to confirm catalogue vs inventory mismatch is tiny\n",
    "cat_minus_inv = catalogue_ids.join(inventory_ids, on=\"ID\", how=\"left_anti\").count()\n",
    "print(f\"[DIAG] catalogue − inventory: {cat_minus_inv}\")\n",
    "\n",
    "# Optional: peek at a few offending IDs\n",
    "print(\"[SAMPLE] First 50 IDs not in daily:\")\n",
    "stations_not_in_daily.orderBy(\"ID\").show(50, truncate=False)\n",
    "cell_time = time.time() - cell_time\n",
    "print(f\"[time] cell_time (sec): {cell_time:6.2f}\")\n",
    "print(f\"[time] cell_time (min): {cell_time/60:6.2f}\") "
   ]
  },
  {
   "cell_type": "code",
   "execution_count": 43,
   "id": "13557e23-280f-4d62-8066-431289a17666",
   "metadata": {},
   "outputs": [
    {
     "name": "stdout",
     "output_type": "stream",
     "text": [
      "[INFO] Building canonical ID sets …\n",
      "[INFO] normalise_ids() on column: ID\n",
      "[INFO] normalise_ids() on column: ID\n",
      "[DIAG] catalogue − inventory count: 39\n",
      "[CHECK] Top rows ordered by NULL count (highest first):\n"
     ]
    },
    {
     "name": "stderr",
     "output_type": "stream",
     "text": [
      "                                                                                "
     ]
    },
    {
     "name": "stdout",
     "output_type": "stream",
     "text": [
      "+-----------+--------+---------+---------+-----+----------------------+--------+-----------+------+-----------------+\n",
      "|ID         |LATITUDE|LONGITUDE|ELEVATION|STATE|NAME                  |GSN_FLAG|HCNCRN_FLAG|WMO_ID|nulls_in_metadata|\n",
      "+-----------+--------+---------+---------+-----+----------------------+--------+-----------+------+-----------------+\n",
      "|SWE00138044|57.3    |11.9     |5.0      |     |NIDINGEN              |        |           |      |4                |\n",
      "|SWE00139044|59.62   |16.55    |10.0     |     |VASTERAS              |        |           |      |4                |\n",
      "|SWE00139526|61.0    |14.59    |196.0    |     |MORA                  |        |           |      |4                |\n",
      "|SWE00140360|64.58   |18.65    |234.0    |     |LYCKSELE              |        |           |      |4                |\n",
      "|SWE00140450|65.04   |21.57    |4.0      |     |RONNSKAR              |        |           |      |4                |\n",
      "|SWE00140588|65.69   |20.99    |47.0     |     |ALVSBYN M 1           |        |           |      |4                |\n",
      "|GMM00010628|49.983  |7.95     |123.0    |     |GEISENHEIM            |        |           |10628 |3                |\n",
      "|US1MOSL0102|38.5861 |-90.2831 |159.7    |MO   |SHREWSBURY 2.4 E      |        |           |      |3                |\n",
      "|US1OHOT0010|40.993  |-84.0157 |226.5    |OH   |OTTAWA 2.3 SE         |        |           |      |3                |\n",
      "|US1WIJF0036|43.2056 |-88.755  |265.2    |WI   |WATERTOWN 1.8 WNW     |        |           |      |3                |\n",
      "|USC00130580|40.6608 |-94.7164 |338.3    |IA   |BEDFORD 1 SSE         |        |           |      |3                |\n",
      "|USC00131662|41.6119 |-93.7764 |268.2    |IA   |CLIVE                 |        |           |      |3                |\n",
      "|USC00132080|40.6403 |-93.8078 |277.4    |IA   |DAVIS CITY            |        |           |      |3                |\n",
      "|USC00132197|41.6139 |-93.5453 |249.9    |IA   |DES MOINES EASTON BLVD|        |           |      |3                |\n",
      "|USC00132200|41.5825 |-93.6417 |246.9    |IA   |DES MOINES FLEUR DRIVE|        |           |      |3                |\n",
      "|USC00132202|41.5636 |-93.7036 |257.6    |IA   |DES MOINES HWY 28     |        |           |      |3                |\n",
      "|USC00133000|42.5064 |-94.2025 |301.4    |IA   |FT DODGE PHINNEY PARK |        |           |      |3                |\n",
      "|USC00135558|41.8056 |-93.3083 |255.7    |IA   |MINGO 3 NNW           |        |           |      |3                |\n",
      "|USC00136115|41.4581 |-93.655  |253.0    |IA   |NORWALK 2 SE          |        |           |      |3                |\n",
      "|USC00136570|41.8356 |-94.1319 |288.0    |IA   |PERRY 1 W             |        |           |      |3                |\n",
      "|USC00137249|42.7603 |-93.6219 |354.5    |IA   |ROWAN 4 NW            |        |           |      |3                |\n",
      "|USC00137315|42.3544 |-94.9911 |355.1    |IA   |SAC CITY 5 S          |        |           |      |3                |\n",
      "|USC00138004|42.2525 |-93.9969 |285.0    |IA   |STRATFORD 4 WSW       |        |           |      |3                |\n",
      "|USC00138341|42.8367 |-92.2567 |310.9    |IA   |TRIPOLI 2N            |        |           |      |3                |\n",
      "|USC00138701|42.4953 |-92.3342 |259.1    |IA   |WATERLOO              |        |           |      |3                |\n",
      "|USC00138749|41.6531 |-93.8914 |313.9    |IA   |WAUKEE 2 NNW          |        |           |      |3                |\n",
      "|USC00142586|37.5494 |-95.2644 |274.9    |KS   |ERIE 2 SW/RIVER       |        |           |      |3                |\n",
      "|USC00144840|39.2911 |-96.2303 |290.5    |KS   |LOUISVILLE 5 NE       |        |           |      |3                |\n",
      "|USC00230031|39.6889 |-94.7042 |246.9    |MO   |AGENCY 4NE            |        |           |      |3                |\n",
      "|USC00230716|38.5547 |-93.9656 |240.8    |MO   |BLAIRSTOWN 1SW        |        |           |      |3                |\n",
      "|USC00230823|38.9169 |-92.7042 |186.5    |MO   |BOONVILLE 4SSE        |        |           |      |3                |\n",
      "|USC00232731|40.3394 |-95.4067 |286.5    |MO   |FAIRFAX 1W            |        |           |      |3                |\n",
      "|USC00232832|39.1208 |-92.5611 |192.0    |MO   |FAYETTE 6ESE          |        |           |      |3                |\n",
      "|USC00234652|39.1008 |-94.3003 |219.5    |MO   |LAKE CITY             |        |           |      |3                |\n",
      "|USC00236421|38.7039 |-92.9811 |207.3    |MO   |OTTERVILLE 1E         |        |           |      |3                |\n",
      "|USC00238558|38.87   |-93.6225 |216.4    |MO   |VALLEY CITY 1NW       |        |           |      |3                |\n",
      "|USC00253191|41.4186 |-97.7236 |469.4    |NE   |GENOA 2S              |        |           |      |3                |\n",
      "|USC00253390|40.8744 |-98.2817 |563.9    |NE   |GRAND IS 5 SE         |        |           |      |3                |\n",
      "|USC00516938|21.3497 |-157.8228|249.9    |HI   |NUUANU UPPER 782.3    |        |           |      |3                |\n",
      "+-----------+--------+---------+---------+-----+----------------------+--------+-----------+------+-----------------+\n",
      "\n"
     ]
    },
    {
     "name": "stderr",
     "output_type": "stream",
     "text": [
      "                                                                                "
     ]
    },
    {
     "name": "stdout",
     "output_type": "stream",
     "text": [
      "[INFO] Saved Parquet: diagnostics/catalogue_minus_inventory.parquet\n",
      "[INFO] Saved CSV    : diagnostics/catalogue_minus_inventory.csv\n",
      "[time] cell_time (sec):   7.39\n",
      "[time] cell_time (min):   0.12\n"
     ]
    }
   ],
   "source": [
    "#DIAGNOSTIC 9\n",
    "cell_time = time.time()  \n",
    "print(\"[INFO] Building canonical ID sets …\")\n",
    "catalogue_ids = canon_ids(stations)   # parsed ghcnd-stations.txt\n",
    "inventory_ids = canon_ids(inv_agg)    # inventory/enriched universe\n",
    "\n",
    "cat_minus_inv_ids = catalogue_ids.join(inventory_ids, on=\"ID\", how=\"left_anti\")\n",
    "print(\"[DIAG] catalogue − inventory count:\", cat_minus_inv_ids.count())  # expect ~39\n",
    "\n",
    "# Bring back station metadata for these IDs\n",
    "station_cols = [\"ID\", \"LATITUDE\", \"LONGITUDE\", \"ELEVATION\", \"STATE\", \"NAME\", \"GSN_FLAG\", \"HCNCRN_FLAG\", \"WMO_ID\"]\n",
    "suspect = (cat_minus_inv_ids\n",
    "           .join(stations.select(*station_cols), on=\"ID\", how=\"left\"))\n",
    "\n",
    "# Count NULLs across metadata to find rows with “a lot of NULL values”\n",
    "meta_cols = [c for c in station_cols if c != \"ID\"]\n",
    "null_sum_expr = sum([F.when(F.col(c).isNull() | (F.col(c) == \"\"), 1).otherwise(0) for c in meta_cols])\n",
    "suspect = suspect.withColumn(\"nulls_in_metadata\", null_sum_expr)\n",
    "\n",
    "print(\"[CHECK] Top rows ordered by NULL count (highest first):\")\n",
    "suspect.orderBy(F.col(\"nulls_in_metadata\").desc(), F.col(\"ID\")).show(50, truncate=False)\n",
    "\n",
    "# Persist for later deep dive\n",
    "diag_dir = \"diagnostics\"\n",
    "os.makedirs(diag_dir, exist_ok=True)\n",
    "parquet_path = os.path.join(diag_dir, \"catalogue_minus_inventory.parquet\")\n",
    "csv_path     = os.path.join(diag_dir, \"catalogue_minus_inventory.csv\")\n",
    "\n",
    "suspect.write.mode(\"overwrite\").parquet(parquet_path)\n",
    "# Small (≈39 rows) → safe to use pandas for a convenience CSV\n",
    "suspect_pd = suspect.orderBy(\"ID\").toPandas()\n",
    "suspect_pd.to_csv(csv_path, index=False)\n",
    "\n",
    "print(f\"[INFO] Saved Parquet: {parquet_path}\")\n",
    "print(f\"[INFO] Saved CSV    : {csv_path}\")\n",
    "cell_time = time.time() - cell_time\n",
    "print(f\"[time] cell_time (sec): {cell_time:6.2f}\")\n",
    "print(f\"[time] cell_time (min): {cell_time/60:6.2f}\") "
   ]
  },
  {
   "cell_type": "code",
   "execution_count": 44,
   "id": "216dd72b-6b41-4a3b-a564-b80bd56741f1",
   "metadata": {},
   "outputs": [
    {
     "ename": "SystemExit",
     "evalue": "[FATAL] Could not find the unfiltered daily dataset (~129k unique stations). Point to the full daily DF or its parquet path.",
     "output_type": "error",
     "traceback": [
      "An exception has occurred, use %tb to see the full traceback.\n",
      "\u001b[0;31mSystemExit\u001b[0m\u001b[0;31m:\u001b[0m [FATAL] Could not find the unfiltered daily dataset (~129k unique stations). Point to the full daily DF or its parquet path.\n"
     ]
    },
    {
     "name": "stderr",
     "output_type": "stream",
     "text": [
      "/usr/local/lib/python3.8/dist-packages/IPython/core/interactiveshell.py:3516: UserWarning: To exit: use 'exit', 'quit', or Ctrl-D.\n",
      "  warn(\"To exit: use 'exit', 'quit', or Ctrl-D.\", stacklevel=1)\n"
     ]
    }
   ],
   "source": [
    "#DIAGNOSTICS 10\n",
    "\n",
    " \n",
    "\n",
    "\n",
    "#daily_for_overlap = None\n",
    "\n",
    "# Try in-memory objects first (fastest)\n",
    "for name in [\"read_daily\", \"daily_all\", \"ghcnd_daily\", \"daily_raw\", \"daily_full\"]:\n",
    "    obj = globals().get(name)\n",
    "    if obj is not None:\n",
    "        try:\n",
    "            n = _ids(obj).count()\n",
    "            print(f\"[CHECK] {name} unique station IDs:\", n)\n",
    "            if n >= 120_000:\n",
    "                daily_for_overlap = obj\n",
    "                print(f\"[RESULT] Using in-memory {name} for overlaps.\")\n",
    "                break\n",
    "        except Exception as e:\n",
    "            print(f\"[WARN] Could not inspect {name}:\", e)\n",
    "\n",
    "# If still not found, try common path variables (change/add one if you know your exact var)\n",
    "if daily_for_overlap is None:\n",
    "    for var in [\"DAILY_READ_NAME\", \"DAILY_WRITE_NAME\", \"daily_read_name\", \"daily_write_name\", \"DAILY_NAME\"]:\n",
    "        path = globals().get(var)\n",
    "        if path:\n",
    "            try:\n",
    "                print(f\"[INFO] Trying {var} =\", path)\n",
    "                df = spark.read.parquet(str(path))\n",
    "                n = _ids(df).count()\n",
    "                print(f\"[CHECK] {var} unique station IDs:\", n)\n",
    "                if n >= 120_000:\n",
    "                    daily_for_overlap = df\n",
    "                    print(f\"[RESULT] Using {var} for overlaps.\")\n",
    "                    break\n",
    "            except Exception as e:\n",
    "                print(f\"[WARN] Could not read {var}:\", e)\n",
    "\n",
    "if daily_for_overlap is None:\n",
    "    raise SystemExit(\"[FATAL] Could not find the unfiltered daily dataset (~129k unique stations). \"\n",
    "                     \"Point to the full daily DF or its parquet path.\")\n"
   ]
  },
  {
   "cell_type": "code",
   "execution_count": null,
   "id": "3686915f-09d0-4310-9658-4ce16f55e8d1",
   "metadata": {},
   "outputs": [],
   "source": [
    "#DIAGNOSTICS 11\n",
    "daily_ids = _canon_ids(daily_for_overlap)\n",
    "inv_ids   = _canon_ids(inv_agg)\n",
    "cat_ids   = _canon_ids(stations)\n",
    "\n",
    "print(\"[COUNT] daily IDs     :\", daily_ids.count())\n",
    "print(\"[COUNT] inventory IDs :\", inv_ids.count())\n",
    "print(\"[COUNT] catalogue IDs :\", cat_ids.count())\n",
    "\n",
    "inv_not_daily = inv_ids.join(daily_ids, on=\"ID\", how=\"left_anti\")\n",
    "cat_not_daily = cat_ids.join(daily_ids, on=\"ID\", how=\"left_anti\")\n",
    "\n",
    "print(\"[RESULT] Stations (inventory) but NOT in daily:\", inv_not_daily.count())   # expect 0\n",
    "print(\"[RESULT] Stations (catalogue)  but NOT in daily:\", cat_not_daily.count())  # expect 38"
   ]
  },
  {
   "cell_type": "code",
   "execution_count": null,
   "id": "7f915d60-f802-4486-822b-192d0d54c4e0",
   "metadata": {},
   "outputs": [],
   "source": [
    "# DIAGNOSTIC CONFIRMATION 1\n",
    "# British English comments\n",
    "\n",
    "from pyspark.sql import functions as F\n",
    "\n",
    "print(\"[CHECK] daily distinct ELEMENTs (expect many if unfiltered):\")\n",
    "daily.select(\"ELEMENT\").distinct().orderBy(\"ELEMENT\").show(100, truncate=False)\n",
    "\n",
    "print(\"\\n[CHECK] daily date range:\")\n",
    "daily.select(F.min(\"DATE\").alias(\"min_date\"),\n",
    "             F.max(\"DATE\").alias(\"max_date\")).show()\n",
    "\n",
    "print(\"\\n[CHECK] sample daily rows:\")\n",
    "daily.show(5, truncate=False)\n",
    "\n",
    "# Choose the unfiltered daily DataFrame using your existing helper\n",
    "daily_for_overlap = pick_unfiltered_daily()\n",
    "print(\"[RESULT] Chosen DF for overlaps:\", daily_for_overlap)\n",
    "\n",
    "# Sanity check: should be roughly ~129k (accept ≥ 120,000)\n",
    "print(\"[CHECK] daily_for_overlap unique station IDs:\",\n",
    "      _canon_ids(daily_for_overlap).count())\n"
   ]
  },
  {
   "cell_type": "code",
   "execution_count": null,
   "id": "c3dc8c07-07d3-4e00-a975-823e47edf382",
   "metadata": {},
   "outputs": [],
   "source": [
    "# DIAGNOSTIC CONFIRMATION 2\n",
    "# British English comments\n",
    "\n",
    "from pyspark.sql import functions as F\n",
    "\n",
    "print(\"[CHECK] Starting overlap diagnostics …\")\n",
    "\n",
    "# Normalise ID sets (upper + trim + distinct) using your alias\n",
    "daily_ids     = _canon_ids(daily_for_overlap)\n",
    "inventory_ids = _canon_ids(inv_agg)      # inventory / enriched universe\n",
    "catalogue_ids = _canon_ids(stations)     # full station catalogue\n",
    "\n",
    "# Counts\n",
    "n_daily = daily_ids.count()\n",
    "n_inv   = inventory_ids.count()\n",
    "n_cat   = catalogue_ids.count()\n",
    "print(f\"[COUNT] daily IDs     : {n_daily}\")\n",
    "print(f\"[COUNT] inventory IDs : {n_inv}\")\n",
    "print(f\"[COUNT] catalogue IDs : {n_cat}\")\n",
    "\n",
    "# Single practical safeguard that previously caught issues\n",
    "if n_daily < 120_000:\n",
    "    raise SystemExit(\"[FATAL] 'daily_for_overlap' looks filtered (expected ~129k unique station IDs).\")\n",
    "\n",
    "# Overlaps\n",
    "inv_not_daily = inventory_ids.join(daily_ids, on=\"ID\", how=\"left_anti\")\n",
    "cat_not_daily = catalogue_ids.join(daily_ids, on=\"ID\", how=\"left_anti\")\n",
    "\n",
    "print(\"[RESULT] Stations (inventory) but NOT in daily:\", inv_not_daily.count())   # expect 0\n",
    "print(\"[RESULT] Stations (catalogue)  but NOT in daily:\", cat_not_daily.count())  # expect 38\n"
   ]
  },
  {
   "cell_type": "code",
   "execution_count": null,
   "id": "b40596e8-d3b9-46ea-9ecb-622f8b32d7f8",
   "metadata": {},
   "outputs": [],
   "source": [
    "# Q1(b) 32 – overlap between daily and stations\n",
    "\n",
    "cell_time = time.time()\n",
    "\n",
    "# Distinct station IDs  \n",
    "daily_ids   = daily.select(\"ID\").distinct()\n",
    "station_ids = stations.select(\"ID\").distinct()\n",
    "\n",
    "# daily AND not in stations\n",
    "Daily_NOT_Station_time      =  time.time()\n",
    "daily_NOT_in_stations       = daily_ids.join(station_ids, on=\"ID\", how=\"left_anti\")\n",
    "count_daily_NOT_in_stations = daily_NOT_in_stations.count()\n",
    "\n",
    "print(f\"[result] Stations in daily but not in stations: {count_daily_NOT_in_stations:03d}\")\n",
    "Daily_NOT_Station_time = (time.time() - Daily_NOT_Station_time)\n",
    "print(f\"[time] Daily_NOT_Station time (sec): {Daily_NOT_Station_time:6.2f}\")\n",
    "print(f\"[time] Daily_NOT_Station time (min): {Daily_NOT_Station_time/60:6.2f}\")\n",
    " \n",
    "\n",
    "# stations AND not in daily\n",
    "Stations_NOT_Daily_time     =  time.time()\n",
    "stations_not_in_daily       = station_ids.join(daily_ids, on=\"ID\", how=\"left_anti\")\n",
    "count_stations_not_in_daily = stations_not_in_daily.count()\n",
    "\n",
    "Stations_NOT_Daily_time = (time.time() - Stations_NOT_Daily_time)\n",
    "print(f\"[time] Stations_NOT_Daily time (sec): {Stations_NOT_Daily_time:6.2f}\")\n",
    "print(f\"[time] Stations_NOT_Daily time (min): {Stations_NOT_Daily_time/60:6.2f}\")\n",
    " \n",
    "print(f\"[result] Stations in daily but not in stations: {count_daily_NOT_in_stations:03d}\")\n",
    "print(f\"[result] Stations in stations but not in daily: {count_stations_not_in_daily:03d}\")\n",
    "\n",
    "cell_time = (time.time() - cell_time)\n",
    "print(f\"[time]   Cell time (sec)   : {cell_time:5.2f}\") \n",
    "print(f\"[time]   Cell time (min)   : {cell_time/60:5.2f}\") "
   ]
  },
  {
   "cell_type": "code",
   "execution_count": null,
   "id": "68b812ab-ee26-4600-96aa-3bcbff9440bf",
   "metadata": {},
   "outputs": [],
   "source": [
    "print()\n",
    "print(\"_____________________________________________________\")\n",
    "print(f\"[result] Daily size (bytes): {daily_size_bytes:16,d}\")\n",
    "print(f\"[result] meta-data  (bytes): {other_size_bytes:16,d}\")\n",
    "\n",
    "print()\n",
    "print(f\"[result] Daily size (MB)   : {daily_size_bytes / (1024**2):8.2f}\")\n",
    "print(f\"[result] meta-data  (MB)   : {other_size_bytes / (1024**2):8.2f}\")\n",
    "\n",
    "print()\n",
    "print(\"_____________________________________________________\")\n",
    "print(\"Row counts:\")\n",
    "print(f\"[result] stations : {stations.count():8,d}\")\n",
    "print(f\"[result] inventory: {inventory.count():8,d}\")\n",
    "print(f\"[result] countries: {countries.count():8,d}\")\n",
    "print(f\"[result] states   : {states.count():8,d}\")\n",
    "print(f\"[result] Total    : {(stations.count() + inventory.count() + countries.count() + states.count()):8,d}\")\n",
    "\n",
    "print()\n",
    "print(\"_____________________________________________________\")\n",
    "print(\"queries:\")\n",
    "print(f\"[result] Stations with 5 core elements: {count_all_core:12,d}\")\n",
    "print(f\"[result] Stations with  PRCP  only    : {count_only_prcp:12,d}\")\n",
    "print(f\"[time] all_core_time (sec) : {all_core_time:6.2f}\")\n",
    "print(f\"[time] only_prcp_time (sec): {only_prcp_time:6.2f}\")\n",
    "print(f\"[time] all_core_time (min) : {all_core_time/60:6.2f}\") \n",
    "print(f\"[time] only_prcp_time (min): {only_prcp_time/60:6.2f}\") \n",
    "\n",
    "print()\n",
    "print(\"_____________________________________________________\")\n",
    "print(f\"[result] Stations in daily but not in stations: {count_daily_NOT_in_stations:5,d}\")\n",
    "print(f\"[result] Stations in stations but not in daily: {count_stations_not_in_daily:5,d}\") \n",
    "print(f\"[time] Daily_NOT_Station time (sec) : {Daily_NOT_Station_time:6.2f}\")\n",
    "print(f\"[time] Daily_NOT_Station time (min) : {Daily_NOT_Station_time/60:6.2f}\")\n",
    "print(f\"[time] Stations_NOT_Daily time (sec): {Stations_NOT_Daily_time:6.2f}\")\n",
    "print(f\"[time] Stations_NOT_Daily time (min): {Stations_NOT_Daily_time/60:6.2f}\")\n",
    "\n",
    "print()\n",
    "print(\"_____________________________________________________\")\n",
    "print(f\"[file] Enriched Stations file: {stations_write_name}\")\n",
    "print(f\"[file] Inventory         file: {inventory_write_name}\")\n",
    "print(f\"[file] Countries         file: {countries_write_name}\")\n",
    "print(f\"[file] States            file: {states_write_name}\")\n",
    "\n",
    "\n",
    "notebook_run_time = time.time() - notebook_run_time\n",
    "print(f\"[time] notebook_run_time (sec): {notebook_run_time:6.2f}\") \n",
    "print(f\"[time] notebook_run_time (min): {notebook_run_time/60:6.2f}\") "
   ]
  },
  {
   "cell_type": "code",
   "execution_count": null,
   "id": "e522f6d0-2cfa-48da-8c43-b2c1557ee7fe",
   "metadata": {},
   "outputs": [],
   "source": [
    "!hdfs dfs -ls -h {WASBS_USER} "
   ]
  },
  {
   "cell_type": "code",
   "execution_count": null,
   "id": "f5173cb4-8b64-4e64-980a-64bbd447d435",
   "metadata": {},
   "outputs": [],
   "source": [
    "notebook_run_time = time.time() - notebook_run_time\n",
    "#plot_daily_size.show()\n",
    "#pie_chart.show()"
   ]
  },
  {
   "cell_type": "code",
   "execution_count": null,
   "id": "ea2318c1-9ef3-4db9-a5cb-7d028114864e",
   "metadata": {},
   "outputs": [],
   "source": [
    "# Run this cell before closing the notebook or kill your spark application by hand using the link in the Spark UI\n",
    " \n",
    "#stop_spark()"
   ]
  },
  {
   "cell_type": "code",
   "execution_count": null,
   "id": "47253f6c-7c2c-47f1-a55c-a16210d00c31",
   "metadata": {},
   "outputs": [],
   "source": []
  }
 ],
 "metadata": {
  "kernelspec": {
   "display_name": "Python 3 (ipykernel)",
   "language": "python",
   "name": "python3"
  },
  "language_info": {
   "codemirror_mode": {
    "name": "ipython",
    "version": 3
   },
   "file_extension": ".py",
   "mimetype": "text/x-python",
   "name": "python",
   "nbconvert_exporter": "python",
   "pygments_lexer": "ipython3",
   "version": "3.8.10"
  }
 },
 "nbformat": 4,
 "nbformat_minor": 5
}
